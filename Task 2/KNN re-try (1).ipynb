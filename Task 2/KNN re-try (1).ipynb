{
 "cells": [
  {
   "cell_type": "code",
   "execution_count": 1,
   "metadata": {},
   "outputs": [
    {
     "name": "stderr",
     "output_type": "stream",
     "text": [
      "<frozen importlib._bootstrap>:228: RuntimeWarning: scipy._lib.messagestream.MessageStream size changed, may indicate binary incompatibility. Expected 56 from C header, got 64 from PyObject\n"
     ]
    }
   ],
   "source": [
    "import numpy as np\n",
    "import pandas as pd\n",
    "from sklearn.neighbors import KNeighborsClassifier, KNeighborsRegressor\n",
    "from sklearn.preprocessing import StandardScaler\n",
    "from sklearn.model_selection import KFold\n",
    "from sklearn.metrics import accuracy_score, classification_report, confusion_matrix, roc_curve, auc, roc_auc_score, mean_squared_error\n",
    "from sklearn.model_selection import train_test_split\n",
    "import optuna"
   ]
  },
  {
   "cell_type": "code",
   "execution_count": 2,
   "metadata": {},
   "outputs": [],
   "source": [
    "X_train = pd.read_csv(\"aggregate_train_2.csv\")\n",
    "#X_train = X_train.drop(labels = ['Unnamed: 0'], axis = 1)\n",
    "X_train = X_train.dropna(axis = 1)\n",
    "y_train = pd.read_csv(\"Y_train_T2.csv\")\n",
    "#y_train = y_train.drop(labels = ['Unnamed: 0'], axis = 1)\n",
    "y_train = y_train[\"los_icu\"]\n",
    "\n",
    "X_valid = pd.read_csv(\"aggregate_valid_2.csv\")\n",
    "X_valid = X_valid.dropna(axis = 1)\n",
    "#X_valid = X_valid.drop(labels = ['Unnamed: 0'], axis = 1)\n",
    "y_valid = pd.read_csv(\"Y_valid_T2.csv\")\n",
    "#y_valid = y_valid.drop(labels = ['Unnamed: 0'], axis = 1)\n",
    "y_valid = y_valid[\"los_icu\"]"
   ]
  },
  {
   "cell_type": "code",
   "execution_count": 17,
   "metadata": {},
   "outputs": [
    {
     "name": "stderr",
     "output_type": "stream",
     "text": [
      "/tmp/.u3568933/ipykernel_24678/3419343273.py:11: FutureWarning: The frame.append method is deprecated and will be removed from pandas in a future version. Use pandas.concat instead.\n",
      "  X_train = X_train.append(X_valid)\n",
      "/tmp/.u3568933/ipykernel_24678/3419343273.py:12: FutureWarning: The series.append method is deprecated and will be removed from pandas in a future version. Use pandas.concat instead.\n",
      "  y_train = y_train.append(y_valid)\n"
     ]
    }
   ],
   "source": [
    "y_train = pd.read_csv(\"Y_train.csv\")\n",
    "y_train= y_train[\"mort_icu\"]\n",
    "y_valid = pd.read_csv(\"Y_valid.csv\")\n",
    "y_valid = y_valid[\"mort_icu\"]\n",
    "\n",
    "X_train = pd.read_csv(\"X_train_new.csv\")\n",
    "X_train = X_train.dropna(axis = 1)\n",
    "X_valid = pd.read_csv(\"X_valid_new.csv\")\n",
    "X_valid = X_valid.dropna(axis = 1)\n",
    "\n",
    "X_train = X_train.append(X_valid)\n",
    "y_train = y_train.append(y_valid)"
   ]
  },
  {
   "cell_type": "code",
   "execution_count": 18,
   "metadata": {},
   "outputs": [],
   "source": [
    "def objective(trial,data=X_train,target=y_train):\n",
    "    \n",
    "    train_x, test_x, train_y, test_y = train_test_split(data, target, test_size=0.15,random_state=42)\n",
    "    param = {\n",
    "        'n_neighbors': trial.suggest_categorical('n_neighbors', [1, 3, 5, 7, 9, 11, 13, 15]),\n",
    "        'weights': trial.suggest_categorical(\"weights\", [\"uniform\", \"distance\"]),\n",
    "        'algorithm': trial.suggest_categorical(\"algorithm\", [\"auto\", \"ball_tree\", \"kd_tree\", \"brute\"])        \n",
    "    }\n",
    "    model = KNeighborsClassifier(**param)  \n",
    "    \n",
    "    model.fit(train_x,train_y)\n",
    "    \n",
    "    y_valid_scores = model.predict_proba(test_x)[:, 1]\n",
    "    fpr, tpr, threshold = roc_curve(test_y, y_valid_scores)\n",
    "    auc_valid = auc(fpr, tpr)\n",
    "\n",
    "    return auc_valid"
   ]
  },
  {
   "cell_type": "code",
   "execution_count": 19,
   "metadata": {},
   "outputs": [
    {
     "name": "stderr",
     "output_type": "stream",
     "text": [
      "\u001b[32m[I 2022-11-26 12:56:13,333]\u001b[0m A new study created in memory with name: no-name-5d3a7a37-dcc6-47b0-aae7-fcb856226728\u001b[0m\n",
      "\u001b[32m[I 2022-11-26 12:56:14,095]\u001b[0m Trial 0 finished with value: 0.5850537558850396 and parameters: {'n_neighbors': 1, 'weights': 'distance', 'algorithm': 'auto'}. Best is trial 0 with value: 0.5850537558850396.\u001b[0m\n",
      "\u001b[32m[I 2022-11-26 12:56:14,843]\u001b[0m Trial 1 finished with value: 0.5850537558850396 and parameters: {'n_neighbors': 1, 'weights': 'uniform', 'algorithm': 'brute'}. Best is trial 0 with value: 0.5850537558850396.\u001b[0m\n",
      "\u001b[32m[I 2022-11-26 12:56:34,361]\u001b[0m Trial 2 finished with value: 0.7485427939006395 and parameters: {'n_neighbors': 9, 'weights': 'uniform', 'algorithm': 'ball_tree'}. Best is trial 2 with value: 0.7485427939006395.\u001b[0m\n",
      "\u001b[32m[I 2022-11-26 12:56:35,129]\u001b[0m Trial 3 finished with value: 0.6949862975194997 and parameters: {'n_neighbors': 5, 'weights': 'uniform', 'algorithm': 'brute'}. Best is trial 2 with value: 0.7485427939006395.\u001b[0m\n",
      "\u001b[32m[I 2022-11-26 12:56:35,938]\u001b[0m Trial 4 finished with value: 0.7512657227180101 and parameters: {'n_neighbors': 9, 'weights': 'distance', 'algorithm': 'auto'}. Best is trial 4 with value: 0.7512657227180101.\u001b[0m\n",
      "\u001b[32m[I 2022-11-26 12:56:36,671]\u001b[0m Trial 5 finished with value: 0.6556285573747453 and parameters: {'n_neighbors': 3, 'weights': 'distance', 'algorithm': 'brute'}. Best is trial 4 with value: 0.7512657227180101.\u001b[0m\n",
      "\u001b[32m[I 2022-11-26 12:56:37,390]\u001b[0m Trial 6 finished with value: 0.6988906260979552 and parameters: {'n_neighbors': 5, 'weights': 'distance', 'algorithm': 'auto'}. Best is trial 4 with value: 0.7512657227180101.\u001b[0m\n",
      "\u001b[32m[I 2022-11-26 12:56:38,283]\u001b[0m Trial 7 finished with value: 0.756270641557164 and parameters: {'n_neighbors': 11, 'weights': 'uniform', 'algorithm': 'brute'}. Best is trial 7 with value: 0.756270641557164.\u001b[0m\n",
      "\u001b[32m[I 2022-11-26 12:57:01,198]\u001b[0m Trial 8 finished with value: 0.7735085376993887 and parameters: {'n_neighbors': 15, 'weights': 'uniform', 'algorithm': 'kd_tree'}. Best is trial 8 with value: 0.7735085376993887.\u001b[0m\n",
      "\u001b[32m[I 2022-11-26 12:57:21,089]\u001b[0m Trial 9 finished with value: 0.7662971681540299 and parameters: {'n_neighbors': 13, 'weights': 'distance', 'algorithm': 'ball_tree'}. Best is trial 8 with value: 0.7735085376993887.\u001b[0m\n",
      "\u001b[32m[I 2022-11-26 12:57:43,658]\u001b[0m Trial 10 finished with value: 0.7735085376993887 and parameters: {'n_neighbors': 15, 'weights': 'uniform', 'algorithm': 'kd_tree'}. Best is trial 8 with value: 0.7735085376993887.\u001b[0m\n",
      "\u001b[32m[I 2022-11-26 12:58:06,753]\u001b[0m Trial 11 finished with value: 0.7735085376993887 and parameters: {'n_neighbors': 15, 'weights': 'uniform', 'algorithm': 'kd_tree'}. Best is trial 8 with value: 0.7735085376993887.\u001b[0m\n",
      "\u001b[32m[I 2022-11-26 12:58:29,373]\u001b[0m Trial 12 finished with value: 0.7735085376993887 and parameters: {'n_neighbors': 15, 'weights': 'uniform', 'algorithm': 'kd_tree'}. Best is trial 8 with value: 0.7735085376993887.\u001b[0m\n",
      "\u001b[32m[I 2022-11-26 12:58:52,091]\u001b[0m Trial 13 finished with value: 0.7735085376993887 and parameters: {'n_neighbors': 15, 'weights': 'uniform', 'algorithm': 'kd_tree'}. Best is trial 8 with value: 0.7735085376993887.\u001b[0m\n",
      "\u001b[32m[I 2022-11-26 12:59:14,502]\u001b[0m Trial 14 finished with value: 0.7273250298643806 and parameters: {'n_neighbors': 7, 'weights': 'uniform', 'algorithm': 'kd_tree'}. Best is trial 8 with value: 0.7735085376993887.\u001b[0m\n",
      "\u001b[32m[I 2022-11-26 12:59:37,078]\u001b[0m Trial 15 finished with value: 0.7735085376993887 and parameters: {'n_neighbors': 15, 'weights': 'uniform', 'algorithm': 'kd_tree'}. Best is trial 8 with value: 0.7735085376993887.\u001b[0m\n",
      "\u001b[32m[I 2022-11-26 12:59:59,680]\u001b[0m Trial 16 finished with value: 0.7735085376993887 and parameters: {'n_neighbors': 15, 'weights': 'uniform', 'algorithm': 'kd_tree'}. Best is trial 8 with value: 0.7735085376993887.\u001b[0m\n",
      "\u001b[32m[I 2022-11-26 13:00:22,028]\u001b[0m Trial 17 finished with value: 0.7273250298643806 and parameters: {'n_neighbors': 7, 'weights': 'uniform', 'algorithm': 'kd_tree'}. Best is trial 8 with value: 0.7735085376993887.\u001b[0m\n",
      "\u001b[32m[I 2022-11-26 13:00:44,450]\u001b[0m Trial 18 finished with value: 0.756270641557164 and parameters: {'n_neighbors': 11, 'weights': 'uniform', 'algorithm': 'kd_tree'}. Best is trial 8 with value: 0.7735085376993887.\u001b[0m\n",
      "\u001b[32m[I 2022-11-26 13:01:03,742]\u001b[0m Trial 19 finished with value: 0.6535889958541213 and parameters: {'n_neighbors': 3, 'weights': 'uniform', 'algorithm': 'ball_tree'}. Best is trial 8 with value: 0.7735085376993887.\u001b[0m\n",
      "\u001b[32m[I 2022-11-26 13:01:26,610]\u001b[0m Trial 20 finished with value: 0.7735085376993887 and parameters: {'n_neighbors': 15, 'weights': 'uniform', 'algorithm': 'kd_tree'}. Best is trial 8 with value: 0.7735085376993887.\u001b[0m\n",
      "\u001b[32m[I 2022-11-26 13:01:49,419]\u001b[0m Trial 21 finished with value: 0.7735085376993887 and parameters: {'n_neighbors': 15, 'weights': 'uniform', 'algorithm': 'kd_tree'}. Best is trial 8 with value: 0.7735085376993887.\u001b[0m\n",
      "\u001b[32m[I 2022-11-26 13:02:12,306]\u001b[0m Trial 22 finished with value: 0.7735085376993887 and parameters: {'n_neighbors': 15, 'weights': 'uniform', 'algorithm': 'kd_tree'}. Best is trial 8 with value: 0.7735085376993887.\u001b[0m\n",
      "\u001b[32m[I 2022-11-26 13:02:34,615]\u001b[0m Trial 23 finished with value: 0.7735085376993887 and parameters: {'n_neighbors': 15, 'weights': 'uniform', 'algorithm': 'kd_tree'}. Best is trial 8 with value: 0.7735085376993887.\u001b[0m\n",
      "\u001b[32m[I 2022-11-26 13:02:56,729]\u001b[0m Trial 24 finished with value: 0.7629857353664535 and parameters: {'n_neighbors': 13, 'weights': 'uniform', 'algorithm': 'kd_tree'}. Best is trial 8 with value: 0.7735085376993887.\u001b[0m\n",
      "\u001b[32m[I 2022-11-26 13:03:19,028]\u001b[0m Trial 25 finished with value: 0.7735085376993887 and parameters: {'n_neighbors': 15, 'weights': 'uniform', 'algorithm': 'kd_tree'}. Best is trial 8 with value: 0.7735085376993887.\u001b[0m\n",
      "\u001b[32m[I 2022-11-26 13:03:41,158]\u001b[0m Trial 26 finished with value: 0.7735085376993887 and parameters: {'n_neighbors': 15, 'weights': 'uniform', 'algorithm': 'kd_tree'}. Best is trial 8 with value: 0.7735085376993887.\u001b[0m\n",
      "\u001b[32m[I 2022-11-26 13:04:00,662]\u001b[0m Trial 27 finished with value: 0.7771449652167802 and parameters: {'n_neighbors': 15, 'weights': 'distance', 'algorithm': 'ball_tree'}. Best is trial 27 with value: 0.7771449652167802.\u001b[0m\n",
      "\u001b[32m[I 2022-11-26 13:04:19,792]\u001b[0m Trial 28 finished with value: 0.5850537558850396 and parameters: {'n_neighbors': 1, 'weights': 'distance', 'algorithm': 'ball_tree'}. Best is trial 27 with value: 0.7771449652167802.\u001b[0m\n",
      "\u001b[32m[I 2022-11-26 13:04:39,233]\u001b[0m Trial 29 finished with value: 0.7299100555126133 and parameters: {'n_neighbors': 7, 'weights': 'distance', 'algorithm': 'ball_tree'}. Best is trial 27 with value: 0.7771449652167802.\u001b[0m\n",
      "\u001b[32m[I 2022-11-26 13:04:39,924]\u001b[0m Trial 30 finished with value: 0.7512657227180101 and parameters: {'n_neighbors': 9, 'weights': 'distance', 'algorithm': 'auto'}. Best is trial 27 with value: 0.7771449652167802.\u001b[0m\n",
      "\u001b[32m[I 2022-11-26 13:04:59,102]\u001b[0m Trial 31 finished with value: 0.7771449652167802 and parameters: {'n_neighbors': 15, 'weights': 'distance', 'algorithm': 'ball_tree'}. Best is trial 27 with value: 0.7771449652167802.\u001b[0m\n",
      "\u001b[32m[I 2022-11-26 13:05:18,207]\u001b[0m Trial 32 finished with value: 0.5850537558850396 and parameters: {'n_neighbors': 1, 'weights': 'distance', 'algorithm': 'ball_tree'}. Best is trial 27 with value: 0.7771449652167802.\u001b[0m\n",
      "\u001b[32m[I 2022-11-26 13:05:37,627]\u001b[0m Trial 33 finished with value: 0.7771449652167802 and parameters: {'n_neighbors': 15, 'weights': 'distance', 'algorithm': 'ball_tree'}. Best is trial 27 with value: 0.7771449652167802.\u001b[0m\n",
      "\u001b[32m[I 2022-11-26 13:05:56,651]\u001b[0m Trial 34 finished with value: 0.6988906260979552 and parameters: {'n_neighbors': 5, 'weights': 'distance', 'algorithm': 'ball_tree'}. Best is trial 27 with value: 0.7771449652167802.\u001b[0m\n",
      "\u001b[32m[I 2022-11-26 13:06:16,127]\u001b[0m Trial 35 finished with value: 0.7771449652167802 and parameters: {'n_neighbors': 15, 'weights': 'distance', 'algorithm': 'ball_tree'}. Best is trial 27 with value: 0.7771449652167802.\u001b[0m\n",
      "\u001b[32m[I 2022-11-26 13:06:35,035]\u001b[0m Trial 36 finished with value: 0.6556285573747453 and parameters: {'n_neighbors': 3, 'weights': 'distance', 'algorithm': 'ball_tree'}. Best is trial 27 with value: 0.7771449652167802.\u001b[0m\n",
      "\u001b[32m[I 2022-11-26 13:06:54,207]\u001b[0m Trial 37 finished with value: 0.7512657227180101 and parameters: {'n_neighbors': 9, 'weights': 'distance', 'algorithm': 'ball_tree'}. Best is trial 27 with value: 0.7771449652167802.\u001b[0m\n",
      "\u001b[32m[I 2022-11-26 13:07:13,283]\u001b[0m Trial 38 finished with value: 0.7771449652167802 and parameters: {'n_neighbors': 15, 'weights': 'distance', 'algorithm': 'ball_tree'}. Best is trial 27 with value: 0.7771449652167802.\u001b[0m\n",
      "\u001b[32m[I 2022-11-26 13:07:32,325]\u001b[0m Trial 39 finished with value: 0.7662971681540299 and parameters: {'n_neighbors': 13, 'weights': 'distance', 'algorithm': 'ball_tree'}. Best is trial 27 with value: 0.7771449652167802.\u001b[0m\n",
      "\u001b[32m[I 2022-11-26 13:07:51,183]\u001b[0m Trial 40 finished with value: 0.7596128170894527 and parameters: {'n_neighbors': 11, 'weights': 'distance', 'algorithm': 'ball_tree'}. Best is trial 27 with value: 0.7771449652167802.\u001b[0m\n",
      "\u001b[32m[I 2022-11-26 13:08:10,060]\u001b[0m Trial 41 finished with value: 0.7771449652167802 and parameters: {'n_neighbors': 15, 'weights': 'distance', 'algorithm': 'ball_tree'}. Best is trial 27 with value: 0.7771449652167802.\u001b[0m\n",
      "\u001b[32m[I 2022-11-26 13:08:29,311]\u001b[0m Trial 42 finished with value: 0.7771449652167802 and parameters: {'n_neighbors': 15, 'weights': 'distance', 'algorithm': 'ball_tree'}. Best is trial 27 with value: 0.7771449652167802.\u001b[0m\n",
      "\u001b[32m[I 2022-11-26 13:08:29,974]\u001b[0m Trial 43 finished with value: 0.6988906260979552 and parameters: {'n_neighbors': 5, 'weights': 'distance', 'algorithm': 'brute'}. Best is trial 27 with value: 0.7771449652167802.\u001b[0m\n",
      "\u001b[32m[I 2022-11-26 13:08:49,215]\u001b[0m Trial 44 finished with value: 0.7771449652167802 and parameters: {'n_neighbors': 15, 'weights': 'distance', 'algorithm': 'ball_tree'}. Best is trial 27 with value: 0.7771449652167802.\u001b[0m\n",
      "\u001b[32m[I 2022-11-26 13:09:08,307]\u001b[0m Trial 45 finished with value: 0.7771449652167802 and parameters: {'n_neighbors': 15, 'weights': 'distance', 'algorithm': 'ball_tree'}. Best is trial 27 with value: 0.7771449652167802.\u001b[0m\n",
      "\u001b[32m[I 2022-11-26 13:09:08,988]\u001b[0m Trial 46 finished with value: 0.7771449652167802 and parameters: {'n_neighbors': 15, 'weights': 'distance', 'algorithm': 'auto'}. Best is trial 27 with value: 0.7771449652167802.\u001b[0m\n",
      "\u001b[32m[I 2022-11-26 13:09:09,610]\u001b[0m Trial 47 finished with value: 0.5850537558850396 and parameters: {'n_neighbors': 1, 'weights': 'distance', 'algorithm': 'auto'}. Best is trial 27 with value: 0.7771449652167802.\u001b[0m\n",
      "\u001b[32m[I 2022-11-26 13:09:28,563]\u001b[0m Trial 48 finished with value: 0.7771449652167802 and parameters: {'n_neighbors': 15, 'weights': 'distance', 'algorithm': 'ball_tree'}. Best is trial 27 with value: 0.7771449652167802.\u001b[0m\n",
      "\u001b[32m[I 2022-11-26 13:09:29,223]\u001b[0m Trial 49 finished with value: 0.6556285573747453 and parameters: {'n_neighbors': 3, 'weights': 'distance', 'algorithm': 'auto'}. Best is trial 27 with value: 0.7771449652167802.\u001b[0m\n",
      "\u001b[32m[I 2022-11-26 13:09:30,056]\u001b[0m Trial 50 finished with value: 0.7771449652167802 and parameters: {'n_neighbors': 15, 'weights': 'distance', 'algorithm': 'auto'}. Best is trial 27 with value: 0.7771449652167802.\u001b[0m\n",
      "\u001b[32m[I 2022-11-26 13:09:30,720]\u001b[0m Trial 51 finished with value: 0.7771449652167802 and parameters: {'n_neighbors': 15, 'weights': 'distance', 'algorithm': 'brute'}. Best is trial 27 with value: 0.7771449652167802.\u001b[0m\n",
      "\u001b[32m[I 2022-11-26 13:09:31,428]\u001b[0m Trial 52 finished with value: 0.7771449652167802 and parameters: {'n_neighbors': 15, 'weights': 'distance', 'algorithm': 'brute'}. Best is trial 27 with value: 0.7771449652167802.\u001b[0m\n",
      "\u001b[32m[I 2022-11-26 13:09:32,083]\u001b[0m Trial 53 finished with value: 0.7771449652167802 and parameters: {'n_neighbors': 15, 'weights': 'distance', 'algorithm': 'brute'}. Best is trial 27 with value: 0.7771449652167802.\u001b[0m\n",
      "\u001b[32m[I 2022-11-26 13:09:32,769]\u001b[0m Trial 54 finished with value: 0.7596128170894527 and parameters: {'n_neighbors': 11, 'weights': 'distance', 'algorithm': 'brute'}. Best is trial 27 with value: 0.7771449652167802.\u001b[0m\n",
      "\u001b[32m[I 2022-11-26 13:09:51,811]\u001b[0m Trial 55 finished with value: 0.7771449652167802 and parameters: {'n_neighbors': 15, 'weights': 'distance', 'algorithm': 'ball_tree'}. Best is trial 27 with value: 0.7771449652167802.\u001b[0m\n",
      "\u001b[32m[I 2022-11-26 13:09:52,429]\u001b[0m Trial 56 finished with value: 0.7512657227180101 and parameters: {'n_neighbors': 9, 'weights': 'distance', 'algorithm': 'brute'}. Best is trial 27 with value: 0.7771449652167802.\u001b[0m\n",
      "\u001b[32m[I 2022-11-26 13:09:53,088]\u001b[0m Trial 57 finished with value: 0.7771449652167802 and parameters: {'n_neighbors': 15, 'weights': 'distance', 'algorithm': 'brute'}. Best is trial 27 with value: 0.7771449652167802.\u001b[0m\n",
      "\u001b[32m[I 2022-11-26 13:09:53,745]\u001b[0m Trial 58 finished with value: 0.7662971681540299 and parameters: {'n_neighbors': 13, 'weights': 'distance', 'algorithm': 'auto'}. Best is trial 27 with value: 0.7771449652167802.\u001b[0m\n",
      "\u001b[32m[I 2022-11-26 13:09:54,439]\u001b[0m Trial 59 finished with value: 0.7299100555126133 and parameters: {'n_neighbors': 7, 'weights': 'distance', 'algorithm': 'brute'}. Best is trial 27 with value: 0.7771449652167802.\u001b[0m\n",
      "\u001b[32m[I 2022-11-26 13:09:55,240]\u001b[0m Trial 60 finished with value: 0.7771449652167802 and parameters: {'n_neighbors': 15, 'weights': 'distance', 'algorithm': 'brute'}. Best is trial 27 with value: 0.7771449652167802.\u001b[0m\n",
      "\u001b[32m[I 2022-11-26 13:10:14,349]\u001b[0m Trial 61 finished with value: 0.7771449652167802 and parameters: {'n_neighbors': 15, 'weights': 'distance', 'algorithm': 'ball_tree'}. Best is trial 27 with value: 0.7771449652167802.\u001b[0m\n",
      "\u001b[32m[I 2022-11-26 13:10:15,015]\u001b[0m Trial 62 finished with value: 0.7771449652167802 and parameters: {'n_neighbors': 15, 'weights': 'distance', 'algorithm': 'auto'}. Best is trial 27 with value: 0.7771449652167802.\u001b[0m\n",
      "\u001b[32m[I 2022-11-26 13:10:34,029]\u001b[0m Trial 63 finished with value: 0.7771449652167802 and parameters: {'n_neighbors': 15, 'weights': 'distance', 'algorithm': 'ball_tree'}. Best is trial 27 with value: 0.7771449652167802.\u001b[0m\n"
     ]
    },
    {
     "name": "stdout",
     "output_type": "stream",
     "text": [
      "Number of finished trials: 64\n",
      "Best trial: {'n_neighbors': 15, 'weights': 'distance', 'algorithm': 'ball_tree'}\n"
     ]
    }
   ],
   "source": [
    "study = optuna.create_study(direction='maximize')\n",
    "study.optimize(objective, n_trials=64)\n",
    "print('Number of finished trials:', len(study.trials))\n",
    "print('Best trial:', study.best_trial.params)"
   ]
  },
  {
   "cell_type": "code",
   "execution_count": 3,
   "metadata": {},
   "outputs": [],
   "source": [
    "def objective(trial,data=X_train,target=y_train):\n",
    "    \n",
    "    train_x, test_x, train_y, test_y = train_test_split(data, target, test_size=0.15,random_state=42)\n",
    "    param = {\n",
    "        'n_neighbors': trial.suggest_categorical('n_neighbors', [1, 3, 5, 7, 9, 11, 13, 15, 17, 19]),\n",
    "        'weights': trial.suggest_categorical(\"weights\", [\"uniform\", \"distance\"]),\n",
    "        'algorithm': trial.suggest_categorical(\"algorithm\", [\"auto\", \"ball_tree\", \"kd_tree\", \"brute\"])        \n",
    "    }\n",
    "    model = KNeighborsRegressor(**param)  \n",
    "    \n",
    "    model.fit(train_x,train_y)\n",
    "    \n",
    "    y_valid_scores = model.predict(test_x)\n",
    "    rmse_valid =  mean_squared_error(test_y, y_valid_scores, squared = False)\n",
    "\n",
    "    return rmse_valid"
   ]
  },
  {
   "cell_type": "code",
   "execution_count": 5,
   "metadata": {},
   "outputs": [
    {
     "name": "stderr",
     "output_type": "stream",
     "text": [
      "\u001b[32m[I 2022-12-06 14:54:29,853]\u001b[0m A new study created in memory with name: no-name-d02af165-9394-400e-aa52-e3a77b363df2\u001b[0m\n",
      "\u001b[32m[I 2022-12-06 14:54:48,608]\u001b[0m Trial 0 finished with value: 1.8739833815655145 and parameters: {'n_neighbors': 11, 'weights': 'distance', 'algorithm': 'kd_tree'}. Best is trial 0 with value: 1.8739833815655145.\u001b[0m\n",
      "\u001b[32m[I 2022-12-06 14:55:07,817]\u001b[0m Trial 1 finished with value: 1.854418802881647 and parameters: {'n_neighbors': 15, 'weights': 'distance', 'algorithm': 'kd_tree'}. Best is trial 1 with value: 1.854418802881647.\u001b[0m\n",
      "\u001b[32m[I 2022-12-06 14:55:26,372]\u001b[0m Trial 2 finished with value: 1.9472510430592977 and parameters: {'n_neighbors': 5, 'weights': 'uniform', 'algorithm': 'kd_tree'}. Best is trial 1 with value: 1.854418802881647.\u001b[0m\n",
      "\u001b[32m[I 2022-12-06 14:55:45,235]\u001b[0m Trial 3 finished with value: 1.8767764887396348 and parameters: {'n_neighbors': 9, 'weights': 'uniform', 'algorithm': 'kd_tree'}. Best is trial 1 with value: 1.854418802881647.\u001b[0m\n",
      "\u001b[32m[I 2022-12-06 14:56:02,745]\u001b[0m Trial 4 finished with value: 2.0597136521491968 and parameters: {'n_neighbors': 3, 'weights': 'uniform', 'algorithm': 'ball_tree'}. Best is trial 1 with value: 1.854418802881647.\u001b[0m\n",
      "\u001b[32m[I 2022-12-06 14:56:20,606]\u001b[0m Trial 5 finished with value: 2.4727461466595204 and parameters: {'n_neighbors': 1, 'weights': 'uniform', 'algorithm': 'kd_tree'}. Best is trial 1 with value: 1.854418802881647.\u001b[0m\n",
      "\u001b[32m[I 2022-12-06 14:56:38,264]\u001b[0m Trial 6 finished with value: 1.8546740845402696 and parameters: {'n_neighbors': 15, 'weights': 'uniform', 'algorithm': 'ball_tree'}. Best is trial 1 with value: 1.854418802881647.\u001b[0m\n",
      "\u001b[32m[I 2022-12-06 14:56:38,640]\u001b[0m Trial 7 finished with value: 1.8544188028816473 and parameters: {'n_neighbors': 15, 'weights': 'distance', 'algorithm': 'brute'}. Best is trial 1 with value: 1.854418802881647.\u001b[0m\n",
      "\u001b[32m[I 2022-12-06 14:56:56,451]\u001b[0m Trial 8 finished with value: 1.8546740845402696 and parameters: {'n_neighbors': 15, 'weights': 'uniform', 'algorithm': 'ball_tree'}. Best is trial 1 with value: 1.854418802881647.\u001b[0m\n",
      "\u001b[32m[I 2022-12-06 14:56:56,812]\u001b[0m Trial 9 finished with value: 1.9481018137149282 and parameters: {'n_neighbors': 5, 'weights': 'distance', 'algorithm': 'auto'}. Best is trial 1 with value: 1.854418802881647.\u001b[0m\n",
      "\u001b[32m[I 2022-12-06 14:56:57,166]\u001b[0m Trial 10 finished with value: 1.893929757694863 and parameters: {'n_neighbors': 7, 'weights': 'distance', 'algorithm': 'auto'}. Best is trial 1 with value: 1.854418802881647.\u001b[0m\n",
      "\u001b[32m[I 2022-12-06 14:56:57,534]\u001b[0m Trial 11 finished with value: 1.8544188028816473 and parameters: {'n_neighbors': 15, 'weights': 'distance', 'algorithm': 'brute'}. Best is trial 1 with value: 1.854418802881647.\u001b[0m\n",
      "\u001b[32m[I 2022-12-06 14:56:57,897]\u001b[0m Trial 12 finished with value: 1.8623692657151074 and parameters: {'n_neighbors': 13, 'weights': 'distance', 'algorithm': 'brute'}. Best is trial 1 with value: 1.854418802881647.\u001b[0m\n",
      "\u001b[32m[I 2022-12-06 14:56:58,265]\u001b[0m Trial 13 finished with value: 1.8544188028816473 and parameters: {'n_neighbors': 15, 'weights': 'distance', 'algorithm': 'brute'}. Best is trial 1 with value: 1.854418802881647.\u001b[0m\n",
      "\u001b[32m[I 2022-12-06 14:56:58,631]\u001b[0m Trial 14 finished with value: 1.8544188028816473 and parameters: {'n_neighbors': 15, 'weights': 'distance', 'algorithm': 'brute'}. Best is trial 1 with value: 1.854418802881647.\u001b[0m\n",
      "\u001b[32m[I 2022-12-06 14:57:17,731]\u001b[0m Trial 15 finished with value: 2.0600868363855724 and parameters: {'n_neighbors': 3, 'weights': 'distance', 'algorithm': 'kd_tree'}. Best is trial 1 with value: 1.854418802881647.\u001b[0m\n",
      "\u001b[32m[I 2022-12-06 14:57:18,102]\u001b[0m Trial 16 finished with value: 1.8773960439116868 and parameters: {'n_neighbors': 9, 'weights': 'distance', 'algorithm': 'brute'}. Best is trial 1 with value: 1.854418802881647.\u001b[0m\n",
      "\u001b[32m[I 2022-12-06 14:57:18,481]\u001b[0m Trial 17 finished with value: 1.8623692657151074 and parameters: {'n_neighbors': 13, 'weights': 'distance', 'algorithm': 'auto'}. Best is trial 1 with value: 1.854418802881647.\u001b[0m\n",
      "\u001b[32m[I 2022-12-06 14:57:37,868]\u001b[0m Trial 18 finished with value: 1.8739833815655145 and parameters: {'n_neighbors': 11, 'weights': 'distance', 'algorithm': 'kd_tree'}. Best is trial 1 with value: 1.854418802881647.\u001b[0m\n",
      "\u001b[32m[I 2022-12-06 14:57:38,216]\u001b[0m Trial 19 finished with value: 2.4727461466595204 and parameters: {'n_neighbors': 1, 'weights': 'distance', 'algorithm': 'brute'}. Best is trial 1 with value: 1.854418802881647.\u001b[0m\n",
      "\u001b[32m[I 2022-12-06 14:57:57,282]\u001b[0m Trial 20 finished with value: 1.893929757694863 and parameters: {'n_neighbors': 7, 'weights': 'distance', 'algorithm': 'kd_tree'}. Best is trial 1 with value: 1.854418802881647.\u001b[0m\n",
      "\u001b[32m[I 2022-12-06 14:57:57,695]\u001b[0m Trial 21 finished with value: 1.8544188028816473 and parameters: {'n_neighbors': 15, 'weights': 'distance', 'algorithm': 'brute'}. Best is trial 1 with value: 1.854418802881647.\u001b[0m\n",
      "\u001b[32m[I 2022-12-06 14:57:58,058]\u001b[0m Trial 22 finished with value: 1.8544188028816473 and parameters: {'n_neighbors': 15, 'weights': 'distance', 'algorithm': 'brute'}. Best is trial 1 with value: 1.854418802881647.\u001b[0m\n",
      "\u001b[32m[I 2022-12-06 14:57:58,433]\u001b[0m Trial 23 finished with value: 1.8544188028816473 and parameters: {'n_neighbors': 15, 'weights': 'distance', 'algorithm': 'brute'}. Best is trial 1 with value: 1.854418802881647.\u001b[0m\n",
      "\u001b[32m[I 2022-12-06 14:57:58,802]\u001b[0m Trial 24 finished with value: 1.8544188028816473 and parameters: {'n_neighbors': 15, 'weights': 'distance', 'algorithm': 'brute'}. Best is trial 1 with value: 1.854418802881647.\u001b[0m\n",
      "\u001b[32m[I 2022-12-06 14:57:59,168]\u001b[0m Trial 25 finished with value: 1.8544188028816473 and parameters: {'n_neighbors': 15, 'weights': 'distance', 'algorithm': 'brute'}. Best is trial 1 with value: 1.854418802881647.\u001b[0m\n",
      "\u001b[32m[I 2022-12-06 14:58:17,205]\u001b[0m Trial 26 finished with value: 1.854418802881647 and parameters: {'n_neighbors': 15, 'weights': 'distance', 'algorithm': 'ball_tree'}. Best is trial 1 with value: 1.854418802881647.\u001b[0m\n",
      "\u001b[32m[I 2022-12-06 14:58:35,097]\u001b[0m Trial 27 finished with value: 1.854418802881647 and parameters: {'n_neighbors': 15, 'weights': 'distance', 'algorithm': 'ball_tree'}. Best is trial 1 with value: 1.854418802881647.\u001b[0m\n",
      "\u001b[32m[I 2022-12-06 14:58:53,012]\u001b[0m Trial 28 finished with value: 1.9481018137149286 and parameters: {'n_neighbors': 5, 'weights': 'distance', 'algorithm': 'ball_tree'}. Best is trial 1 with value: 1.854418802881647.\u001b[0m\n",
      "\u001b[32m[I 2022-12-06 14:59:10,970]\u001b[0m Trial 29 finished with value: 1.8739833815655145 and parameters: {'n_neighbors': 11, 'weights': 'distance', 'algorithm': 'ball_tree'}. Best is trial 1 with value: 1.854418802881647.\u001b[0m\n",
      "\u001b[32m[I 2022-12-06 14:59:28,895]\u001b[0m Trial 30 finished with value: 1.8623692657151074 and parameters: {'n_neighbors': 13, 'weights': 'distance', 'algorithm': 'ball_tree'}. Best is trial 1 with value: 1.854418802881647.\u001b[0m\n",
      "\u001b[32m[I 2022-12-06 14:59:46,821]\u001b[0m Trial 31 finished with value: 1.854418802881647 and parameters: {'n_neighbors': 15, 'weights': 'distance', 'algorithm': 'ball_tree'}. Best is trial 1 with value: 1.854418802881647.\u001b[0m\n",
      "\u001b[32m[I 2022-12-06 15:00:04,763]\u001b[0m Trial 32 finished with value: 1.854418802881647 and parameters: {'n_neighbors': 15, 'weights': 'distance', 'algorithm': 'ball_tree'}. Best is trial 1 with value: 1.854418802881647.\u001b[0m\n",
      "\u001b[32m[I 2022-12-06 15:00:22,613]\u001b[0m Trial 33 finished with value: 1.8773960439116868 and parameters: {'n_neighbors': 9, 'weights': 'distance', 'algorithm': 'ball_tree'}. Best is trial 1 with value: 1.854418802881647.\u001b[0m\n",
      "\u001b[32m[I 2022-12-06 15:00:40,429]\u001b[0m Trial 34 finished with value: 2.0597136521491968 and parameters: {'n_neighbors': 3, 'weights': 'uniform', 'algorithm': 'ball_tree'}. Best is trial 1 with value: 1.854418802881647.\u001b[0m\n",
      "\u001b[32m[I 2022-12-06 15:00:58,093]\u001b[0m Trial 35 finished with value: 2.4727461466595204 and parameters: {'n_neighbors': 1, 'weights': 'uniform', 'algorithm': 'ball_tree'}. Best is trial 1 with value: 1.854418802881647.\u001b[0m\n",
      "\u001b[32m[I 2022-12-06 15:01:17,519]\u001b[0m Trial 36 finished with value: 1.854418802881647 and parameters: {'n_neighbors': 15, 'weights': 'distance', 'algorithm': 'kd_tree'}. Best is trial 1 with value: 1.854418802881647.\u001b[0m\n",
      "\u001b[32m[I 2022-12-06 15:01:35,424]\u001b[0m Trial 37 finished with value: 1.854418802881647 and parameters: {'n_neighbors': 15, 'weights': 'distance', 'algorithm': 'ball_tree'}. Best is trial 1 with value: 1.854418802881647.\u001b[0m\n",
      "\u001b[32m[I 2022-12-06 15:01:54,482]\u001b[0m Trial 38 finished with value: 1.893929757694863 and parameters: {'n_neighbors': 7, 'weights': 'distance', 'algorithm': 'kd_tree'}. Best is trial 1 with value: 1.854418802881647.\u001b[0m\n",
      "\u001b[32m[I 2022-12-06 15:02:13,610]\u001b[0m Trial 39 finished with value: 1.8742078465004626 and parameters: {'n_neighbors': 11, 'weights': 'uniform', 'algorithm': 'kd_tree'}. Best is trial 1 with value: 1.854418802881647.\u001b[0m\n",
      "\u001b[32m[I 2022-12-06 15:02:32,034]\u001b[0m Trial 40 finished with value: 1.9472510430592977 and parameters: {'n_neighbors': 5, 'weights': 'uniform', 'algorithm': 'kd_tree'}. Best is trial 1 with value: 1.854418802881647.\u001b[0m\n",
      "\u001b[32m[I 2022-12-06 15:02:51,269]\u001b[0m Trial 41 finished with value: 1.854418802881647 and parameters: {'n_neighbors': 15, 'weights': 'distance', 'algorithm': 'kd_tree'}. Best is trial 1 with value: 1.854418802881647.\u001b[0m\n",
      "\u001b[32m[I 2022-12-06 15:03:10,179]\u001b[0m Trial 42 finished with value: 1.854418802881647 and parameters: {'n_neighbors': 15, 'weights': 'distance', 'algorithm': 'kd_tree'}. Best is trial 1 with value: 1.854418802881647.\u001b[0m\n",
      "\u001b[32m[I 2022-12-06 15:03:29,084]\u001b[0m Trial 43 finished with value: 1.854418802881647 and parameters: {'n_neighbors': 15, 'weights': 'distance', 'algorithm': 'kd_tree'}. Best is trial 1 with value: 1.854418802881647.\u001b[0m\n",
      "\u001b[32m[I 2022-12-06 15:03:48,080]\u001b[0m Trial 44 finished with value: 1.854418802881647 and parameters: {'n_neighbors': 15, 'weights': 'distance', 'algorithm': 'kd_tree'}. Best is trial 1 with value: 1.854418802881647.\u001b[0m\n",
      "\u001b[32m[I 2022-12-06 15:04:07,011]\u001b[0m Trial 45 finished with value: 1.854418802881647 and parameters: {'n_neighbors': 15, 'weights': 'distance', 'algorithm': 'kd_tree'}. Best is trial 1 with value: 1.854418802881647.\u001b[0m\n",
      "\u001b[32m[I 2022-12-06 15:04:25,889]\u001b[0m Trial 46 finished with value: 1.854418802881647 and parameters: {'n_neighbors': 15, 'weights': 'distance', 'algorithm': 'kd_tree'}. Best is trial 1 with value: 1.854418802881647.\u001b[0m\n",
      "\u001b[32m[I 2022-12-06 15:04:43,580]\u001b[0m Trial 47 finished with value: 1.854418802881647 and parameters: {'n_neighbors': 15, 'weights': 'distance', 'algorithm': 'ball_tree'}. Best is trial 1 with value: 1.854418802881647.\u001b[0m\n",
      "\u001b[32m[I 2022-12-06 15:05:00,929]\u001b[0m Trial 48 finished with value: 2.0600868363855724 and parameters: {'n_neighbors': 3, 'weights': 'distance', 'algorithm': 'ball_tree'}. Best is trial 1 with value: 1.854418802881647.\u001b[0m\n",
      "\u001b[32m[I 2022-12-06 15:05:01,285]\u001b[0m Trial 49 finished with value: 1.8767764887396348 and parameters: {'n_neighbors': 9, 'weights': 'uniform', 'algorithm': 'auto'}. Best is trial 1 with value: 1.854418802881647.\u001b[0m\n"
     ]
    },
    {
     "name": "stdout",
     "output_type": "stream",
     "text": [
      "Number of finished trials: 50\n",
      "Best trial: {'n_neighbors': 15, 'weights': 'distance', 'algorithm': 'kd_tree'}\n"
     ]
    }
   ],
   "source": [
    "study = optuna.create_study(direction='minimize')\n",
    "study.optimize(objective, n_trials=50)\n",
    "print('Number of finished trials:', len(study.trials))\n",
    "print('Best trial:', study.best_trial.params)"
   ]
  },
  {
   "cell_type": "code",
   "execution_count": 7,
   "metadata": {},
   "outputs": [],
   "source": [
    "model = KNeighborsRegressor(n_neighbors= 15, weights = 'distance', algorithm = 'ball_tree')"
   ]
  },
  {
   "cell_type": "code",
   "execution_count": 8,
   "metadata": {},
   "outputs": [
    {
     "name": "stdout",
     "output_type": "stream",
     "text": [
      "RMSE of train: 0.005628846478771298\n",
      "RMSE of valid: 1.8560427833768842\n"
     ]
    }
   ],
   "source": [
    "model.fit(X_train, y_train)\n",
    "y_pred_valid = model.predict(X_valid)\n",
    "y_pred_train = model.predict(X_train)\n",
    "print('RMSE of train:' , mean_squared_error(y_train, y_pred_train, squared=False))\n",
    "print('RMSE of valid:' , mean_squared_error(y_valid, y_pred_valid, squared=False))"
   ]
  },
  {
   "cell_type": "code",
   "execution_count": null,
   "metadata": {},
   "outputs": [
    {
     "name": "stdout",
     "output_type": "stream",
     "text": [
      "RMSE of train: 0.005628846478771298\n",
      "RMSE of valid: 1.8503810716100941\n",
      "\n"
     ]
    }
   ],
   "source": [
    "for i in [17, 19]:\n",
    "    model = KNeighborsRegressor(n_neighbors= i, weights = 'distance', algorithm = 'ball_tree')\n",
    "    model.fit(X_train, y_train)\n",
    "    y_pred_valid = model.predict(X_valid)\n",
    "    y_pred_train = model.predict(X_train)\n",
    "    print('RMSE of train:' , mean_squared_error(y_train, y_pred_train, squared=False))\n",
    "    print('RMSE of valid:' , mean_squared_error(y_valid, y_pred_valid, squared=False))\n",
    "    print()"
   ]
  },
  {
   "cell_type": "code",
   "execution_count": null,
   "metadata": {},
   "outputs": [],
   "source": []
  }
 ],
 "metadata": {
  "kernelspec": {
   "display_name": "mmcl_final2",
   "language": "python",
   "name": "mmcl_final2"
  },
  "language_info": {
   "codemirror_mode": {
    "name": "ipython",
    "version": 3
   },
   "file_extension": ".py",
   "mimetype": "text/x-python",
   "name": "python",
   "nbconvert_exporter": "python",
   "pygments_lexer": "ipython3",
   "version": "3.9.13"
  }
 },
 "nbformat": 4,
 "nbformat_minor": 4
}
