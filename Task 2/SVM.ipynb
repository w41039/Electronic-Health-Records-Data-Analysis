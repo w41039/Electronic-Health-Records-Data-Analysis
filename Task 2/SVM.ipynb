{
 "cells": [
  {
   "cell_type": "code",
   "execution_count": 1,
   "metadata": {},
   "outputs": [
    {
     "name": "stderr",
     "output_type": "stream",
     "text": [
      "<frozen importlib._bootstrap>:228: RuntimeWarning: scipy._lib.messagestream.MessageStream size changed, may indicate binary incompatibility. Expected 56 from C header, got 64 from PyObject\n"
     ]
    }
   ],
   "source": [
    "import pandas as pd\n",
    "from sklearn.preprocessing import MinMaxScaler\n",
    "from sklearn.metrics import accuracy_score, classification_report, confusion_matrix, roc_curve, auc, roc_auc_score\n",
    "from sklearn.svm import SVC\n",
    "import numpy as np\n",
    "from sklearn.model_selection import GridSearchCV\n",
    "from sklearn.metrics import mean_squared_error"
   ]
  },
  {
   "cell_type": "code",
   "execution_count": 2,
   "metadata": {},
   "outputs": [],
   "source": [
    "y_train = pd.read_csv(\"Y_train.csv\")\n",
    "y_train= y_train[\"mort_icu\"]\n",
    "y_valid = pd.read_csv(\"Y_valid.csv\")\n",
    "y_valid = y_valid[\"mort_icu\"]\n",
    "\n",
    "X_train = pd.read_csv(\"X_train_new.csv\")\n",
    "X_train = X_train.dropna(axis = 1)\n",
    "X_valid = pd.read_csv(\"X_valid_new.csv\")\n",
    "X_valid = X_valid.dropna(axis = 1)"
   ]
  },
  {
   "cell_type": "code",
   "execution_count": 6,
   "metadata": {},
   "outputs": [
    {
     "name": "stdout",
     "output_type": "stream",
     "text": [
      "AUC of train: 0.9998911739784424\n",
      "AUC of valid: 0.853624289872764\n"
     ]
    }
   ],
   "source": [
    "model = SVC(class_weight = 'balanced', C = 2, kernel = \"rbf\", gamma = 'auto', probability = True)\n",
    "model.fit(X_train, y_train)\n",
    "y_pred_valid = model.predict_proba(X_valid)[:, 1]\n",
    "y_pred_train = model.predict_proba(X_train)[:, 1]\n",
    "print('AUC of train:' , roc_auc_score(y_train, y_pred_train, average = \"macro\", sample_weight = None))\n",
    "print('AUC of valid:' , roc_auc_score(y_valid, y_pred_valid, average = \"macro\", sample_weight = None))"
   ]
  },
  {
   "cell_type": "code",
   "execution_count": 3,
   "metadata": {},
   "outputs": [
    {
     "name": "stdout",
     "output_type": "stream",
     "text": [
      "C:  0.4\n",
      "AUC of train: 0.9845720854160782\n",
      "AUC of valid: 0.8557517371707593\n",
      "C:  0.5\n",
      "AUC of train: 0.9896912436039753\n",
      "AUC of valid: 0.8562549884971125\n",
      "C:  0.6\n",
      "AUC of train: 0.9929693450601997\n",
      "AUC of valid: 0.854972651298183\n",
      "C:  0.7\n",
      "AUC of train: 0.9949759791911615\n",
      "AUC of valid: 0.853552396826142\n",
      "C:  0.8\n",
      "AUC of train: 0.9962746924324929\n",
      "AUC of valid: 0.8531181041363444\n",
      "C:  0.9\n",
      "AUC of train: 0.9974024158746215\n",
      "AUC of valid: 0.8531181041363444\n"
     ]
    }
   ],
   "source": [
    "for c in [0.4, 0.5, 0.6, 0.7, 0.8, 0.9]:\n",
    "    model = SVC(class_weight = 'balanced', C = c, kernel = \"rbf\", gamma = 'auto', probability = True)\n",
    "    model.fit(X_train, y_train)\n",
    "    y_pred_valid = model.predict_proba(X_valid)[:, 1]\n",
    "    y_pred_train = model.predict_proba(X_train)[:, 1]\n",
    "    print('C: ', c)\n",
    "    print('AUC of train:' , roc_auc_score(y_train, y_pred_train, average = \"macro\", sample_weight = None))\n",
    "    print('AUC of valid:' , roc_auc_score(y_valid, y_pred_valid, average = \"macro\", sample_weight = None))"
   ]
  },
  {
   "cell_type": "code",
   "execution_count": null,
   "metadata": {},
   "outputs": [
    {
     "name": "stdout",
     "output_type": "stream",
     "text": [
      "C:  0.05\n",
      "AUC of train: 0.8942725511189349\n",
      "AUC of valid: 0.8201177285318558\n",
      "C:  0.1\n",
      "AUC of train: 0.9277884960228057\n",
      "AUC of valid: 0.8364917367012534\n",
      "C:  0.2\n",
      "AUC of train: 0.9596882352554796\n",
      "AUC of valid: 0.8486812761162495\n",
      "C:  0.3\n",
      "AUC of train: 0.9758092260399491\n",
      "AUC of valid: 0.8537049861495846\n"
     ]
    }
   ],
   "source": [
    "for c in [0.05, 0.1, 0.2, 0.3, 0.4, 0.5, 0.6, 0.7, 0.8, 0.9]:\n",
    "    model = SVC(class_weight = 'balanced', C = c, kernel = \"rbf\", gamma = 'auto', probability = True)\n",
    "    model.fit(X_train, y_train)\n",
    "    y_pred_valid = model.predict_proba(X_valid)[:, 1]\n",
    "    y_pred_train = model.predict_proba(X_train)[:, 1]\n",
    "    print('C: ', c)\n",
    "    print('AUC of train:' , roc_auc_score(y_train, y_pred_train, average = \"macro\", sample_weight = None))\n",
    "    print('AUC of valid:' , roc_auc_score(y_valid, y_pred_valid, average = \"macro\", sample_weight = None))"
   ]
  },
  {
   "cell_type": "code",
   "execution_count": 7,
   "metadata": {},
   "outputs": [
    {
     "name": "stdout",
     "output_type": "stream",
     "text": [
      "C:  0.001\n",
      "AUC of train: 0.7554090237317972\n",
      "AUC of valid: 0.730896990469036\n",
      "C:  0.01\n",
      "AUC of train: 0.8065351838836597\n",
      "AUC of valid: 0.7651562279919246\n",
      "C:  1\n",
      "AUC of train: 0.997997884960228\n",
      "AUC of valid: 0.8533866026574017\n",
      "C:  1.1\n",
      "AUC of train: 0.9984709707507077\n",
      "AUC of valid: 0.8537827480163389\n",
      "C:  1.2\n",
      "AUC of train: 0.9989693844708788\n",
      "AUC of valid: 0.8542478520118315\n",
      "C:  1.3\n",
      "AUC of train: 0.9992444184625894\n",
      "AUC of valid: 0.8540541809474622\n",
      "C:  1.4\n",
      "AUC of train: 0.9993586043364884\n",
      "AUC of valid: 0.8540072303864031\n",
      "C:  1.5\n",
      "AUC of train: 0.9994950703809042\n",
      "AUC of valid: 0.8541451476595145\n",
      "C:  1.6\n",
      "AUC of train: 0.999733794000381\n",
      "AUC of valid: 0.8542097046809709\n",
      "C:  1.7\n",
      "AUC of train: 0.9997699204561128\n",
      "AUC of valid: 0.8540893938682568\n",
      "C:  1.8\n",
      "AUC of train: 0.9997969561818935\n",
      "AUC of valid: 0.8541656885299779\n",
      "C:  1.9\n",
      "AUC of train: 0.99981603095052\n",
      "AUC of valid: 0.8538370346025635\n",
      "C:  2\n",
      "AUC of train: 0.9998911739784424\n",
      "AUC of valid: 0.8535186511103808\n",
      "C:  2.1\n",
      "AUC of train: 0.9999029183607785\n",
      "AUC of valid: 0.8533352504812434\n",
      "C:  2.2\n",
      "AUC of train: 0.9999109844130765\n",
      "AUC of valid: 0.8530359406544908\n",
      "C:  2.3\n",
      "AUC of train: 0.9999170799314254\n",
      "AUC of valid: 0.8525502957885346\n",
      "C:  2.4\n",
      "AUC of train: 0.9999210735468954\n",
      "AUC of valid: 0.8518871191135734\n",
      "C:  2.5\n",
      "AUC of train: 0.9999249095196495\n",
      "AUC of valid: 0.8516039485421851\n",
      "C:  2.6\n",
      "AUC of train: 0.99992785218368\n",
      "AUC of valid: 0.8507764449035166\n",
      "C:  2.7\n",
      "AUC of train: 0.9999292709681233\n",
      "AUC of valid: 0.8501484811493497\n",
      "C:  2.8\n",
      "AUC of train: 0.9999306897525666\n",
      "AUC of valid: 0.8494911732945208\n",
      "C:  2.9\n",
      "AUC of train: 0.9999947452428026\n",
      "AUC of valid: 0.8490011268134655\n",
      "C:  3\n",
      "AUC of train: 0.99999600638453\n",
      "AUC of valid: 0.8484905394619466\n",
      "C:  3.2\n",
      "AUC of train: 0.9999976879068331\n",
      "AUC of valid: 0.8475251185501665\n",
      "C:  3.4\n",
      "AUC of train: 0.9999985812155567\n",
      "AUC of valid: 0.8466154514296446\n",
      "C:  3.6\n",
      "AUC of train: 0.9999991592388484\n",
      "AUC of valid: 0.845362458331377\n",
      "C:  4\n",
      "AUC of train: 0.9999996847145682\n",
      "AUC of valid: 0.8434052068172214\n"
     ]
    }
   ],
   "source": [
    "for c in [0.001, 0.01, 1, 1.1, 1.2, 1.3, 1.4, 1.5, 1.6, 1.7, 1.8, 1.9, 2, 2.1, 2.2, 2.3, 2.4, 2.5, 2.6, 2.7, 2.8, 2.9, 3, 3.2, 3.4, 3.6, 4]:\n",
    "    model = SVC(class_weight = 'balanced', C = c, kernel = \"rbf\", gamma = 'auto', probability = True)\n",
    "    model.fit(X_train, y_train)\n",
    "    y_pred_valid = model.predict_proba(X_valid)[:, 1]\n",
    "    y_pred_train = model.predict_proba(X_train)[:, 1]\n",
    "    print('C: ', c)\n",
    "    print('AUC of train:' , roc_auc_score(y_train, y_pred_train, average = \"macro\", sample_weight = None))\n",
    "    print('AUC of valid:' , roc_auc_score(y_valid, y_pred_valid, average = \"macro\", sample_weight = None))"
   ]
  },
  {
   "cell_type": "code",
   "execution_count": 8,
   "metadata": {},
   "outputs": [
    {
     "name": "stdout",
     "output_type": "stream",
     "text": [
      "C:  4.1\n",
      "AUC of train: 0.9999997372621401\n",
      "AUC of valid: 0.8431293722709986\n",
      "C:  4.2\n",
      "AUC of train: 0.999999842357284\n",
      "AUC of valid: 0.8426539978402742\n",
      "C:  4.3\n",
      "AUC of train: 0.999999842357284\n",
      "AUC of valid: 0.8421844922296822\n",
      "C:  4.4\n",
      "AUC of train: 0.9999998949048561\n",
      "AUC of valid: 0.8418411662519366\n",
      "C:  4.5\n",
      "AUC of train: 0.9999998949048561\n",
      "AUC of valid: 0.8415301187849193\n",
      "C:  4.6\n",
      "AUC of train: 0.999999947452428\n",
      "AUC of valid: 0.8411779895769755\n",
      "C:  4.7\n",
      "AUC of train: 0.999999947452428\n",
      "AUC of valid: 0.8409432367716794\n",
      "C:  4.8\n",
      "AUC of train: 0.9999999474524282\n",
      "AUC of valid: 0.8407525001173765\n",
      "C:  4.9\n",
      "AUC of train: 0.9999999474524282\n",
      "AUC of valid: 0.8405529602328748\n",
      "C:  5\n",
      "AUC of train: 0.999999947452428\n",
      "AUC of valid: 0.8402419127658576\n",
      "C:  5.1\n",
      "AUC of train: 0.999999947452428\n",
      "AUC of valid: 0.8399719470397671\n",
      "C:  5.2\n",
      "AUC of train: 1.0\n",
      "AUC of valid: 0.8398281609465232\n",
      "C:  5.3\n",
      "AUC of train: 1.0\n",
      "AUC of valid: 0.839646227522419\n",
      "C:  5.4\n",
      "AUC of train: 1.0\n",
      "AUC of valid: 0.8396139490116906\n",
      "C:  5.5\n",
      "AUC of train: 1.0\n",
      "AUC of valid: 0.8393029015446735\n",
      "C:  5.6\n",
      "AUC of train: 1.0\n",
      "AUC of valid: 0.8391033616601719\n",
      "C:  5.7\n",
      "AUC of train: 1.0\n",
      "AUC of valid: 0.8390886896098407\n",
      "C:  5.8\n",
      "AUC of train: 1.0\n",
      "AUC of valid: 0.8389918540776562\n",
      "C:  5.9\n",
      "AUC of train: 1.0\n",
      "AUC of valid: 0.838915559415935\n",
      "C:  6\n",
      "AUC of train: 1.0\n",
      "AUC of valid: 0.8388069862434856\n",
      "C:  6.2\n",
      "AUC of train: 1.0\n",
      "AUC of valid: 0.8383257429926287\n",
      "C:  6.4\n",
      "AUC of train: 1.0\n",
      "AUC of valid: 0.8381262031081271\n",
      "C:  6.6\n",
      "AUC of train: 1.0\n",
      "AUC of valid: 0.8376420254472041\n",
      "C:  6.8\n",
      "AUC of train: 1.0\n",
      "AUC of valid: 0.8376068125264096\n",
      "C:  7\n",
      "AUC of train: 1.0\n",
      "AUC of valid: 0.8373515188506502\n",
      "C:  8\n",
      "AUC of train: 1.0\n",
      "AUC of valid: 0.8367044814310531\n",
      "C:  9\n",
      "AUC of train: 1.0\n",
      "AUC of valid: 0.8357463965444385\n",
      "C:  11\n",
      "AUC of train: 1.0\n",
      "AUC of valid: 0.8347369594816658\n"
     ]
    }
   ],
   "source": [
    "for c in [4.1, 4.2, 4.3, 4.4, 4.5, 4.6, 4.7, 4.8, 4.9, 5, 5.1, 5.2, 5.3, 5.4, 5.5, 5.6, 5.7, 5.8, 5.9, 6, 6.2, 6.4, 6.6, 6.8, 7, 8, 9, 11]:\n",
    "    model = SVC(class_weight = 'balanced', C = c, kernel = \"rbf\", gamma = 'auto', probability = True)\n",
    "    model.fit(X_train, y_train)\n",
    "    y_pred_valid = model.predict_proba(X_valid)[:, 1]\n",
    "    y_pred_train = model.predict_proba(X_train)[:, 1]\n",
    "    print('C: ', c)\n",
    "    print('AUC of train:' , roc_auc_score(y_train, y_pred_train, average = \"macro\", sample_weight = None))\n",
    "    print('AUC of valid:' , roc_auc_score(y_valid, y_pred_valid, average = \"macro\", sample_weight = None))"
   ]
  },
  {
   "cell_type": "code",
   "execution_count": 9,
   "metadata": {},
   "outputs": [
    {
     "name": "stdout",
     "output_type": "stream",
     "text": [
      "C:  13\n",
      "AUC of train: 1.0\n",
      "AUC of valid: 0.8344083055542515\n",
      "C:  15\n",
      "AUC of train: 1.0\n",
      "AUC of valid: 0.8339006526127988\n",
      "C:  17\n",
      "AUC of train: 1.0\n",
      "AUC of valid: 0.8335690642753181\n",
      "C:  19\n",
      "AUC of train: 1.0\n",
      "AUC of valid: 0.833231607117705\n",
      "C:  20\n",
      "AUC of train: 1.0\n",
      "AUC of valid: 0.8331142307150571\n",
      "C:  25\n",
      "AUC of train: 1.0\n",
      "AUC of valid: 0.8328824123198273\n"
     ]
    }
   ],
   "source": [
    "for c in [13, 15, 17, 19, 20, 25]:\n",
    "    model = SVC(class_weight = 'balanced', C = c, kernel = \"rbf\", gamma = 'auto', probability = True)\n",
    "    model.fit(X_train, y_train)\n",
    "    y_pred_valid = model.predict_proba(X_valid)[:, 1]\n",
    "    y_pred_train = model.predict_proba(X_train)[:, 1]\n",
    "    print('C: ', c)\n",
    "    print('AUC of train:' , roc_auc_score(y_train, y_pred_train, average = \"macro\", sample_weight = None))\n",
    "    print('AUC of valid:' , roc_auc_score(y_valid, y_pred_valid, average = \"macro\", sample_weight = None))"
   ]
  },
  {
   "cell_type": "code",
   "execution_count": 5,
   "metadata": {},
   "outputs": [],
   "source": [
    "X_train = pd.read_csv(\"X_train_filtered2.csv\")\n",
    "X_train = X_train.drop(labels = ['Unnamed: 0'], axis = 1)\n",
    "y_train = pd.read_csv(\"Y_train.csv\")\n",
    "y_train = y_train.drop(labels = ['Unnamed: 0'], axis = 1)\n",
    "y_train = y_train[\"mort_icu\"]\n",
    "\n",
    "X_valid = pd.read_csv(\"X_valid_filtered2.csv\")\n",
    "X_valid = X_valid.drop(labels = ['Unnamed: 0'], axis = 1)\n",
    "y_valid = pd.read_csv(\"Y_valid.csv\")\n",
    "y_valid = y_valid.drop(labels = ['Unnamed: 0'], axis = 1)\n",
    "y_valid = y_valid[\"mort_icu\"]"
   ]
  },
  {
   "cell_type": "code",
   "execution_count": 5,
   "metadata": {},
   "outputs": [
    {
     "name": "stdout",
     "output_type": "stream",
     "text": [
      "AUC of train: 1.0\n",
      "AUC of valid: 0.5\n"
     ]
    }
   ],
   "source": [
    "model = SVC(class_weight='balanced', C = 5.5, kernel = \"rbf\", gamma = 'auto')\n",
    "model.fit(X_train, y_train)\n",
    "y_pred_train = model.predict(X_train)\n",
    "y_pred_valid = model.predict(X_valid)\n",
    "print('AUC of train:' , roc_auc_score(y_train, y_pred_train, average = \"macro\", sample_weight = None))\n",
    "print('AUC of valid:' , roc_auc_score(y_valid, y_pred_valid, average = \"macro\", sample_weight = None))"
   ]
  },
  {
   "cell_type": "code",
   "execution_count": 2,
   "metadata": {},
   "outputs": [],
   "source": [
    "X_train = pd.read_csv(\"X_train_filtered2.csv\")\n",
    "X_train = X_train.drop(labels = ['Unnamed: 0'], axis = 1)\n",
    "y_train = pd.read_csv(\"Y_train_T2.csv\")\n",
    "y_train = y_train.drop(labels = ['Unnamed: 0'], axis = 1)\n",
    "y_train = y_train[\"los_icu\"]\n",
    "\n",
    "X_valid = pd.read_csv(\"X_valid_filtered2.csv\")\n",
    "X_valid = X_valid.drop(labels = ['Unnamed: 0'], axis = 1)\n",
    "y_valid = pd.read_csv(\"Y_valid_T2.csv\")\n",
    "y_valid = y_valid.drop(labels = ['Unnamed: 0'], axis = 1)\n",
    "y_valid = y_valid[\"los_icu\"]\n",
    "#X_train = X_train.drop(labels = ['hemoglobin_min', 'red blood cell count_min', 'chloride_mean', 'blood urea nitrogen_max', 'red blood cell count_min', 'co2 (etco2, pco2, etc.)_mean', 'co2_mean', 'mean blood pressure_mean','phosphorous_mean', 'lactic acid_min', 'lymphocytes_mean', 'positive end-expiratory pressure_mean', 'plateau pressure_max', 'cardiac index_min', 'systemic vascular resistance_max','cholesterol_max','cholesterol hdl_min','cardiac output fick_min','cholesterol ldl_max','pulmonary artery pressure mean_mean','chloride urine_mean','lymphocytes atypical_max','pulmonary capillary wedge pressure_max','troponin-i_max','total protein urine_max','venous pvo2_mean','post void residual_mean','red blood cell count csf_max','monocytes csl_max','lymphocytes body fluid_mean','lymphocytes ascites_mean','red blood cell count ascites_max','eosinophils_mean','total protein_mean','lactate dehydrogenase pleural_max','lymphocytes pleural_mean','red blood cell count pleural_max','calcium urine_mean','albumin urine_max','albumin ascites_mean','lymphocytes percent_mean','albumin pleural_mean','creatinine ascites_max','creatinine pleural_mean','lymphocytes atypical csl_mean','creatinine body fluid_max'], axis = 1)\n",
    "#X_valid = X_valid.drop(labels = ['hemoglobin_min', 'red blood cell count_min', 'chloride_mean', 'blood urea nitrogen_max', 'red blood cell count_min', 'co2 (etco2, pco2, etc.)_mean', 'co2_mean', 'mean blood pressure_mean','phosphorous_mean', 'lactic acid_min', 'lymphocytes_mean', 'positive end-expiratory pressure_mean', 'plateau pressure_max', 'cardiac index_min', 'systemic vascular resistance_max','cholesterol_max','cholesterol hdl_min','cardiac output fick_min','cholesterol ldl_max','pulmonary artery pressure mean_mean','chloride urine_mean','lymphocytes atypical_max','pulmonary capillary wedge pressure_max','troponin-i_max','total protein urine_max','venous pvo2_mean','post void residual_mean','red blood cell count csf_max','monocytes csl_max','lymphocytes body fluid_mean','lymphocytes ascites_mean','red blood cell count ascites_max','eosinophils_mean','total protein_mean','lactate dehydrogenase pleural_max','lymphocytes pleural_mean','red blood cell count pleural_max','calcium urine_mean','albumin urine_max','albumin ascites_mean','lymphocytes percent_mean','albumin pleural_mean','creatinine ascites_max','creatinine pleural_mean','lymphocytes atypical csl_mean','creatinine body fluid_max'], axis = 1)"
   ]
  },
  {
   "cell_type": "code",
   "execution_count": 12,
   "metadata": {},
   "outputs": [
    {
     "name": "stderr",
     "output_type": "stream",
     "text": [
      "/tmp/.u3568933/ipykernel_13848/3894583747.py:1: FutureWarning: The frame.append method is deprecated and will be removed from pandas in a future version. Use pandas.concat instead.\n",
      "  X_train2 = X_train.append(X_valid)\n",
      "/tmp/.u3568933/ipykernel_13848/3894583747.py:2: FutureWarning: The series.append method is deprecated and will be removed from pandas in a future version. Use pandas.concat instead.\n",
      "  y_train2 = y_train.append(y_valid)\n"
     ]
    }
   ],
   "source": [
    "X_train2 = X_train.append(X_valid)\n",
    "y_train2 = y_train.append(y_valid)"
   ]
  },
  {
   "cell_type": "code",
   "execution_count": 4,
   "metadata": {},
   "outputs": [],
   "source": [
    "#scaler = MinMaxScaler((-1, 1))\n",
    "#scaler.fit(X_train)\n",
    "#X_train = scaler.transform(X_train)\n",
    "#scaler.fit(X_valid)\n",
    "#X_valid = scaler.transform(X_valid)"
   ]
  },
  {
   "cell_type": "code",
   "execution_count": 41,
   "metadata": {},
   "outputs": [],
   "source": [
    "svm = SVC(class_weight='balanced')\n",
    "svm.fit(X_train, y_train)\n",
    "y_pred_train = svm.predict(X_train)\n",
    "y_pred_valid = svm.predict(X_valid)"
   ]
  },
  {
   "cell_type": "code",
   "execution_count": 50,
   "metadata": {},
   "outputs": [
    {
     "name": "stdout",
     "output_type": "stream",
     "text": [
      "train: \n",
      "               precision    recall  f1-score   support\n",
      "\n",
      "           0       0.99      0.92      0.96     15535\n",
      "           1       0.48      0.93      0.63      1225\n",
      "\n",
      "    accuracy                           0.92     16760\n",
      "   macro avg       0.74      0.93      0.79     16760\n",
      "weighted avg       0.96      0.92      0.93     16760\n",
      "\n",
      "valid: \n",
      "               precision    recall  f1-score   support\n",
      "\n",
      "           0       0.97      0.91      0.94      2242\n",
      "           1       0.29      0.55      0.38       152\n",
      "\n",
      "    accuracy                           0.89      2394\n",
      "   macro avg       0.63      0.73      0.66      2394\n",
      "weighted avg       0.93      0.89      0.90      2394\n",
      "\n",
      "train: \n",
      " [[14289  1246]\n",
      " [   83  1142]]\n",
      "valid: \n",
      " [[2041  201]\n",
      " [  68   84]]\n",
      "AUC of valid: 0.7314897413024085\n"
     ]
    }
   ],
   "source": [
    "print('train: \\n', classification_report(y_train,y_pred_train))\n",
    "print('valid: \\n', classification_report(y_valid,y_pred_valid))\n",
    "con_mat_train = confusion_matrix(y_train, y_pred_train)\n",
    "print('train: \\n', con_mat_train)\n",
    "con_mat_valid = confusion_matrix(y_valid, y_pred_valid)\n",
    "print('valid: \\n', con_mat_valid)\n",
    "print('AUC of valid:' , roc_auc_score(y_valid, y_pred_valid, average=\"macro\", sample_weight=None))"
   ]
  },
  {
   "cell_type": "code",
   "execution_count": null,
   "metadata": {},
   "outputs": [
    {
     "name": "stdout",
     "output_type": "stream",
     "text": [
      "C:  0.01 , kernel:  linear\n",
      "AUC of valid: 0.7298171275646743\n",
      "C:  0.1 , kernel:  linear\n",
      "AUC of valid: 0.7196699375557538\n",
      "C:  1 , kernel:  linear\n",
      "AUC of valid: 0.5002230151650312\n",
      "C:  10 , kernel:  linear\n",
      "AUC of valid: 0.5\n"
     ]
    }
   ],
   "source": [
    "C = [1e-2, 1e-1, 1, 10]\n",
    "kernel = [\"linear\"]\n",
    "for i in C:\n",
    "    for j in kernel:\n",
    "        model = SVC(class_weight='balanced', C = i, kernel = j)\n",
    "        model.fit(X_train, y_train)\n",
    "        y_pred_valid = model.predict(X_valid)\n",
    "        print('C: ', i, ', kernel: ', j)\n",
    "        print('AUC of valid:' , roc_auc_score(y_valid, y_pred_valid, average=\"macro\", sample_weight=None))"
   ]
  },
  {
   "cell_type": "code",
   "execution_count": 5,
   "metadata": {},
   "outputs": [
    {
     "name": "stdout",
     "output_type": "stream",
     "text": [
      "C:  0.001 , kernel:  rbf , gamma:  scale\n",
      "AUC of valid: 0.6260593220338984\n",
      "C:  0.001 , kernel:  rbf , gamma:  auto\n",
      "AUC of valid: 0.6733385370205174\n",
      "C:  0.001 , kernel:  sigmoid , gamma:  scale\n",
      "AUC of valid: 0.651092774308653\n",
      "C:  0.001 , kernel:  sigmoid , gamma:  auto\n",
      "AUC of valid: 0.6052074041034791\n",
      "C:  0.001 , kernel:  poly , gamma:  scale\n",
      "AUC of valid: 0.5549732381801963\n",
      "C:  0.001 , kernel:  poly , gamma:  auto\n",
      "AUC of valid: 0.523193577163247\n",
      "C:  0.01 , kernel:  rbf , gamma:  scale\n",
      "AUC of valid: 0.6197033898305084\n",
      "C:  0.01 , kernel:  rbf , gamma:  auto\n",
      "AUC of valid: 0.7076271186440678\n",
      "C:  0.01 , kernel:  sigmoid , gamma:  scale\n",
      "AUC of valid: 0.6505909901873328\n",
      "C:  0.01 , kernel:  sigmoid , gamma:  auto\n",
      "AUC of valid: 0.6838202497769847\n",
      "C:  0.01 , kernel:  poly , gamma:  scale\n",
      "AUC of valid: 0.6325267618198037\n",
      "C:  0.01 , kernel:  poly , gamma:  auto\n",
      "AUC of valid: 0.5751003568242641\n",
      "C:  0.1 , kernel:  rbf , gamma:  scale\n",
      "AUC of valid: 0.7133697591436217\n",
      "C:  0.1 , kernel:  rbf , gamma:  auto\n",
      "AUC of valid: 0.7423617305976808\n",
      "C:  0.1 , kernel:  sigmoid , gamma:  scale\n",
      "AUC of valid: 0.5820695807314897\n",
      "C:  0.1 , kernel:  sigmoid , gamma:  auto\n",
      "AUC of valid: 0.6194803746654772\n",
      "C:  0.1 , kernel:  poly , gamma:  scale\n",
      "AUC of valid: 0.7188893844781444\n",
      "C:  0.1 , kernel:  poly , gamma:  auto\n",
      "AUC of valid: 0.6489183764495985\n",
      "C:  1 , kernel:  rbf , gamma:  scale\n",
      "AUC of valid: 0.7314897413024085\n",
      "C:  1 , kernel:  rbf , gamma:  auto\n",
      "AUC of valid: 0.7604817127564674\n",
      "C:  1 , kernel:  sigmoid , gamma:  scale\n",
      "AUC of valid: 0.5665142729705619\n",
      "C:  1 , kernel:  sigmoid , gamma:  auto\n",
      "AUC of valid: 0.5879794826048171\n",
      "C:  1 , kernel:  poly , gamma:  scale\n",
      "AUC of valid: 0.7014384478144514\n",
      "C:  1 , kernel:  poly , gamma:  auto\n",
      "AUC of valid: 0.7149308652988403\n",
      "C:  10 , kernel:  rbf , gamma:  scale\n",
      "AUC of valid: 0.590599910793934\n",
      "C:  10 , kernel:  rbf , gamma:  auto\n",
      "AUC of valid: 0.6939116859946476\n",
      "C:  10 , kernel:  sigmoid , gamma:  scale\n",
      "AUC of valid: 0.564507136485281\n",
      "C:  10 , kernel:  sigmoid , gamma:  auto\n",
      "AUC of valid: 0.5885927743086531\n",
      "C:  10 , kernel:  poly , gamma:  scale\n",
      "AUC of valid: 0.6649754683318465\n",
      "C:  10 , kernel:  poly , gamma:  auto\n",
      "AUC of valid: 0.6964763603925067\n"
     ]
    }
   ],
   "source": [
    "kernel2 = [\"rbf\",\"sigmoid\", 'poly']\n",
    "gamma = ['scale', 'auto']\n",
    "C = [1e-3, 1e-2, 1e-1, 1, 10]\n",
    "for i in C:\n",
    "    for j in kernel2:\n",
    "        for k in gamma:\n",
    "            model = SVC(class_weight = 'balanced', C = i, kernel = j, gamma = k)\n",
    "            model.fit(X_train, y_train)\n",
    "            y_pred_valid = model.predict(X_valid)\n",
    "            print('C: ', i, ', kernel: ', j, ', gamma: ', k)\n",
    "            print('AUC of valid:' , roc_auc_score(y_valid, y_pred_valid, average = \"macro\", sample_weight = None))"
   ]
  },
  {
   "cell_type": "code",
   "execution_count": 4,
   "metadata": {},
   "outputs": [
    {
     "name": "stdout",
     "output_type": "stream",
     "text": [
      "C:  0.001 , kernel:  linear\n",
      "AUC of valid: 0.7164919714540589\n"
     ]
    }
   ],
   "source": [
    "C = [1e-3]\n",
    "kernel = [\"linear\"]\n",
    "for i in C:\n",
    "    for j in kernel:\n",
    "        model = SVC(class_weight = 'balanced', C = i, kernel = j)\n",
    "        model.fit(X_train, y_train)\n",
    "        y_pred_valid = model.predict(X_valid)\n",
    "        print('C: ', i, ', kernel: ', j)\n",
    "        print('AUC of valid:' , roc_auc_score(y_valid, y_pred_valid, average = \"macro\", sample_weight = None))"
   ]
  },
  {
   "cell_type": "code",
   "execution_count": 9,
   "metadata": {},
   "outputs": [
    {
     "name": "stdout",
     "output_type": "stream",
     "text": [
      "C: 1, kernel: rbf, gamma:  auto\n",
      "AUC of valid: 0.7604817127564674\n",
      "C: 1, kernel: rbf, gamma:  10\n",
      "AUC of valid: 0.5\n",
      "C: 1, kernel: rbf, gamma:  1\n",
      "AUC of valid: 0.5\n",
      "C: 1, kernel: rbf, gamma:  0.1\n",
      "AUC of valid: 0.5\n",
      "C: 1, kernel: rbf, gamma:  0.01\n",
      "AUC of valid: 0.7604817127564674\n",
      "C: 1, kernel: rbf, gamma:  0.001\n",
      "AUC of valid: 0.7389049955396967\n"
     ]
    }
   ],
   "source": [
    "gamma = ['auto', 10, 1, 0.1, 0.01,0.001]\n",
    "for j in gamma:\n",
    "    model = SVC(class_weight = 'balanced', C = 2, kernel = \"rbf\", gamma = auto)\n",
    "    model.fit(X_train, y_train)\n",
    "    y_pred_valid = model.predict(X_valid)\n",
    "    print('C: 1, kernel: rbf, gamma: ', j)\n",
    "    print('AUC of valid:' , roc_auc_score(y_valid, y_pred_valid, average = \"macro\", sample_weight = None))"
   ]
  },
  {
   "cell_type": "code",
   "execution_count": 15,
   "metadata": {},
   "outputs": [
    {
     "name": "stdout",
     "output_type": "stream",
     "text": [
      "C:  1 , kernel: rbf, gamma: auto\n",
      "AUC of train: 0.8772268018890851\n",
      "AUC of valid: 0.7604817127564674\n",
      "C:  1.1 , kernel: rbf, gamma: auto\n",
      "AUC of train: 0.880328290955906\n",
      "AUC of valid: 0.7591993755575379\n",
      "C:  1.2 , kernel: rbf, gamma: auto\n",
      "AUC of train: 0.8835702134088266\n",
      "AUC of valid: 0.7629906333630687\n",
      "C:  1.3 , kernel: rbf, gamma: auto\n",
      "AUC of train: 0.8874251032888212\n",
      "AUC of valid: 0.762600356824264\n",
      "C:  1.4 , kernel: rbf, gamma: auto\n",
      "AUC of train: 0.8902486156999009\n",
      "AUC of valid: 0.7610950044603033\n",
      "C:  1.5 , kernel: rbf, gamma: auto\n",
      "AUC of train: 0.8926317794578404\n",
      "AUC of valid: 0.7675066904549509\n",
      "C:  1.6 , kernel: rbf, gamma: auto\n",
      "AUC of train: 0.8961531236247317\n",
      "AUC of valid: 0.7675624442462088\n",
      "C:  1.7 , kernel: rbf, gamma: auto\n",
      "AUC of train: 0.8982890510565347\n",
      "AUC of valid: 0.7693465655664585\n",
      "C:  1.8 , kernel: rbf, gamma: auto\n",
      "AUC of train: 0.8998237028960281\n",
      "AUC of valid: 0.7680642283675291\n",
      "C:  1.9 , kernel: rbf, gamma: auto\n",
      "AUC of train: 0.9027657100819085\n",
      "AUC of valid: 0.7734165923282783\n",
      "C:  2 , kernel: rbf, gamma: auto\n",
      "AUC of train: 0.9060617565339621\n",
      "AUC of valid: 0.7739183764495986\n"
     ]
    }
   ],
   "source": [
    "C = [1, 1.1, 1.2, 1.3, 1.4, 1.5, 1.6, 1.7, 1.8, 1.9, 2]\n",
    "gamma = [0.006, 0.007, 0.008, 0.009, 0.01, 0.02, 0.03, 0.04]\n",
    "for i in C:\n",
    "    model = SVC(class_weight = 'balanced', C = i, kernel = \"rbf\", gamma = 'auto')\n",
    "    model.fit(X_train, y_train)\n",
    "    y_pred_valid = model.predict(X_valid)\n",
    "    y_pred_train = model.predict(X_train)\n",
    "    print('C: ', i, ', kernel: rbf, gamma: auto')\n",
    "    print('AUC of train:' , roc_auc_score(y_train, y_pred_train, average = \"macro\", sample_weight = None))\n",
    "    print('AUC of valid:' , roc_auc_score(y_valid, y_pred_valid, average = \"macro\", sample_weight = None))"
   ]
  },
  {
   "cell_type": "code",
   "execution_count": 33,
   "metadata": {},
   "outputs": [
    {
     "name": "stdout",
     "output_type": "stream",
     "text": [
      "C:  2.0 , kernel: rbf, gamma: auto\n",
      "AUC of train: 0.9060617565339621\n",
      "AUC of valid: 0.7739183764495986\n",
      "\n",
      "C:  2.1 , kernel: rbf, gamma: auto\n",
      "AUC of train: 0.9078333979230572\n",
      "AUC of valid: 0.7691793041926851\n",
      "\n",
      "C:  2.2 , kernel: rbf, gamma: auto\n",
      "AUC of train: 0.9108295291080706\n",
      "AUC of valid: 0.7716324710080286\n",
      "\n",
      "C:  2.3 , kernel: rbf, gamma: auto\n",
      "AUC of train: 0.9139002778452868\n",
      "AUC of valid: 0.7701271186440678\n",
      "\n",
      "C:  2.4 , kernel: rbf, gamma: auto\n",
      "AUC of train: 0.9154890536839132\n",
      "AUC of valid: 0.7710191793041926\n",
      "\n",
      "C:  2.5 , kernel: rbf, gamma: auto\n",
      "AUC of train: 0.9166696662572335\n",
      "AUC of valid: 0.7651092774308653\n",
      "\n",
      "C:  2.6 , kernel: rbf, gamma: auto\n",
      "AUC of train: 0.9179146496062216\n",
      "AUC of valid: 0.7591993755575379\n",
      "\n",
      "C:  2.7 , kernel: rbf, gamma: auto\n",
      "AUC of train: 0.9189767674047411\n",
      "AUC of valid: 0.7596454058876003\n",
      "\n",
      "C:  2.8 , kernel: rbf, gamma: auto\n",
      "AUC of train: 0.9205011724676997\n",
      "AUC of valid: 0.7596454058876003\n",
      "\n",
      "C:  2.9 , kernel: rbf, gamma: auto\n",
      "AUC of train: 0.921703723652319\n",
      "AUC of valid: 0.7607604817127565\n",
      "\n",
      "C:  3.0 , kernel: rbf, gamma: auto\n",
      "AUC of train: 0.923035016388274\n",
      "AUC of valid: 0.7535124888492418\n",
      "\n",
      "C:  3.1 , kernel: rbf, gamma: auto\n",
      "AUC of train: 0.9233568702666133\n",
      "AUC of valid: 0.753735504014273\n",
      "\n",
      "C:  3.2 , kernel: rbf, gamma: auto\n",
      "AUC of train: 0.9254401187575126\n",
      "AUC of valid: 0.7440900981266726\n",
      "\n",
      "C:  3.3 , kernel: rbf, gamma: auto\n",
      "AUC of train: 0.9264598043916633\n",
      "AUC of valid: 0.7443131132917038\n",
      "\n",
      "C:  3.4000000000000004 , kernel: rbf, gamma: auto\n",
      "AUC of train: 0.9273185630866444\n",
      "AUC of valid: 0.7482716324710081\n",
      "\n",
      "C:  3.5 , kernel: rbf, gamma: auto\n",
      "AUC of train: 0.9280807656181237\n",
      "AUC of valid: 0.7452051739518287\n",
      "\n",
      "C:  3.6 , kernel: rbf, gamma: auto\n",
      "AUC of train: 0.9296695414567501\n",
      "AUC of valid: 0.7458742194469223\n",
      "\n",
      "C:  3.7 , kernel: rbf, gamma: auto\n",
      "AUC of train: 0.9300879514985911\n",
      "AUC of valid: 0.7425847457627118\n",
      "\n",
      "C:  3.8 , kernel: rbf, gamma: auto\n",
      "AUC of train: 0.9319239636633541\n",
      "AUC of valid: 0.7460972346119537\n",
      "\n",
      "C:  3.9000000000000004 , kernel: rbf, gamma: auto\n",
      "AUC of train: 0.9332552563993088\n",
      "AUC of valid: 0.745651204281891\n",
      "\n",
      "C:  4.0 , kernel: rbf, gamma: auto\n",
      "AUC of train: 0.9343290660325927\n",
      "AUC of valid: 0.7458742194469223\n",
      "\n",
      "C:  4.1 , kernel: rbf, gamma: auto\n",
      "AUC of train: 0.9349947124005702\n",
      "AUC of valid: 0.7428077609277431\n",
      "\n",
      "C:  4.2 , kernel: rbf, gamma: auto\n",
      "AUC of train: 0.9353809370545771\n",
      "AUC of valid: 0.7434768064228368\n",
      "\n",
      "C:  4.300000000000001 , kernel: rbf, gamma: auto\n",
      "AUC of train: 0.9357993470964182\n",
      "AUC of valid: 0.7439228367528992\n",
      "\n",
      "C:  4.4 , kernel: rbf, gamma: auto\n",
      "AUC of train: 0.9371950106080411\n",
      "AUC of valid: 0.7439228367528992\n",
      "\n",
      "C:  4.5 , kernel: rbf, gamma: auto\n",
      "AUC of train: 0.9375490498742143\n",
      "AUC of valid: 0.7443688670829617\n",
      "\n",
      "C:  4.6 , kernel: rbf, gamma: auto\n",
      "AUC of train: 0.938536550120531\n",
      "AUC of valid: 0.7450379125780553\n",
      "\n",
      "C:  4.7 , kernel: rbf, gamma: auto\n",
      "AUC of train: 0.9392021964885084\n",
      "AUC of valid: 0.7448148974130241\n",
      "\n",
      "C:  4.800000000000001 , kernel: rbf, gamma: auto\n",
      "AUC of train: 0.9400287697956556\n",
      "AUC of valid: 0.7386819803746654\n",
      "\n",
      "C:  4.9 , kernel: rbf, gamma: auto\n",
      "AUC of train: 0.9415751134699132\n",
      "AUC of valid: 0.7386819803746654\n",
      "\n",
      "C:  5.0 , kernel: rbf, gamma: auto\n",
      "AUC of train: 0.9424016867770603\n",
      "AUC of valid: 0.7386819803746654\n",
      "\n",
      "C:  5.1 , kernel: rbf, gamma: auto\n",
      "AUC of train: 0.9427557260432334\n",
      "AUC of valid: 0.7321030330062444\n",
      "\n",
      "C:  5.2 , kernel: rbf, gamma: auto\n",
      "AUC of train: 0.943389187023377\n",
      "AUC of valid: 0.7325490633363069\n",
      "\n",
      "C:  5.300000000000001 , kernel: rbf, gamma: auto\n",
      "AUC of train: 0.9447848505349999\n",
      "AUC of valid: 0.7299286351471901\n",
      "\n",
      "C:  5.4 , kernel: rbf, gamma: auto\n",
      "AUC of train: 0.946051772495287\n",
      "AUC of valid: 0.7205062444246209\n",
      "\n",
      "C:  5.5 , kernel: rbf, gamma: auto\n",
      "AUC of train: 0.9467496042510986\n",
      "AUC of valid: 0.7209522747546833\n",
      "\n",
      "C:  5.6 , kernel: rbf, gamma: auto\n",
      "AUC of train: 0.9471036435172716\n",
      "AUC of valid: 0.71900089206066\n",
      "\n",
      "C:  5.7 , kernel: rbf, gamma: auto\n",
      "AUC of train: 0.9478658460487509\n",
      "AUC of valid: 0.7161574487065121\n",
      "\n",
      "C:  5.800000000000001 , kernel: rbf, gamma: auto\n",
      "AUC of train: 0.9480267729879206\n",
      "AUC of valid: 0.7170495093666369\n",
      "\n",
      "C:  5.9 , kernel: rbf, gamma: auto\n",
      "AUC of train: 0.9488533462950678\n",
      "AUC of valid: 0.7174955396966994\n",
      "\n",
      "C:  6.0 , kernel: rbf, gamma: auto\n",
      "AUC of train: 0.949143014785573\n",
      "AUC of valid: 0.7186106155218556\n",
      "\n",
      "C:  6.1000000000000005 , kernel: rbf, gamma: auto\n",
      "AUC of train: 0.9495292394395802\n",
      "AUC of valid: 0.7159901873327387\n",
      "\n",
      "C:  6.2 , kernel: rbf, gamma: auto\n",
      "AUC of train: 0.9495936102152479\n",
      "AUC of valid: 0.713592774308653\n",
      "\n",
      "C:  6.3 , kernel: rbf, gamma: auto\n",
      "AUC of train: 0.9499798348692551\n",
      "AUC of valid: 0.7144848349687779\n",
      "\n",
      "C:  6.4 , kernel: rbf, gamma: auto\n",
      "AUC of train: 0.9503016887475942\n",
      "AUC of valid: 0.7153768956289026\n",
      "\n",
      "C:  6.5 , kernel: rbf, gamma: auto\n",
      "AUC of train: 0.9515042399322136\n",
      "AUC of valid: 0.7158229259589652\n",
      "\n",
      "C:  6.6000000000000005 , kernel: rbf, gamma: auto\n",
      "AUC of train: 0.951761723034885\n",
      "AUC of valid: 0.7162689562890276\n",
      "\n",
      "C:  6.7 , kernel: rbf, gamma: auto\n",
      "AUC of train: 0.9524595547906964\n",
      "AUC of valid: 0.7162689562890276\n",
      "\n",
      "C:  6.800000000000001 , kernel: rbf, gamma: auto\n",
      "AUC of train: 0.9527492232812018\n",
      "AUC of valid: 0.7164919714540589\n",
      "\n",
      "C:  6.9 , kernel: rbf, gamma: auto\n",
      "AUC of train: 0.953983959853655\n",
      "AUC of valid: 0.713871543264942\n",
      "\n",
      "C:  7.0 , kernel: rbf, gamma: auto\n",
      "AUC of train: 0.9542092575684925\n",
      "AUC of valid: 0.7147636039250669\n",
      "\n",
      "C:  7.1000000000000005 , kernel: rbf, gamma: auto\n",
      "AUC of train: 0.9548105331608021\n",
      "AUC of valid: 0.7152096342551294\n",
      "\n",
      "C:  7.2 , kernel: rbf, gamma: auto\n",
      "AUC of train: 0.9551967578148093\n",
      "AUC of valid: 0.7161016949152541\n",
      "\n",
      "C:  7.300000000000001 , kernel: rbf, gamma: auto\n",
      "AUC of train: 0.9553898701418128\n",
      "AUC of valid: 0.7139272970561998\n",
      "\n",
      "C:  7.4 , kernel: rbf, gamma: auto\n",
      "AUC of train: 0.9556151678566503\n",
      "AUC of valid: 0.7110838537020518\n",
      "\n",
      "C:  7.5 , kernel: rbf, gamma: auto\n",
      "AUC of train: 0.9559048363471555\n",
      "AUC of valid: 0.7080173951828724\n",
      "\n",
      "C:  7.6000000000000005 , kernel: rbf, gamma: auto\n",
      "AUC of train: 0.9560013925106573\n",
      "AUC of valid: 0.708686440677966\n",
      "\n",
      "C:  7.7 , kernel: rbf, gamma: auto\n",
      "AUC of train: 0.956162319449827\n",
      "AUC of valid: 0.7098015165031222\n",
      "\n",
      "C:  7.800000000000001 , kernel: rbf, gamma: auto\n",
      "AUC of train: 0.9563876171646644\n",
      "AUC of valid: 0.7102475468331846\n",
      "\n",
      "C:  7.9 , kernel: rbf, gamma: auto\n",
      "AUC of train: 0.9565163587159999\n",
      "AUC of valid: 0.7071810883140053\n",
      "\n",
      "C:  8.0 , kernel: rbf, gamma: auto\n",
      "AUC of train: 0.9570532635326419\n",
      "AUC of valid: 0.7076271186440678\n",
      "\n",
      "C:  8.100000000000001 , kernel: rbf, gamma: auto\n",
      "AUC of train: 0.9572141904718114\n",
      "AUC of valid: 0.7045606601248885\n",
      "\n",
      "C:  8.2 , kernel: rbf, gamma: auto\n",
      "AUC of train: 0.957912022227623\n",
      "AUC of valid: 0.7047836752899197\n",
      "\n",
      "C:  8.3 , kernel: rbf, gamma: auto\n",
      "AUC of train: 0.9580407637789586\n",
      "AUC of valid: 0.7050066904549509\n",
      "\n"
     ]
    },
    {
     "ename": "KeyboardInterrupt",
     "evalue": "",
     "output_type": "error",
     "traceback": [
      "\u001b[0;31m---------------------------------------------------------------------------\u001b[0m",
      "\u001b[0;31mKeyboardInterrupt\u001b[0m                         Traceback (most recent call last)",
      "Input \u001b[0;32mIn [33]\u001b[0m, in \u001b[0;36m<cell line: 2>\u001b[0;34m()\u001b[0m\n\u001b[1;32m      4\u001b[0m model\u001b[38;5;241m.\u001b[39mfit(X_train, y_train)\n\u001b[1;32m      5\u001b[0m y_pred_valid \u001b[38;5;241m=\u001b[39m model\u001b[38;5;241m.\u001b[39mpredict(X_valid)\n\u001b[0;32m----> 6\u001b[0m y_pred_train \u001b[38;5;241m=\u001b[39m \u001b[43mmodel\u001b[49m\u001b[38;5;241;43m.\u001b[39;49m\u001b[43mpredict\u001b[49m\u001b[43m(\u001b[49m\u001b[43mX_train\u001b[49m\u001b[43m)\u001b[49m\n\u001b[1;32m      7\u001b[0m \u001b[38;5;28mprint\u001b[39m(\u001b[38;5;124m'\u001b[39m\u001b[38;5;124mC: \u001b[39m\u001b[38;5;124m'\u001b[39m, i, \u001b[38;5;124m'\u001b[39m\u001b[38;5;124m, kernel: rbf, gamma: auto\u001b[39m\u001b[38;5;124m'\u001b[39m)\n\u001b[1;32m      8\u001b[0m \u001b[38;5;28mprint\u001b[39m(\u001b[38;5;124m'\u001b[39m\u001b[38;5;124mAUC of train:\u001b[39m\u001b[38;5;124m'\u001b[39m , roc_auc_score(y_train, y_pred_train, average \u001b[38;5;241m=\u001b[39m \u001b[38;5;124m\"\u001b[39m\u001b[38;5;124mmacro\u001b[39m\u001b[38;5;124m\"\u001b[39m, sample_weight \u001b[38;5;241m=\u001b[39m \u001b[38;5;28;01mNone\u001b[39;00m))\n",
      "File \u001b[0;32m~/anaconda3_mmclnew/envs/mmcl_final/lib/python3.9/site-packages/sklearn/svm/_base.py:615\u001b[0m, in \u001b[0;36mBaseSVC.predict\u001b[0;34m(self, X)\u001b[0m\n\u001b[1;32m    613\u001b[0m     y \u001b[38;5;241m=\u001b[39m np\u001b[38;5;241m.\u001b[39margmax(\u001b[38;5;28mself\u001b[39m\u001b[38;5;241m.\u001b[39mdecision_function(X), axis\u001b[38;5;241m=\u001b[39m\u001b[38;5;241m1\u001b[39m)\n\u001b[1;32m    614\u001b[0m \u001b[38;5;28;01melse\u001b[39;00m:\n\u001b[0;32m--> 615\u001b[0m     y \u001b[38;5;241m=\u001b[39m \u001b[38;5;28;43msuper\u001b[39;49m\u001b[43m(\u001b[49m\u001b[43m)\u001b[49m\u001b[38;5;241;43m.\u001b[39;49m\u001b[43mpredict\u001b[49m\u001b[43m(\u001b[49m\u001b[43mX\u001b[49m\u001b[43m)\u001b[49m\n\u001b[1;32m    616\u001b[0m \u001b[38;5;28;01mreturn\u001b[39;00m \u001b[38;5;28mself\u001b[39m\u001b[38;5;241m.\u001b[39mclasses_\u001b[38;5;241m.\u001b[39mtake(np\u001b[38;5;241m.\u001b[39masarray(y, dtype\u001b[38;5;241m=\u001b[39mnp\u001b[38;5;241m.\u001b[39mintp))\n",
      "File \u001b[0;32m~/anaconda3_mmclnew/envs/mmcl_final/lib/python3.9/site-packages/sklearn/svm/_base.py:335\u001b[0m, in \u001b[0;36mBaseLibSVM.predict\u001b[0;34m(self, X)\u001b[0m\n\u001b[1;32m    333\u001b[0m X \u001b[38;5;241m=\u001b[39m \u001b[38;5;28mself\u001b[39m\u001b[38;5;241m.\u001b[39m_validate_for_predict(X)\n\u001b[1;32m    334\u001b[0m predict \u001b[38;5;241m=\u001b[39m \u001b[38;5;28mself\u001b[39m\u001b[38;5;241m.\u001b[39m_sparse_predict \u001b[38;5;28;01mif\u001b[39;00m \u001b[38;5;28mself\u001b[39m\u001b[38;5;241m.\u001b[39m_sparse \u001b[38;5;28;01melse\u001b[39;00m \u001b[38;5;28mself\u001b[39m\u001b[38;5;241m.\u001b[39m_dense_predict\n\u001b[0;32m--> 335\u001b[0m \u001b[38;5;28;01mreturn\u001b[39;00m \u001b[43mpredict\u001b[49m\u001b[43m(\u001b[49m\u001b[43mX\u001b[49m\u001b[43m)\u001b[49m\n",
      "File \u001b[0;32m~/anaconda3_mmclnew/envs/mmcl_final/lib/python3.9/site-packages/sklearn/svm/_base.py:352\u001b[0m, in \u001b[0;36mBaseLibSVM._dense_predict\u001b[0;34m(self, X)\u001b[0m\n\u001b[1;32m    346\u001b[0m         \u001b[38;5;28;01mraise\u001b[39;00m \u001b[38;5;167;01mValueError\u001b[39;00m(\u001b[38;5;124m\"\u001b[39m\u001b[38;5;124mX.shape[1] = \u001b[39m\u001b[38;5;132;01m%d\u001b[39;00m\u001b[38;5;124m should be equal to \u001b[39m\u001b[38;5;132;01m%d\u001b[39;00m\u001b[38;5;124m, \u001b[39m\u001b[38;5;124m\"\u001b[39m\n\u001b[1;32m    347\u001b[0m                          \u001b[38;5;124m\"\u001b[39m\u001b[38;5;124mthe number of samples at training time\u001b[39m\u001b[38;5;124m\"\u001b[39m \u001b[38;5;241m%\u001b[39m\n\u001b[1;32m    348\u001b[0m                          (X\u001b[38;5;241m.\u001b[39mshape[\u001b[38;5;241m1\u001b[39m], \u001b[38;5;28mself\u001b[39m\u001b[38;5;241m.\u001b[39mshape_fit_[\u001b[38;5;241m0\u001b[39m]))\n\u001b[1;32m    350\u001b[0m svm_type \u001b[38;5;241m=\u001b[39m LIBSVM_IMPL\u001b[38;5;241m.\u001b[39mindex(\u001b[38;5;28mself\u001b[39m\u001b[38;5;241m.\u001b[39m_impl)\n\u001b[0;32m--> 352\u001b[0m \u001b[38;5;28;01mreturn\u001b[39;00m \u001b[43mlibsvm\u001b[49m\u001b[38;5;241;43m.\u001b[39;49m\u001b[43mpredict\u001b[49m\u001b[43m(\u001b[49m\n\u001b[1;32m    353\u001b[0m \u001b[43m    \u001b[49m\u001b[43mX\u001b[49m\u001b[43m,\u001b[49m\u001b[43m \u001b[49m\u001b[38;5;28;43mself\u001b[39;49m\u001b[38;5;241;43m.\u001b[39;49m\u001b[43msupport_\u001b[49m\u001b[43m,\u001b[49m\u001b[43m \u001b[49m\u001b[38;5;28;43mself\u001b[39;49m\u001b[38;5;241;43m.\u001b[39;49m\u001b[43msupport_vectors_\u001b[49m\u001b[43m,\u001b[49m\u001b[43m \u001b[49m\u001b[38;5;28;43mself\u001b[39;49m\u001b[38;5;241;43m.\u001b[39;49m\u001b[43m_n_support\u001b[49m\u001b[43m,\u001b[49m\n\u001b[1;32m    354\u001b[0m \u001b[43m    \u001b[49m\u001b[38;5;28;43mself\u001b[39;49m\u001b[38;5;241;43m.\u001b[39;49m\u001b[43m_dual_coef_\u001b[49m\u001b[43m,\u001b[49m\u001b[43m \u001b[49m\u001b[38;5;28;43mself\u001b[39;49m\u001b[38;5;241;43m.\u001b[39;49m\u001b[43m_intercept_\u001b[49m\u001b[43m,\u001b[49m\n\u001b[1;32m    355\u001b[0m \u001b[43m    \u001b[49m\u001b[38;5;28;43mself\u001b[39;49m\u001b[38;5;241;43m.\u001b[39;49m\u001b[43m_probA\u001b[49m\u001b[43m,\u001b[49m\u001b[43m \u001b[49m\u001b[38;5;28;43mself\u001b[39;49m\u001b[38;5;241;43m.\u001b[39;49m\u001b[43m_probB\u001b[49m\u001b[43m,\u001b[49m\u001b[43m \u001b[49m\u001b[43msvm_type\u001b[49m\u001b[38;5;241;43m=\u001b[39;49m\u001b[43msvm_type\u001b[49m\u001b[43m,\u001b[49m\u001b[43m \u001b[49m\u001b[43mkernel\u001b[49m\u001b[38;5;241;43m=\u001b[39;49m\u001b[43mkernel\u001b[49m\u001b[43m,\u001b[49m\n\u001b[1;32m    356\u001b[0m \u001b[43m    \u001b[49m\u001b[43mdegree\u001b[49m\u001b[38;5;241;43m=\u001b[39;49m\u001b[38;5;28;43mself\u001b[39;49m\u001b[38;5;241;43m.\u001b[39;49m\u001b[43mdegree\u001b[49m\u001b[43m,\u001b[49m\u001b[43m \u001b[49m\u001b[43mcoef0\u001b[49m\u001b[38;5;241;43m=\u001b[39;49m\u001b[38;5;28;43mself\u001b[39;49m\u001b[38;5;241;43m.\u001b[39;49m\u001b[43mcoef0\u001b[49m\u001b[43m,\u001b[49m\u001b[43m \u001b[49m\u001b[43mgamma\u001b[49m\u001b[38;5;241;43m=\u001b[39;49m\u001b[38;5;28;43mself\u001b[39;49m\u001b[38;5;241;43m.\u001b[39;49m\u001b[43m_gamma\u001b[49m\u001b[43m,\u001b[49m\n\u001b[1;32m    357\u001b[0m \u001b[43m    \u001b[49m\u001b[43mcache_size\u001b[49m\u001b[38;5;241;43m=\u001b[39;49m\u001b[38;5;28;43mself\u001b[39;49m\u001b[38;5;241;43m.\u001b[39;49m\u001b[43mcache_size\u001b[49m\u001b[43m)\u001b[49m\n",
      "\u001b[0;31mKeyboardInterrupt\u001b[0m: "
     ]
    }
   ],
   "source": [
    "C = np.linspace(2, 9, 71)\n",
    "for i in C:\n",
    "    model = SVC(class_weight = 'balanced', C = i, kernel = \"rbf\", gamma = 'auto')\n",
    "    model.fit(X_train, y_train)\n",
    "    y_pred_valid = model.predict(X_valid)\n",
    "    y_pred_train = model.predict(X_train)\n",
    "    print('C: ', i, ', kernel: rbf, gamma: auto')\n",
    "    print('AUC of train:' , roc_auc_score(y_train, y_pred_train, average = \"macro\", sample_weight = None))\n",
    "    print('AUC of valid:' , roc_auc_score(y_valid, y_pred_valid, average = \"macro\", sample_weight = None))\n",
    "    print()"
   ]
  },
  {
   "cell_type": "code",
   "execution_count": 5,
   "metadata": {},
   "outputs": [
    {
     "name": "stdout",
     "output_type": "stream",
     "text": [
      "C: 2, kernel: rbf, gamma:  0.006\n",
      "AUC of train: 0.8663614090631424\n",
      "AUC of valid: 0.7550735950044603\n",
      "\n",
      "C: 2, kernel: rbf, gamma:  0.007\n",
      "AUC of train: 0.8775691493204941\n",
      "AUC of valid: 0.7584745762711864\n",
      "\n",
      "C: 2, kernel: rbf, gamma:  0.008\n",
      "AUC of train: 0.887081310799183\n",
      "AUC of valid: 0.7625446030330063\n",
      "\n",
      "C: 2, kernel: rbf, gamma:  0.009\n",
      "AUC of train: 0.8954757854219899\n",
      "AUC of valid: 0.7635481712756468\n",
      "\n",
      "C: 2, kernel: rbf, gamma:  0.01\n",
      "AUC of train: 0.9060617565339621\n",
      "AUC of valid: 0.7739183764495986\n",
      "\n",
      "C: 2, kernel: rbf, gamma:  0.02\n",
      "AUC of train: 0.9642130015829957\n",
      "AUC of valid: 0.6427297056199822\n",
      "\n"
     ]
    },
    {
     "ename": "KeyboardInterrupt",
     "evalue": "",
     "output_type": "error",
     "traceback": [
      "\u001b[0;31m---------------------------------------------------------------------------\u001b[0m",
      "\u001b[0;31mKeyboardInterrupt\u001b[0m                         Traceback (most recent call last)",
      "Input \u001b[0;32mIn [5]\u001b[0m, in \u001b[0;36m<cell line: 2>\u001b[0;34m()\u001b[0m\n\u001b[1;32m      2\u001b[0m \u001b[38;5;28;01mfor\u001b[39;00m i \u001b[38;5;129;01min\u001b[39;00m gamma:\n\u001b[1;32m      3\u001b[0m     model \u001b[38;5;241m=\u001b[39m SVC(class_weight \u001b[38;5;241m=\u001b[39m \u001b[38;5;124m'\u001b[39m\u001b[38;5;124mbalanced\u001b[39m\u001b[38;5;124m'\u001b[39m, C \u001b[38;5;241m=\u001b[39m \u001b[38;5;241m2\u001b[39m, kernel \u001b[38;5;241m=\u001b[39m \u001b[38;5;124m\"\u001b[39m\u001b[38;5;124mrbf\u001b[39m\u001b[38;5;124m\"\u001b[39m, gamma \u001b[38;5;241m=\u001b[39m i)\n\u001b[0;32m----> 4\u001b[0m     \u001b[43mmodel\u001b[49m\u001b[38;5;241;43m.\u001b[39;49m\u001b[43mfit\u001b[49m\u001b[43m(\u001b[49m\u001b[43mX_train\u001b[49m\u001b[43m,\u001b[49m\u001b[43m \u001b[49m\u001b[43my_train\u001b[49m\u001b[43m)\u001b[49m\n\u001b[1;32m      5\u001b[0m     y_pred_valid \u001b[38;5;241m=\u001b[39m model\u001b[38;5;241m.\u001b[39mpredict(X_valid)\n\u001b[1;32m      6\u001b[0m     y_pred_train \u001b[38;5;241m=\u001b[39m model\u001b[38;5;241m.\u001b[39mpredict(X_train)\n",
      "File \u001b[0;32m~/anaconda3_mmclnew/envs/mmcl_final/lib/python3.9/site-packages/sklearn/svm/_base.py:217\u001b[0m, in \u001b[0;36mBaseLibSVM.fit\u001b[0;34m(self, X, y, sample_weight)\u001b[0m\n\u001b[1;32m    214\u001b[0m     \u001b[38;5;28mprint\u001b[39m(\u001b[38;5;124m'\u001b[39m\u001b[38;5;124m[LibSVM]\u001b[39m\u001b[38;5;124m'\u001b[39m, end\u001b[38;5;241m=\u001b[39m\u001b[38;5;124m'\u001b[39m\u001b[38;5;124m'\u001b[39m)\n\u001b[1;32m    216\u001b[0m seed \u001b[38;5;241m=\u001b[39m rnd\u001b[38;5;241m.\u001b[39mrandint(np\u001b[38;5;241m.\u001b[39miinfo(\u001b[38;5;124m'\u001b[39m\u001b[38;5;124mi\u001b[39m\u001b[38;5;124m'\u001b[39m)\u001b[38;5;241m.\u001b[39mmax)\n\u001b[0;32m--> 217\u001b[0m \u001b[43mfit\u001b[49m\u001b[43m(\u001b[49m\u001b[43mX\u001b[49m\u001b[43m,\u001b[49m\u001b[43m \u001b[49m\u001b[43my\u001b[49m\u001b[43m,\u001b[49m\u001b[43m \u001b[49m\u001b[43msample_weight\u001b[49m\u001b[43m,\u001b[49m\u001b[43m \u001b[49m\u001b[43msolver_type\u001b[49m\u001b[43m,\u001b[49m\u001b[43m \u001b[49m\u001b[43mkernel\u001b[49m\u001b[43m,\u001b[49m\u001b[43m \u001b[49m\u001b[43mrandom_seed\u001b[49m\u001b[38;5;241;43m=\u001b[39;49m\u001b[43mseed\u001b[49m\u001b[43m)\u001b[49m\n\u001b[1;32m    218\u001b[0m \u001b[38;5;66;03m# see comment on the other call to np.iinfo in this file\u001b[39;00m\n\u001b[1;32m    220\u001b[0m \u001b[38;5;28mself\u001b[39m\u001b[38;5;241m.\u001b[39mshape_fit_ \u001b[38;5;241m=\u001b[39m X\u001b[38;5;241m.\u001b[39mshape \u001b[38;5;28;01mif\u001b[39;00m \u001b[38;5;28mhasattr\u001b[39m(X, \u001b[38;5;124m\"\u001b[39m\u001b[38;5;124mshape\u001b[39m\u001b[38;5;124m\"\u001b[39m) \u001b[38;5;28;01melse\u001b[39;00m (n_samples, )\n",
      "File \u001b[0;32m~/anaconda3_mmclnew/envs/mmcl_final/lib/python3.9/site-packages/sklearn/svm/_base.py:268\u001b[0m, in \u001b[0;36mBaseLibSVM._dense_fit\u001b[0;34m(self, X, y, sample_weight, solver_type, kernel, random_seed)\u001b[0m\n\u001b[1;32m    262\u001b[0m libsvm\u001b[38;5;241m.\u001b[39mset_verbosity_wrap(\u001b[38;5;28mself\u001b[39m\u001b[38;5;241m.\u001b[39mverbose)\n\u001b[1;32m    264\u001b[0m \u001b[38;5;66;03m# we don't pass **self.get_params() to allow subclasses to\u001b[39;00m\n\u001b[1;32m    265\u001b[0m \u001b[38;5;66;03m# add other parameters to __init__\u001b[39;00m\n\u001b[1;32m    266\u001b[0m \u001b[38;5;28mself\u001b[39m\u001b[38;5;241m.\u001b[39msupport_, \u001b[38;5;28mself\u001b[39m\u001b[38;5;241m.\u001b[39msupport_vectors_, \u001b[38;5;28mself\u001b[39m\u001b[38;5;241m.\u001b[39m_n_support, \\\n\u001b[1;32m    267\u001b[0m     \u001b[38;5;28mself\u001b[39m\u001b[38;5;241m.\u001b[39mdual_coef_, \u001b[38;5;28mself\u001b[39m\u001b[38;5;241m.\u001b[39mintercept_, \u001b[38;5;28mself\u001b[39m\u001b[38;5;241m.\u001b[39m_probA, \\\n\u001b[0;32m--> 268\u001b[0m     \u001b[38;5;28mself\u001b[39m\u001b[38;5;241m.\u001b[39m_probB, \u001b[38;5;28mself\u001b[39m\u001b[38;5;241m.\u001b[39mfit_status_ \u001b[38;5;241m=\u001b[39m \u001b[43mlibsvm\u001b[49m\u001b[38;5;241;43m.\u001b[39;49m\u001b[43mfit\u001b[49m\u001b[43m(\u001b[49m\n\u001b[1;32m    269\u001b[0m \u001b[43m        \u001b[49m\u001b[43mX\u001b[49m\u001b[43m,\u001b[49m\u001b[43m \u001b[49m\u001b[43my\u001b[49m\u001b[43m,\u001b[49m\n\u001b[1;32m    270\u001b[0m \u001b[43m        \u001b[49m\u001b[43msvm_type\u001b[49m\u001b[38;5;241;43m=\u001b[39;49m\u001b[43msolver_type\u001b[49m\u001b[43m,\u001b[49m\u001b[43m \u001b[49m\u001b[43msample_weight\u001b[49m\u001b[38;5;241;43m=\u001b[39;49m\u001b[43msample_weight\u001b[49m\u001b[43m,\u001b[49m\n\u001b[1;32m    271\u001b[0m \u001b[43m        \u001b[49m\u001b[43mclass_weight\u001b[49m\u001b[38;5;241;43m=\u001b[39;49m\u001b[38;5;28;43mself\u001b[39;49m\u001b[38;5;241;43m.\u001b[39;49m\u001b[43mclass_weight_\u001b[49m\u001b[43m,\u001b[49m\u001b[43m \u001b[49m\u001b[43mkernel\u001b[49m\u001b[38;5;241;43m=\u001b[39;49m\u001b[43mkernel\u001b[49m\u001b[43m,\u001b[49m\u001b[43m \u001b[49m\u001b[43mC\u001b[49m\u001b[38;5;241;43m=\u001b[39;49m\u001b[38;5;28;43mself\u001b[39;49m\u001b[38;5;241;43m.\u001b[39;49m\u001b[43mC\u001b[49m\u001b[43m,\u001b[49m\n\u001b[1;32m    272\u001b[0m \u001b[43m        \u001b[49m\u001b[43mnu\u001b[49m\u001b[38;5;241;43m=\u001b[39;49m\u001b[38;5;28;43mself\u001b[39;49m\u001b[38;5;241;43m.\u001b[39;49m\u001b[43mnu\u001b[49m\u001b[43m,\u001b[49m\u001b[43m \u001b[49m\u001b[43mprobability\u001b[49m\u001b[38;5;241;43m=\u001b[39;49m\u001b[38;5;28;43mself\u001b[39;49m\u001b[38;5;241;43m.\u001b[39;49m\u001b[43mprobability\u001b[49m\u001b[43m,\u001b[49m\u001b[43m \u001b[49m\u001b[43mdegree\u001b[49m\u001b[38;5;241;43m=\u001b[39;49m\u001b[38;5;28;43mself\u001b[39;49m\u001b[38;5;241;43m.\u001b[39;49m\u001b[43mdegree\u001b[49m\u001b[43m,\u001b[49m\n\u001b[1;32m    273\u001b[0m \u001b[43m        \u001b[49m\u001b[43mshrinking\u001b[49m\u001b[38;5;241;43m=\u001b[39;49m\u001b[38;5;28;43mself\u001b[39;49m\u001b[38;5;241;43m.\u001b[39;49m\u001b[43mshrinking\u001b[49m\u001b[43m,\u001b[49m\u001b[43m \u001b[49m\u001b[43mtol\u001b[49m\u001b[38;5;241;43m=\u001b[39;49m\u001b[38;5;28;43mself\u001b[39;49m\u001b[38;5;241;43m.\u001b[39;49m\u001b[43mtol\u001b[49m\u001b[43m,\u001b[49m\n\u001b[1;32m    274\u001b[0m \u001b[43m        \u001b[49m\u001b[43mcache_size\u001b[49m\u001b[38;5;241;43m=\u001b[39;49m\u001b[38;5;28;43mself\u001b[39;49m\u001b[38;5;241;43m.\u001b[39;49m\u001b[43mcache_size\u001b[49m\u001b[43m,\u001b[49m\u001b[43m \u001b[49m\u001b[43mcoef0\u001b[49m\u001b[38;5;241;43m=\u001b[39;49m\u001b[38;5;28;43mself\u001b[39;49m\u001b[38;5;241;43m.\u001b[39;49m\u001b[43mcoef0\u001b[49m\u001b[43m,\u001b[49m\n\u001b[1;32m    275\u001b[0m \u001b[43m        \u001b[49m\u001b[43mgamma\u001b[49m\u001b[38;5;241;43m=\u001b[39;49m\u001b[38;5;28;43mself\u001b[39;49m\u001b[38;5;241;43m.\u001b[39;49m\u001b[43m_gamma\u001b[49m\u001b[43m,\u001b[49m\u001b[43m \u001b[49m\u001b[43mepsilon\u001b[49m\u001b[38;5;241;43m=\u001b[39;49m\u001b[38;5;28;43mself\u001b[39;49m\u001b[38;5;241;43m.\u001b[39;49m\u001b[43mepsilon\u001b[49m\u001b[43m,\u001b[49m\n\u001b[1;32m    276\u001b[0m \u001b[43m        \u001b[49m\u001b[43mmax_iter\u001b[49m\u001b[38;5;241;43m=\u001b[39;49m\u001b[38;5;28;43mself\u001b[39;49m\u001b[38;5;241;43m.\u001b[39;49m\u001b[43mmax_iter\u001b[49m\u001b[43m,\u001b[49m\u001b[43m \u001b[49m\u001b[43mrandom_seed\u001b[49m\u001b[38;5;241;43m=\u001b[39;49m\u001b[43mrandom_seed\u001b[49m\u001b[43m)\u001b[49m\n\u001b[1;32m    278\u001b[0m \u001b[38;5;28mself\u001b[39m\u001b[38;5;241m.\u001b[39m_warn_from_fit_status()\n",
      "\u001b[0;31mKeyboardInterrupt\u001b[0m: "
     ]
    }
   ],
   "source": [
    "gamma = [0.006, 0.007, 0.008, 0.009, 0.01, 0.02, 0.03, 0.04]\n",
    "for i in gamma:\n",
    "    model = SVC(class_weight = 'balanced', C = 2, kernel = \"rbf\", gamma = i)\n",
    "    model.fit(X_train, y_train)\n",
    "    y_pred_valid = model.predict(X_valid)\n",
    "    y_pred_train = model.predict(X_train)\n",
    "    print('C: 2, kernel: rbf, gamma: ', i)\n",
    "    print('AUC of train:' , roc_auc_score(y_train, y_pred_train, average = \"macro\", sample_weight = None))\n",
    "    print('AUC of valid:' , roc_auc_score(y_valid, y_pred_valid, average = \"macro\", sample_weight = None))\n",
    "    print()"
   ]
  },
  {
   "cell_type": "code",
   "execution_count": 6,
   "metadata": {},
   "outputs": [
    {
     "name": "stdout",
     "output_type": "stream",
     "text": [
      "C: 2, kernel: rbf, gamma:  0.0095\n",
      "AUC of train: 0.8997271467325263\n",
      "AUC of valid: 0.7695695807314897\n",
      "\n",
      "C: 2, kernel: rbf, gamma:  0.01\n",
      "AUC of train: 0.9060617565339621\n",
      "AUC of valid: 0.7739183764495986\n",
      "\n",
      "C: 2, kernel: rbf, gamma:  0.011\n",
      "AUC of train: 0.915939649113588\n",
      "AUC of valid: 0.7666703835860837\n",
      "\n",
      "C: 2, kernel: rbf, gamma:  0.012\n",
      "AUC of train: 0.92124143638788\n",
      "AUC of valid: 0.7476583407671721\n",
      "\n"
     ]
    }
   ],
   "source": [
    "gamma = [0.0095, 0.01, 0.011, 0.012]\n",
    "for i in gamma:\n",
    "    model = SVC(class_weight = 'balanced', C = 2, kernel = \"rbf\", gamma = i)\n",
    "    model.fit(X_train, y_train)\n",
    "    y_pred_valid = model.predict(X_valid)\n",
    "    y_pred_train = model.predict(X_train)\n",
    "    print('C: 2, kernel: rbf, gamma: ', i)\n",
    "    print('AUC of train:' , roc_auc_score(y_train, y_pred_train, average = \"macro\", sample_weight = None))\n",
    "    print('AUC of valid:' , roc_auc_score(y_valid, y_pred_valid, average = \"macro\", sample_weight = None))\n",
    "    print()"
   ]
  },
  {
   "cell_type": "code",
   "execution_count": 13,
   "metadata": {},
   "outputs": [],
   "source": [
    "X_test = pd.read_csv(\"X_test_filtered.csv\")\n",
    "X_test = X_test.drop(labels = ['Unnamed: 0'], axis = 1)\n",
    "X_test = X_test.iloc[:, 0:100]\n",
    "model = SVC(class_weight = 'balanced', C = 2, kernel = \"rbf\", gamma = 'auto')\n",
    "model.fit(X_train2, y_train2)\n",
    "y_pred_test = model.predict(X_test)\n",
    "pd.DataFrame(y_pred_test).to_csv(\"y_test.csv\")"
   ]
  },
  {
   "cell_type": "code",
   "execution_count": 7,
   "metadata": {},
   "outputs": [
    {
     "name": "stdout",
     "output_type": "stream",
     "text": [
      "AUC of valid: 1.7817279021483168\n",
      "AUC of valid: 1.8872166693854993\n"
     ]
    }
   ],
   "source": [
    "model = SVR(C = 2, kernel = \"rbf\", gamma = 'auto')\n",
    "model.fit(X_train, y_train)\n",
    "y_pred_valid = model.predict(X_valid)\n",
    "y_pred_train = model.predict(X_train)\n",
    "print('C = ', i)\n",
    "print('AUC of train:' , mean_squared_error(y_train, y_pred_train, squared=False))\n",
    "print('AUC of valid:' , mean_squared_error(y_valid, y_pred_valid, squared=False))"
   ]
  },
  {
   "cell_type": "code",
   "execution_count": 8,
   "metadata": {},
   "outputs": [],
   "source": [
    "X_test = pd.read_csv(\"X_test_filtered.csv\")\n",
    "X_test = X_test.drop(labels = ['Unnamed: 0'], axis = 1)\n",
    "X_test = X_test.iloc[:, 0:100]\n",
    "#model = SVC(class_weight = 'balanced', C = 2, kernel = \"rbf\", gamma = 'auto')\n",
    "#model.fit(X_train2, y_train2)\n",
    "y_pred_test = model.predict(X_test)\n",
    "pd.DataFrame(y_pred_test).to_csv(\"y_test.csv\")"
   ]
  },
  {
   "cell_type": "code",
   "execution_count": 9,
   "metadata": {},
   "outputs": [
    {
     "name": "stdout",
     "output_type": "stream",
     "text": [
      "C =  1.9\n",
      "AUC of train: 1.7863966338295922\n",
      "AUC of valid: 1.8884642351853336\n",
      "C =  2.1\n",
      "AUC of train: 1.7771979947852412\n",
      "AUC of valid: 1.8863074940689841\n"
     ]
    }
   ],
   "source": [
    "for i in [1.9, 2.1]:\n",
    "    model = SVR(C = i, kernel = \"rbf\", gamma = 'auto')\n",
    "    model.fit(X_train, y_train)\n",
    "    y_pred_valid = model.predict(X_valid)\n",
    "    y_pred_train = model.predict(X_train)\n",
    "    print('C = ', i)\n",
    "    print('AUC of train:' , mean_squared_error(y_train, y_pred_train, squared=False))\n",
    "    print('AUC of valid:' , mean_squared_error(y_valid, y_pred_valid, squared=False))"
   ]
  },
  {
   "cell_type": "code",
   "execution_count": 10,
   "metadata": {},
   "outputs": [
    {
     "name": "stdout",
     "output_type": "stream",
     "text": [
      "C =  2.2\n",
      "AUC of train: 1.7727960584724272\n",
      "AUC of valid: 1.8855053698967823\n",
      "C =  2.3\n",
      "AUC of train: 1.7684419266766331\n",
      "AUC of valid: 1.884800434072471\n"
     ]
    }
   ],
   "source": [
    "for i in [2.2, 2.3]:\n",
    "    model = SVR(C = i, kernel = \"rbf\", gamma = 'auto')\n",
    "    model.fit(X_train, y_train)\n",
    "    y_pred_valid = model.predict(X_valid)\n",
    "    y_pred_train = model.predict(X_train)\n",
    "    print('C = ', i)\n",
    "    print('AUC of train:' , mean_squared_error(y_train, y_pred_train, squared=False))\n",
    "    print('AUC of valid:' , mean_squared_error(y_valid, y_pred_valid, squared=False))"
   ]
  },
  {
   "cell_type": "code",
   "execution_count": 11,
   "metadata": {},
   "outputs": [
    {
     "name": "stdout",
     "output_type": "stream",
     "text": [
      "C =  2.4\n",
      "AUC of train: 1.764208423414914\n",
      "AUC of valid: 1.8841586097921286\n"
     ]
    },
    {
     "ename": "KeyboardInterrupt",
     "evalue": "",
     "output_type": "error",
     "traceback": [
      "\u001b[0;31m---------------------------------------------------------------------------\u001b[0m",
      "\u001b[0;31mKeyboardInterrupt\u001b[0m                         Traceback (most recent call last)",
      "Input \u001b[0;32mIn [11]\u001b[0m, in \u001b[0;36m<cell line: 1>\u001b[0;34m()\u001b[0m\n\u001b[1;32m      1\u001b[0m \u001b[38;5;28;01mfor\u001b[39;00m i \u001b[38;5;129;01min\u001b[39;00m [\u001b[38;5;241m2.4\u001b[39m, \u001b[38;5;241m2.5\u001b[39m, \u001b[38;5;241m2.6\u001b[39m, \u001b[38;5;241m2.7\u001b[39m, \u001b[38;5;241m2.8\u001b[39m, \u001b[38;5;241m2.9\u001b[39m, \u001b[38;5;241m3\u001b[39m]:\n\u001b[1;32m      2\u001b[0m     model \u001b[38;5;241m=\u001b[39m SVR(C \u001b[38;5;241m=\u001b[39m i, kernel \u001b[38;5;241m=\u001b[39m \u001b[38;5;124m\"\u001b[39m\u001b[38;5;124mrbf\u001b[39m\u001b[38;5;124m\"\u001b[39m, gamma \u001b[38;5;241m=\u001b[39m \u001b[38;5;124m'\u001b[39m\u001b[38;5;124mauto\u001b[39m\u001b[38;5;124m'\u001b[39m)\n\u001b[0;32m----> 3\u001b[0m     \u001b[43mmodel\u001b[49m\u001b[38;5;241;43m.\u001b[39;49m\u001b[43mfit\u001b[49m\u001b[43m(\u001b[49m\u001b[43mX_train\u001b[49m\u001b[43m,\u001b[49m\u001b[43m \u001b[49m\u001b[43my_train\u001b[49m\u001b[43m)\u001b[49m\n\u001b[1;32m      4\u001b[0m     y_pred_valid \u001b[38;5;241m=\u001b[39m model\u001b[38;5;241m.\u001b[39mpredict(X_valid)\n\u001b[1;32m      5\u001b[0m     y_pred_train \u001b[38;5;241m=\u001b[39m model\u001b[38;5;241m.\u001b[39mpredict(X_train)\n",
      "File \u001b[0;32m~/anaconda3_mmclnew/envs/mmcl_final/lib/python3.9/site-packages/sklearn/svm/_base.py:217\u001b[0m, in \u001b[0;36mBaseLibSVM.fit\u001b[0;34m(self, X, y, sample_weight)\u001b[0m\n\u001b[1;32m    214\u001b[0m     \u001b[38;5;28mprint\u001b[39m(\u001b[38;5;124m'\u001b[39m\u001b[38;5;124m[LibSVM]\u001b[39m\u001b[38;5;124m'\u001b[39m, end\u001b[38;5;241m=\u001b[39m\u001b[38;5;124m'\u001b[39m\u001b[38;5;124m'\u001b[39m)\n\u001b[1;32m    216\u001b[0m seed \u001b[38;5;241m=\u001b[39m rnd\u001b[38;5;241m.\u001b[39mrandint(np\u001b[38;5;241m.\u001b[39miinfo(\u001b[38;5;124m'\u001b[39m\u001b[38;5;124mi\u001b[39m\u001b[38;5;124m'\u001b[39m)\u001b[38;5;241m.\u001b[39mmax)\n\u001b[0;32m--> 217\u001b[0m \u001b[43mfit\u001b[49m\u001b[43m(\u001b[49m\u001b[43mX\u001b[49m\u001b[43m,\u001b[49m\u001b[43m \u001b[49m\u001b[43my\u001b[49m\u001b[43m,\u001b[49m\u001b[43m \u001b[49m\u001b[43msample_weight\u001b[49m\u001b[43m,\u001b[49m\u001b[43m \u001b[49m\u001b[43msolver_type\u001b[49m\u001b[43m,\u001b[49m\u001b[43m \u001b[49m\u001b[43mkernel\u001b[49m\u001b[43m,\u001b[49m\u001b[43m \u001b[49m\u001b[43mrandom_seed\u001b[49m\u001b[38;5;241;43m=\u001b[39;49m\u001b[43mseed\u001b[49m\u001b[43m)\u001b[49m\n\u001b[1;32m    218\u001b[0m \u001b[38;5;66;03m# see comment on the other call to np.iinfo in this file\u001b[39;00m\n\u001b[1;32m    220\u001b[0m \u001b[38;5;28mself\u001b[39m\u001b[38;5;241m.\u001b[39mshape_fit_ \u001b[38;5;241m=\u001b[39m X\u001b[38;5;241m.\u001b[39mshape \u001b[38;5;28;01mif\u001b[39;00m \u001b[38;5;28mhasattr\u001b[39m(X, \u001b[38;5;124m\"\u001b[39m\u001b[38;5;124mshape\u001b[39m\u001b[38;5;124m\"\u001b[39m) \u001b[38;5;28;01melse\u001b[39;00m (n_samples, )\n",
      "File \u001b[0;32m~/anaconda3_mmclnew/envs/mmcl_final/lib/python3.9/site-packages/sklearn/svm/_base.py:268\u001b[0m, in \u001b[0;36mBaseLibSVM._dense_fit\u001b[0;34m(self, X, y, sample_weight, solver_type, kernel, random_seed)\u001b[0m\n\u001b[1;32m    262\u001b[0m libsvm\u001b[38;5;241m.\u001b[39mset_verbosity_wrap(\u001b[38;5;28mself\u001b[39m\u001b[38;5;241m.\u001b[39mverbose)\n\u001b[1;32m    264\u001b[0m \u001b[38;5;66;03m# we don't pass **self.get_params() to allow subclasses to\u001b[39;00m\n\u001b[1;32m    265\u001b[0m \u001b[38;5;66;03m# add other parameters to __init__\u001b[39;00m\n\u001b[1;32m    266\u001b[0m \u001b[38;5;28mself\u001b[39m\u001b[38;5;241m.\u001b[39msupport_, \u001b[38;5;28mself\u001b[39m\u001b[38;5;241m.\u001b[39msupport_vectors_, \u001b[38;5;28mself\u001b[39m\u001b[38;5;241m.\u001b[39m_n_support, \\\n\u001b[1;32m    267\u001b[0m     \u001b[38;5;28mself\u001b[39m\u001b[38;5;241m.\u001b[39mdual_coef_, \u001b[38;5;28mself\u001b[39m\u001b[38;5;241m.\u001b[39mintercept_, \u001b[38;5;28mself\u001b[39m\u001b[38;5;241m.\u001b[39m_probA, \\\n\u001b[0;32m--> 268\u001b[0m     \u001b[38;5;28mself\u001b[39m\u001b[38;5;241m.\u001b[39m_probB, \u001b[38;5;28mself\u001b[39m\u001b[38;5;241m.\u001b[39mfit_status_ \u001b[38;5;241m=\u001b[39m \u001b[43mlibsvm\u001b[49m\u001b[38;5;241;43m.\u001b[39;49m\u001b[43mfit\u001b[49m\u001b[43m(\u001b[49m\n\u001b[1;32m    269\u001b[0m \u001b[43m        \u001b[49m\u001b[43mX\u001b[49m\u001b[43m,\u001b[49m\u001b[43m \u001b[49m\u001b[43my\u001b[49m\u001b[43m,\u001b[49m\n\u001b[1;32m    270\u001b[0m \u001b[43m        \u001b[49m\u001b[43msvm_type\u001b[49m\u001b[38;5;241;43m=\u001b[39;49m\u001b[43msolver_type\u001b[49m\u001b[43m,\u001b[49m\u001b[43m \u001b[49m\u001b[43msample_weight\u001b[49m\u001b[38;5;241;43m=\u001b[39;49m\u001b[43msample_weight\u001b[49m\u001b[43m,\u001b[49m\n\u001b[1;32m    271\u001b[0m \u001b[43m        \u001b[49m\u001b[43mclass_weight\u001b[49m\u001b[38;5;241;43m=\u001b[39;49m\u001b[38;5;28;43mself\u001b[39;49m\u001b[38;5;241;43m.\u001b[39;49m\u001b[43mclass_weight_\u001b[49m\u001b[43m,\u001b[49m\u001b[43m \u001b[49m\u001b[43mkernel\u001b[49m\u001b[38;5;241;43m=\u001b[39;49m\u001b[43mkernel\u001b[49m\u001b[43m,\u001b[49m\u001b[43m \u001b[49m\u001b[43mC\u001b[49m\u001b[38;5;241;43m=\u001b[39;49m\u001b[38;5;28;43mself\u001b[39;49m\u001b[38;5;241;43m.\u001b[39;49m\u001b[43mC\u001b[49m\u001b[43m,\u001b[49m\n\u001b[1;32m    272\u001b[0m \u001b[43m        \u001b[49m\u001b[43mnu\u001b[49m\u001b[38;5;241;43m=\u001b[39;49m\u001b[38;5;28;43mself\u001b[39;49m\u001b[38;5;241;43m.\u001b[39;49m\u001b[43mnu\u001b[49m\u001b[43m,\u001b[49m\u001b[43m \u001b[49m\u001b[43mprobability\u001b[49m\u001b[38;5;241;43m=\u001b[39;49m\u001b[38;5;28;43mself\u001b[39;49m\u001b[38;5;241;43m.\u001b[39;49m\u001b[43mprobability\u001b[49m\u001b[43m,\u001b[49m\u001b[43m \u001b[49m\u001b[43mdegree\u001b[49m\u001b[38;5;241;43m=\u001b[39;49m\u001b[38;5;28;43mself\u001b[39;49m\u001b[38;5;241;43m.\u001b[39;49m\u001b[43mdegree\u001b[49m\u001b[43m,\u001b[49m\n\u001b[1;32m    273\u001b[0m \u001b[43m        \u001b[49m\u001b[43mshrinking\u001b[49m\u001b[38;5;241;43m=\u001b[39;49m\u001b[38;5;28;43mself\u001b[39;49m\u001b[38;5;241;43m.\u001b[39;49m\u001b[43mshrinking\u001b[49m\u001b[43m,\u001b[49m\u001b[43m \u001b[49m\u001b[43mtol\u001b[49m\u001b[38;5;241;43m=\u001b[39;49m\u001b[38;5;28;43mself\u001b[39;49m\u001b[38;5;241;43m.\u001b[39;49m\u001b[43mtol\u001b[49m\u001b[43m,\u001b[49m\n\u001b[1;32m    274\u001b[0m \u001b[43m        \u001b[49m\u001b[43mcache_size\u001b[49m\u001b[38;5;241;43m=\u001b[39;49m\u001b[38;5;28;43mself\u001b[39;49m\u001b[38;5;241;43m.\u001b[39;49m\u001b[43mcache_size\u001b[49m\u001b[43m,\u001b[49m\u001b[43m \u001b[49m\u001b[43mcoef0\u001b[49m\u001b[38;5;241;43m=\u001b[39;49m\u001b[38;5;28;43mself\u001b[39;49m\u001b[38;5;241;43m.\u001b[39;49m\u001b[43mcoef0\u001b[49m\u001b[43m,\u001b[49m\n\u001b[1;32m    275\u001b[0m \u001b[43m        \u001b[49m\u001b[43mgamma\u001b[49m\u001b[38;5;241;43m=\u001b[39;49m\u001b[38;5;28;43mself\u001b[39;49m\u001b[38;5;241;43m.\u001b[39;49m\u001b[43m_gamma\u001b[49m\u001b[43m,\u001b[49m\u001b[43m \u001b[49m\u001b[43mepsilon\u001b[49m\u001b[38;5;241;43m=\u001b[39;49m\u001b[38;5;28;43mself\u001b[39;49m\u001b[38;5;241;43m.\u001b[39;49m\u001b[43mepsilon\u001b[49m\u001b[43m,\u001b[49m\n\u001b[1;32m    276\u001b[0m \u001b[43m        \u001b[49m\u001b[43mmax_iter\u001b[49m\u001b[38;5;241;43m=\u001b[39;49m\u001b[38;5;28;43mself\u001b[39;49m\u001b[38;5;241;43m.\u001b[39;49m\u001b[43mmax_iter\u001b[49m\u001b[43m,\u001b[49m\u001b[43m \u001b[49m\u001b[43mrandom_seed\u001b[49m\u001b[38;5;241;43m=\u001b[39;49m\u001b[43mrandom_seed\u001b[49m\u001b[43m)\u001b[49m\n\u001b[1;32m    278\u001b[0m \u001b[38;5;28mself\u001b[39m\u001b[38;5;241m.\u001b[39m_warn_from_fit_status()\n",
      "\u001b[0;31mKeyboardInterrupt\u001b[0m: "
     ]
    }
   ],
   "source": [
    "for i in [2.4, 2.5, 2.6, 2.7, 2.8, 2.9, 3]:\n",
    "    model = SVR(C = i, kernel = \"rbf\", gamma = 'auto')\n",
    "    model.fit(X_train, y_train)\n",
    "    y_pred_valid = model.predict(X_valid)\n",
    "    y_pred_train = model.predict(X_train)\n",
    "    print('C = ', i)\n",
    "    print('AUC of train:' , mean_squared_error(y_train, y_pred_train, squared=False))\n",
    "    print('AUC of valid:' , mean_squared_error(y_valid, y_pred_valid, squared=False))"
   ]
  },
  {
   "cell_type": "code",
   "execution_count": 12,
   "metadata": {},
   "outputs": [
    {
     "name": "stdout",
     "output_type": "stream",
     "text": [
      "AUC of train: 1.741019722731009\n",
      "AUC of valid: 1.881016241093991\n"
     ]
    }
   ],
   "source": [
    "model = SVR(C = 3, kernel = \"rbf\", gamma = 'auto')\n",
    "model.fit(X_train, y_train)\n",
    "y_pred_valid = model.predict(X_valid)\n",
    "y_pred_train = model.predict(X_train)\n",
    "print('AUC of train:' , mean_squared_error(y_train, y_pred_train, squared=False))\n",
    "print('AUC of valid:' , mean_squared_error(y_valid, y_pred_valid, squared=False))"
   ]
  },
  {
   "cell_type": "code",
   "execution_count": 13,
   "metadata": {},
   "outputs": [
    {
     "name": "stdout",
     "output_type": "stream",
     "text": [
      "AUC of train: 1.6820556310056973\n",
      "AUC of valid: 1.8726880429285626\n"
     ]
    }
   ],
   "source": [
    "model = SVR(C = 5, kernel = \"rbf\", gamma = 'auto')\n",
    "model.fit(X_train, y_train)\n",
    "y_pred_valid = model.predict(X_valid)\n",
    "y_pred_train = model.predict(X_train)\n",
    "print('AUC of train:' , mean_squared_error(y_train, y_pred_train, squared=False))\n",
    "print('AUC of valid:' , mean_squared_error(y_valid, y_pred_valid, squared=False))"
   ]
  },
  {
   "cell_type": "code",
   "execution_count": 14,
   "metadata": {},
   "outputs": [
    {
     "name": "stdout",
     "output_type": "stream",
     "text": [
      "AUC of train: 1.6172414245874978\n",
      "AUC of valid: 1.8854966546413001\n"
     ]
    }
   ],
   "source": [
    "model = SVR(C = 8, kernel = \"rbf\", gamma = 'auto')\n",
    "model.fit(X_train, y_train)\n",
    "y_pred_valid = model.predict(X_valid)\n",
    "y_pred_train = model.predict(X_train)\n",
    "print('AUC of train:' , mean_squared_error(y_train, y_pred_train, squared=False))\n",
    "print('AUC of valid:' , mean_squared_error(y_valid, y_pred_valid, squared=False))"
   ]
  },
  {
   "cell_type": "code",
   "execution_count": 15,
   "metadata": {},
   "outputs": [
    {
     "name": "stdout",
     "output_type": "stream",
     "text": [
      "AUC of train: 1.669678210587689\n",
      "AUC of valid: 1.8726108275880462\n",
      "AUC of train: 1.6579465078835374\n",
      "AUC of valid: 1.873914504957696\n",
      "AUC of train: 1.6468921560963385\n",
      "AUC of valid: 1.8758820556653253\n",
      "AUC of train: 1.6364448913519967\n",
      "AUC of valid: 1.8783340344287045\n",
      "AUC of train: 1.626596343150119\n",
      "AUC of valid: 1.8816278947108849\n"
     ]
    }
   ],
   "source": [
    "for i in [5.5, 6, 6.5, 7, 7.5]:\n",
    "    model = SVR(C = i, kernel = \"rbf\", gamma = 'auto')\n",
    "    model.fit(X_train, y_train)\n",
    "    y_pred_valid = model.predict(X_valid)\n",
    "    y_pred_train = model.predict(X_train)\n",
    "    print('AUC of train:' , mean_squared_error(y_train, y_pred_train, squared=False))\n",
    "    print('AUC of valid:' , mean_squared_error(y_valid, y_pred_valid, squared=False))"
   ]
  },
  {
   "cell_type": "code",
   "execution_count": 17,
   "metadata": {},
   "outputs": [
    {
     "name": "stdout",
     "output_type": "stream",
     "text": [
      "0.01\n",
      "RMSE of train: 1.6738532941633857\n",
      "RMSE of valid: 1.8751272643541537\n",
      "0.1\n",
      "RMSE of train: 1.669678210587689\n",
      "RMSE of valid: 1.8726108275880462\n",
      "1\n",
      "RMSE of train: 1.6315556467200638\n",
      "RMSE of valid: 1.9343909516970126\n",
      "10\n",
      "RMSE of train: 3.0145682832800524\n",
      "RMSE of valid: 3.035915191230261\n"
     ]
    }
   ],
   "source": [
    "for e in [0.01, 0.1, 1, 10]:\n",
    "    model = SVR(C = 5.5, kernel = \"rbf\", gamma = 'auto', epsilon = e)\n",
    "    model.fit(X_train, y_train)\n",
    "    y_pred_valid = model.predict(X_valid)\n",
    "    y_pred_train = model.predict(X_train)\n",
    "    print(e)\n",
    "    print('RMSE of train:' , mean_squared_error(y_train, y_pred_train, squared=False))\n",
    "    print('RMSE of valid:' , mean_squared_error(y_valid, y_pred_valid, squared=False))"
   ]
  },
  {
   "cell_type": "code",
   "execution_count": 18,
   "metadata": {},
   "outputs": [
    {
     "name": "stdout",
     "output_type": "stream",
     "text": [
      "0.05\n",
      "RMSE of train: 1.672069153950644\n",
      "RMSE of valid: 1.8739128858535758\n",
      "0.15\n",
      "RMSE of train: 1.6671770462464301\n",
      "RMSE of valid: 1.8721883519902816\n",
      "0.2\n",
      "RMSE of train: 1.6652287821985716\n",
      "RMSE of valid: 1.8718239334830864\n",
      "0.25\n",
      "RMSE of train: 1.6628007183600995\n",
      "RMSE of valid: 1.8711518399691\n",
      "0.3\n",
      "RMSE of train: 1.6597833234213262\n",
      "RMSE of valid: 1.8703705105625084\n"
     ]
    }
   ],
   "source": [
    "for e in [0.05, 0.15, 0.2, 0.25, 0.3]:\n",
    "    model = SVR(C = 5.5, kernel = \"rbf\", gamma = 'auto', epsilon = e)\n",
    "    model.fit(X_train, y_train)\n",
    "    y_pred_valid = model.predict(X_valid)\n",
    "    y_pred_train = model.predict(X_train)\n",
    "    print(e)\n",
    "    print('RMSE of train:' , mean_squared_error(y_train, y_pred_train, squared=False))\n",
    "    print('RMSE of valid:' , mean_squared_error(y_valid, y_pred_valid, squared=False))"
   ]
  },
  {
   "cell_type": "code",
   "execution_count": 19,
   "metadata": {},
   "outputs": [
    {
     "name": "stdout",
     "output_type": "stream",
     "text": [
      "0.35\n",
      "RMSE of train: 1.6571319862582894\n",
      "RMSE of valid: 1.8699867165072306\n",
      "0.4\n",
      "RMSE of train: 1.65442354452938\n",
      "RMSE of valid: 1.8703181268847604\n",
      "0.45\n",
      "RMSE of train: 1.651274770434508\n",
      "RMSE of valid: 1.8718776319741255\n",
      "0.5\n",
      "RMSE of train: 1.6485814510814358\n",
      "RMSE of valid: 1.8746697233326381\n"
     ]
    }
   ],
   "source": [
    "model = SVR(C = 5.5, kernel = \"rbf\", gamma = 'auto', epsilon = 0.4)\n",
    "model.fit(X_train, y_train)\n",
    "y_pred_valid = model.predict(X_valid)\n",
    "y_pred_train = model.predict(X_train)\n",
    "print('RMSE of train:' , mean_squared_error(y_train, y_pred_train, squared=False))\n",
    "print('RMSE of valid:' , mean_squared_error(y_valid, y_pred_valid, squared=False))"
   ]
  },
  {
   "cell_type": "code",
   "execution_count": 6,
   "metadata": {},
   "outputs": [
    {
     "name": "stdout",
     "output_type": "stream",
     "text": [
      "RMSE of train: 0.4000331355378851\n",
      "RMSE of valid: 0.42749308984261675\n"
     ]
    }
   ],
   "source": [
    "model = SVR(C = 5.5, kernel = \"rbf\", gamma = 'auto', epsilon = 0.4)\n",
    "model.fit(X_train, y_train)\n",
    "y_pred_valid = model.predict(X_valid)\n",
    "y_pred_train = model.predict(X_train)\n",
    "print('RMSE of train:' , mean_squared_error(y_train, y_pred_train, squared=False))\n",
    "print('RMSE of valid:' , mean_squared_error(y_valid, y_pred_valid, squared=False))"
   ]
  },
  {
   "cell_type": "code",
   "execution_count": null,
   "metadata": {},
   "outputs": [],
   "source": []
  }
 ],
 "metadata": {
  "kernelspec": {
   "display_name": "mmcl_final",
   "language": "python",
   "name": "mmcl_final"
  },
  "language_info": {
   "codemirror_mode": {
    "name": "ipython",
    "version": 3
   },
   "file_extension": ".py",
   "mimetype": "text/x-python",
   "name": "python",
   "nbconvert_exporter": "python",
   "pygments_lexer": "ipython3",
   "version": "3.9.13"
  }
 },
 "nbformat": 4,
 "nbformat_minor": 4
}
