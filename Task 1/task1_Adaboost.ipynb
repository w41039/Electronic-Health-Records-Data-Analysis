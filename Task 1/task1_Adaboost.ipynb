{
  "nbformat": 4,
  "nbformat_minor": 0,
  "metadata": {
    "colab": {
      "provenance": [],
      "collapsed_sections": [
        "CcsigTKqI-k6",
        "rAZJS1NbIyBn"
      ]
    },
    "kernelspec": {
      "name": "python3",
      "display_name": "Python 3"
    },
    "language_info": {
      "name": "python"
    }
  },
  "cells": [
    {
      "cell_type": "markdown",
      "source": [
        "# **Classification**"
      ],
      "metadata": {
        "id": "CcsigTKqI-k6"
      }
    },
    {
      "cell_type": "code",
      "source": [
        "#! pip install numpy pandas matplotlib sklearn\n",
        "import numpy as np\n",
        "import pandas as pd\n",
        "from sklearn.model_selection import KFold\n",
        "import seaborn as sns\n",
        "import matplotlib.pyplot as plt\n",
        "from sklearn.ensemble import AdaBoostClassifier\n",
        "from sklearn.tree import DecisionTreeClassifier\n",
        "from sklearn.metrics import accuracy_score, confusion_matrix, roc_curve, auc"
      ],
      "metadata": {
        "id": "Oq_4G2i7gssf"
      },
      "execution_count": null,
      "outputs": []
    },
    {
      "cell_type": "code",
      "source": [
        "y_train = pd.read_csv(\"Y_train.csv\")\n",
        "y_valid = pd.read_csv(\"Y_valid.csv\")\n",
        "y_train.info()\n",
        "index = \"_less_std\"\n",
        "X_train = pd.read_csv(\"X_train_less_std.csv\") # index_col = [0]\n",
        "X_valid = pd.read_csv(\"X_valid_less_std.csv\")\n",
        "X_train.info()"
      ],
      "metadata": {
        "colab": {
          "base_uri": "https://localhost:8080/"
        },
        "id": "8c2DmNArl0_j",
        "outputId": "48abba12-d81a-43fb-99fa-bb130cdbcbdc"
      },
      "execution_count": null,
      "outputs": [
        {
          "output_type": "stream",
          "name": "stdout",
          "text": [
            "<class 'pandas.core.frame.DataFrame'>\n",
            "RangeIndex: 16760 entries, 0 to 16759\n",
            "Data columns (total 1 columns):\n",
            " #   Column    Non-Null Count  Dtype\n",
            "---  ------    --------------  -----\n",
            " 0   mort_icu  16760 non-null  int64\n",
            "dtypes: int64(1)\n",
            "memory usage: 131.1 KB\n",
            "<class 'pandas.core.frame.DataFrame'>\n",
            "RangeIndex: 16760 entries, 0 to 16759\n",
            "Columns: 252 entries, glucose_mean to venous pvo2_std\n",
            "dtypes: float64(252)\n",
            "memory usage: 32.2 MB\n"
          ]
        }
      ]
    },
    {
      "cell_type": "code",
      "source": [
        "X_train"
      ],
      "metadata": {
        "id": "0RGWBMEFVObJ",
        "colab": {
          "base_uri": "https://localhost:8080/",
          "height": 540
        },
        "outputId": "fe7a3e36-e620-4e72-a44d-4b77ea69ec8d"
      },
      "execution_count": null,
      "outputs": [
        {
          "output_type": "execute_result",
          "data": {
            "text/plain": [
              "       glucose_mean  glucose_mask  glucose_std  hematocrit_mean  \\\n",
              "0          1.418719           9.0     1.076274        -0.298192   \n",
              "1          0.121306           4.0     0.656569        -0.508087   \n",
              "2          0.120647           5.0     0.200602         1.538661   \n",
              "3         -0.181780           5.0     0.178082         1.074263   \n",
              "4         -0.224608          17.0     0.732274         0.217202   \n",
              "...             ...           ...          ...              ...   \n",
              "16755     -0.921706           3.0     0.091842         0.481108   \n",
              "16756     -0.880855           2.0     0.026787        -0.404767   \n",
              "16757     -0.694309           8.0     0.142101        -0.166299   \n",
              "16758     -0.056593           7.0     0.386438        -0.520022   \n",
              "16759     -0.371802          11.0     0.159844        -0.693267   \n",
              "\n",
              "       hematocrit_mask  hematocrit_std  sodium_mean  sodium_mask  sodium_std  \\\n",
              "0                  8.0        0.333588     0.116384          4.0    0.233026   \n",
              "1                  7.0        0.499739    -0.663649          2.0    0.281324   \n",
              "2                  3.0        0.529781    -0.155601          3.0    0.277340   \n",
              "3                  2.0        0.138791     0.537192          2.0    0.070331   \n",
              "4                  6.0        0.714622     1.153008          3.0    0.312954   \n",
              "...                ...             ...          ...          ...         ...   \n",
              "16755              3.0        0.115233    -0.163299          3.0    0.229925   \n",
              "16756              2.0        0.040845     0.311393          2.0    0.034773   \n",
              "16757              6.0        0.446349    -0.402697          5.0    0.184019   \n",
              "16758              2.0        0.278814     0.945170          4.0    0.187238   \n",
              "16759              5.0        0.202293    -0.240276          7.0    0.383208   \n",
              "\n",
              "       creatinine_mean  ...  pulmonary capillary wedge pressure_std  \\\n",
              "0             0.758056  ...                                0.262035   \n",
              "1             6.011407  ...                                0.000000   \n",
              "2            -0.080335  ...                                0.000000   \n",
              "3            -0.481182  ...                                0.000000   \n",
              "4            -0.006940  ...                                0.000000   \n",
              "...                ...  ...                                     ...   \n",
              "16755        -0.021055  ...                                0.000000   \n",
              "16756        -0.005058  ...                                0.000000   \n",
              "16757        -0.009763  ...                                0.000000   \n",
              "16758        -0.173489  ...                                0.000000   \n",
              "16759        -0.649142  ...                                0.000000   \n",
              "\n",
              "       troponin-i_mean  troponin-i_mask  troponin-i_std  \\\n",
              "0                  0.0              0.0             0.0   \n",
              "1                  0.0              0.0             0.0   \n",
              "2                  0.0              0.0             0.0   \n",
              "3                  0.0              0.0             0.0   \n",
              "4                  0.0              0.0             0.0   \n",
              "...                ...              ...             ...   \n",
              "16755              0.0              0.0             0.0   \n",
              "16756              0.0              0.0             0.0   \n",
              "16757              0.0              0.0             0.0   \n",
              "16758              0.0              0.0             0.0   \n",
              "16759              0.0              0.0             0.0   \n",
              "\n",
              "       total protein urine_mean  total protein urine_mask  \\\n",
              "0                           0.0                       0.0   \n",
              "1                           0.0                       0.0   \n",
              "2                           0.0                       0.0   \n",
              "3                           0.0                       0.0   \n",
              "4                           0.0                       0.0   \n",
              "...                         ...                       ...   \n",
              "16755                       0.0                       0.0   \n",
              "16756                       0.0                       0.0   \n",
              "16757                       0.0                       0.0   \n",
              "16758                       0.0                       0.0   \n",
              "16759                       0.0                       0.0   \n",
              "\n",
              "       total protein urine_std  venous pvo2_mean  venous pvo2_mask  \\\n",
              "0                          0.0               0.0               0.0   \n",
              "1                          0.0               0.0               0.0   \n",
              "2                          0.0               0.0               0.0   \n",
              "3                          0.0               0.0               0.0   \n",
              "4                          0.0               0.0               0.0   \n",
              "...                        ...               ...               ...   \n",
              "16755                      0.0               0.0               0.0   \n",
              "16756                      0.0               0.0               0.0   \n",
              "16757                      0.0               0.0               0.0   \n",
              "16758                      0.0               0.0               0.0   \n",
              "16759                      0.0               0.0               0.0   \n",
              "\n",
              "       venous pvo2_std  \n",
              "0                  0.0  \n",
              "1                  0.0  \n",
              "2                  0.0  \n",
              "3                  0.0  \n",
              "4                  0.0  \n",
              "...                ...  \n",
              "16755              0.0  \n",
              "16756              0.0  \n",
              "16757              0.0  \n",
              "16758              0.0  \n",
              "16759              0.0  \n",
              "\n",
              "[16760 rows x 252 columns]"
            ],
            "text/html": [
              "\n",
              "  <div id=\"df-dacb9976-41b7-490e-8118-d64343cc6a13\">\n",
              "    <div class=\"colab-df-container\">\n",
              "      <div>\n",
              "<style scoped>\n",
              "    .dataframe tbody tr th:only-of-type {\n",
              "        vertical-align: middle;\n",
              "    }\n",
              "\n",
              "    .dataframe tbody tr th {\n",
              "        vertical-align: top;\n",
              "    }\n",
              "\n",
              "    .dataframe thead th {\n",
              "        text-align: right;\n",
              "    }\n",
              "</style>\n",
              "<table border=\"1\" class=\"dataframe\">\n",
              "  <thead>\n",
              "    <tr style=\"text-align: right;\">\n",
              "      <th></th>\n",
              "      <th>glucose_mean</th>\n",
              "      <th>glucose_mask</th>\n",
              "      <th>glucose_std</th>\n",
              "      <th>hematocrit_mean</th>\n",
              "      <th>hematocrit_mask</th>\n",
              "      <th>hematocrit_std</th>\n",
              "      <th>sodium_mean</th>\n",
              "      <th>sodium_mask</th>\n",
              "      <th>sodium_std</th>\n",
              "      <th>creatinine_mean</th>\n",
              "      <th>...</th>\n",
              "      <th>pulmonary capillary wedge pressure_std</th>\n",
              "      <th>troponin-i_mean</th>\n",
              "      <th>troponin-i_mask</th>\n",
              "      <th>troponin-i_std</th>\n",
              "      <th>total protein urine_mean</th>\n",
              "      <th>total protein urine_mask</th>\n",
              "      <th>total protein urine_std</th>\n",
              "      <th>venous pvo2_mean</th>\n",
              "      <th>venous pvo2_mask</th>\n",
              "      <th>venous pvo2_std</th>\n",
              "    </tr>\n",
              "  </thead>\n",
              "  <tbody>\n",
              "    <tr>\n",
              "      <th>0</th>\n",
              "      <td>1.418719</td>\n",
              "      <td>9.0</td>\n",
              "      <td>1.076274</td>\n",
              "      <td>-0.298192</td>\n",
              "      <td>8.0</td>\n",
              "      <td>0.333588</td>\n",
              "      <td>0.116384</td>\n",
              "      <td>4.0</td>\n",
              "      <td>0.233026</td>\n",
              "      <td>0.758056</td>\n",
              "      <td>...</td>\n",
              "      <td>0.262035</td>\n",
              "      <td>0.0</td>\n",
              "      <td>0.0</td>\n",
              "      <td>0.0</td>\n",
              "      <td>0.0</td>\n",
              "      <td>0.0</td>\n",
              "      <td>0.0</td>\n",
              "      <td>0.0</td>\n",
              "      <td>0.0</td>\n",
              "      <td>0.0</td>\n",
              "    </tr>\n",
              "    <tr>\n",
              "      <th>1</th>\n",
              "      <td>0.121306</td>\n",
              "      <td>4.0</td>\n",
              "      <td>0.656569</td>\n",
              "      <td>-0.508087</td>\n",
              "      <td>7.0</td>\n",
              "      <td>0.499739</td>\n",
              "      <td>-0.663649</td>\n",
              "      <td>2.0</td>\n",
              "      <td>0.281324</td>\n",
              "      <td>6.011407</td>\n",
              "      <td>...</td>\n",
              "      <td>0.000000</td>\n",
              "      <td>0.0</td>\n",
              "      <td>0.0</td>\n",
              "      <td>0.0</td>\n",
              "      <td>0.0</td>\n",
              "      <td>0.0</td>\n",
              "      <td>0.0</td>\n",
              "      <td>0.0</td>\n",
              "      <td>0.0</td>\n",
              "      <td>0.0</td>\n",
              "    </tr>\n",
              "    <tr>\n",
              "      <th>2</th>\n",
              "      <td>0.120647</td>\n",
              "      <td>5.0</td>\n",
              "      <td>0.200602</td>\n",
              "      <td>1.538661</td>\n",
              "      <td>3.0</td>\n",
              "      <td>0.529781</td>\n",
              "      <td>-0.155601</td>\n",
              "      <td>3.0</td>\n",
              "      <td>0.277340</td>\n",
              "      <td>-0.080335</td>\n",
              "      <td>...</td>\n",
              "      <td>0.000000</td>\n",
              "      <td>0.0</td>\n",
              "      <td>0.0</td>\n",
              "      <td>0.0</td>\n",
              "      <td>0.0</td>\n",
              "      <td>0.0</td>\n",
              "      <td>0.0</td>\n",
              "      <td>0.0</td>\n",
              "      <td>0.0</td>\n",
              "      <td>0.0</td>\n",
              "    </tr>\n",
              "    <tr>\n",
              "      <th>3</th>\n",
              "      <td>-0.181780</td>\n",
              "      <td>5.0</td>\n",
              "      <td>0.178082</td>\n",
              "      <td>1.074263</td>\n",
              "      <td>2.0</td>\n",
              "      <td>0.138791</td>\n",
              "      <td>0.537192</td>\n",
              "      <td>2.0</td>\n",
              "      <td>0.070331</td>\n",
              "      <td>-0.481182</td>\n",
              "      <td>...</td>\n",
              "      <td>0.000000</td>\n",
              "      <td>0.0</td>\n",
              "      <td>0.0</td>\n",
              "      <td>0.0</td>\n",
              "      <td>0.0</td>\n",
              "      <td>0.0</td>\n",
              "      <td>0.0</td>\n",
              "      <td>0.0</td>\n",
              "      <td>0.0</td>\n",
              "      <td>0.0</td>\n",
              "    </tr>\n",
              "    <tr>\n",
              "      <th>4</th>\n",
              "      <td>-0.224608</td>\n",
              "      <td>17.0</td>\n",
              "      <td>0.732274</td>\n",
              "      <td>0.217202</td>\n",
              "      <td>6.0</td>\n",
              "      <td>0.714622</td>\n",
              "      <td>1.153008</td>\n",
              "      <td>3.0</td>\n",
              "      <td>0.312954</td>\n",
              "      <td>-0.006940</td>\n",
              "      <td>...</td>\n",
              "      <td>0.000000</td>\n",
              "      <td>0.0</td>\n",
              "      <td>0.0</td>\n",
              "      <td>0.0</td>\n",
              "      <td>0.0</td>\n",
              "      <td>0.0</td>\n",
              "      <td>0.0</td>\n",
              "      <td>0.0</td>\n",
              "      <td>0.0</td>\n",
              "      <td>0.0</td>\n",
              "    </tr>\n",
              "    <tr>\n",
              "      <th>...</th>\n",
              "      <td>...</td>\n",
              "      <td>...</td>\n",
              "      <td>...</td>\n",
              "      <td>...</td>\n",
              "      <td>...</td>\n",
              "      <td>...</td>\n",
              "      <td>...</td>\n",
              "      <td>...</td>\n",
              "      <td>...</td>\n",
              "      <td>...</td>\n",
              "      <td>...</td>\n",
              "      <td>...</td>\n",
              "      <td>...</td>\n",
              "      <td>...</td>\n",
              "      <td>...</td>\n",
              "      <td>...</td>\n",
              "      <td>...</td>\n",
              "      <td>...</td>\n",
              "      <td>...</td>\n",
              "      <td>...</td>\n",
              "      <td>...</td>\n",
              "    </tr>\n",
              "    <tr>\n",
              "      <th>16755</th>\n",
              "      <td>-0.921706</td>\n",
              "      <td>3.0</td>\n",
              "      <td>0.091842</td>\n",
              "      <td>0.481108</td>\n",
              "      <td>3.0</td>\n",
              "      <td>0.115233</td>\n",
              "      <td>-0.163299</td>\n",
              "      <td>3.0</td>\n",
              "      <td>0.229925</td>\n",
              "      <td>-0.021055</td>\n",
              "      <td>...</td>\n",
              "      <td>0.000000</td>\n",
              "      <td>0.0</td>\n",
              "      <td>0.0</td>\n",
              "      <td>0.0</td>\n",
              "      <td>0.0</td>\n",
              "      <td>0.0</td>\n",
              "      <td>0.0</td>\n",
              "      <td>0.0</td>\n",
              "      <td>0.0</td>\n",
              "      <td>0.0</td>\n",
              "    </tr>\n",
              "    <tr>\n",
              "      <th>16756</th>\n",
              "      <td>-0.880855</td>\n",
              "      <td>2.0</td>\n",
              "      <td>0.026787</td>\n",
              "      <td>-0.404767</td>\n",
              "      <td>2.0</td>\n",
              "      <td>0.040845</td>\n",
              "      <td>0.311393</td>\n",
              "      <td>2.0</td>\n",
              "      <td>0.034773</td>\n",
              "      <td>-0.005058</td>\n",
              "      <td>...</td>\n",
              "      <td>0.000000</td>\n",
              "      <td>0.0</td>\n",
              "      <td>0.0</td>\n",
              "      <td>0.0</td>\n",
              "      <td>0.0</td>\n",
              "      <td>0.0</td>\n",
              "      <td>0.0</td>\n",
              "      <td>0.0</td>\n",
              "      <td>0.0</td>\n",
              "      <td>0.0</td>\n",
              "    </tr>\n",
              "    <tr>\n",
              "      <th>16757</th>\n",
              "      <td>-0.694309</td>\n",
              "      <td>8.0</td>\n",
              "      <td>0.142101</td>\n",
              "      <td>-0.166299</td>\n",
              "      <td>6.0</td>\n",
              "      <td>0.446349</td>\n",
              "      <td>-0.402697</td>\n",
              "      <td>5.0</td>\n",
              "      <td>0.184019</td>\n",
              "      <td>-0.009763</td>\n",
              "      <td>...</td>\n",
              "      <td>0.000000</td>\n",
              "      <td>0.0</td>\n",
              "      <td>0.0</td>\n",
              "      <td>0.0</td>\n",
              "      <td>0.0</td>\n",
              "      <td>0.0</td>\n",
              "      <td>0.0</td>\n",
              "      <td>0.0</td>\n",
              "      <td>0.0</td>\n",
              "      <td>0.0</td>\n",
              "    </tr>\n",
              "    <tr>\n",
              "      <th>16758</th>\n",
              "      <td>-0.056593</td>\n",
              "      <td>7.0</td>\n",
              "      <td>0.386438</td>\n",
              "      <td>-0.520022</td>\n",
              "      <td>2.0</td>\n",
              "      <td>0.278814</td>\n",
              "      <td>0.945170</td>\n",
              "      <td>4.0</td>\n",
              "      <td>0.187238</td>\n",
              "      <td>-0.173489</td>\n",
              "      <td>...</td>\n",
              "      <td>0.000000</td>\n",
              "      <td>0.0</td>\n",
              "      <td>0.0</td>\n",
              "      <td>0.0</td>\n",
              "      <td>0.0</td>\n",
              "      <td>0.0</td>\n",
              "      <td>0.0</td>\n",
              "      <td>0.0</td>\n",
              "      <td>0.0</td>\n",
              "      <td>0.0</td>\n",
              "    </tr>\n",
              "    <tr>\n",
              "      <th>16759</th>\n",
              "      <td>-0.371802</td>\n",
              "      <td>11.0</td>\n",
              "      <td>0.159844</td>\n",
              "      <td>-0.693267</td>\n",
              "      <td>5.0</td>\n",
              "      <td>0.202293</td>\n",
              "      <td>-0.240276</td>\n",
              "      <td>7.0</td>\n",
              "      <td>0.383208</td>\n",
              "      <td>-0.649142</td>\n",
              "      <td>...</td>\n",
              "      <td>0.000000</td>\n",
              "      <td>0.0</td>\n",
              "      <td>0.0</td>\n",
              "      <td>0.0</td>\n",
              "      <td>0.0</td>\n",
              "      <td>0.0</td>\n",
              "      <td>0.0</td>\n",
              "      <td>0.0</td>\n",
              "      <td>0.0</td>\n",
              "      <td>0.0</td>\n",
              "    </tr>\n",
              "  </tbody>\n",
              "</table>\n",
              "<p>16760 rows × 252 columns</p>\n",
              "</div>\n",
              "      <button class=\"colab-df-convert\" onclick=\"convertToInteractive('df-dacb9976-41b7-490e-8118-d64343cc6a13')\"\n",
              "              title=\"Convert this dataframe to an interactive table.\"\n",
              "              style=\"display:none;\">\n",
              "        \n",
              "  <svg xmlns=\"http://www.w3.org/2000/svg\" height=\"24px\"viewBox=\"0 0 24 24\"\n",
              "       width=\"24px\">\n",
              "    <path d=\"M0 0h24v24H0V0z\" fill=\"none\"/>\n",
              "    <path d=\"M18.56 5.44l.94 2.06.94-2.06 2.06-.94-2.06-.94-.94-2.06-.94 2.06-2.06.94zm-11 1L8.5 8.5l.94-2.06 2.06-.94-2.06-.94L8.5 2.5l-.94 2.06-2.06.94zm10 10l.94 2.06.94-2.06 2.06-.94-2.06-.94-.94-2.06-.94 2.06-2.06.94z\"/><path d=\"M17.41 7.96l-1.37-1.37c-.4-.4-.92-.59-1.43-.59-.52 0-1.04.2-1.43.59L10.3 9.45l-7.72 7.72c-.78.78-.78 2.05 0 2.83L4 21.41c.39.39.9.59 1.41.59.51 0 1.02-.2 1.41-.59l7.78-7.78 2.81-2.81c.8-.78.8-2.07 0-2.86zM5.41 20L4 18.59l7.72-7.72 1.47 1.35L5.41 20z\"/>\n",
              "  </svg>\n",
              "      </button>\n",
              "      \n",
              "  <style>\n",
              "    .colab-df-container {\n",
              "      display:flex;\n",
              "      flex-wrap:wrap;\n",
              "      gap: 12px;\n",
              "    }\n",
              "\n",
              "    .colab-df-convert {\n",
              "      background-color: #E8F0FE;\n",
              "      border: none;\n",
              "      border-radius: 50%;\n",
              "      cursor: pointer;\n",
              "      display: none;\n",
              "      fill: #1967D2;\n",
              "      height: 32px;\n",
              "      padding: 0 0 0 0;\n",
              "      width: 32px;\n",
              "    }\n",
              "\n",
              "    .colab-df-convert:hover {\n",
              "      background-color: #E2EBFA;\n",
              "      box-shadow: 0px 1px 2px rgba(60, 64, 67, 0.3), 0px 1px 3px 1px rgba(60, 64, 67, 0.15);\n",
              "      fill: #174EA6;\n",
              "    }\n",
              "\n",
              "    [theme=dark] .colab-df-convert {\n",
              "      background-color: #3B4455;\n",
              "      fill: #D2E3FC;\n",
              "    }\n",
              "\n",
              "    [theme=dark] .colab-df-convert:hover {\n",
              "      background-color: #434B5C;\n",
              "      box-shadow: 0px 1px 3px 1px rgba(0, 0, 0, 0.15);\n",
              "      filter: drop-shadow(0px 1px 2px rgba(0, 0, 0, 0.3));\n",
              "      fill: #FFFFFF;\n",
              "    }\n",
              "  </style>\n",
              "\n",
              "      <script>\n",
              "        const buttonEl =\n",
              "          document.querySelector('#df-dacb9976-41b7-490e-8118-d64343cc6a13 button.colab-df-convert');\n",
              "        buttonEl.style.display =\n",
              "          google.colab.kernel.accessAllowed ? 'block' : 'none';\n",
              "\n",
              "        async function convertToInteractive(key) {\n",
              "          const element = document.querySelector('#df-dacb9976-41b7-490e-8118-d64343cc6a13');\n",
              "          const dataTable =\n",
              "            await google.colab.kernel.invokeFunction('convertToInteractive',\n",
              "                                                     [key], {});\n",
              "          if (!dataTable) return;\n",
              "\n",
              "          const docLinkHtml = 'Like what you see? Visit the ' +\n",
              "            '<a target=\"_blank\" href=https://colab.research.google.com/notebooks/data_table.ipynb>data table notebook</a>'\n",
              "            + ' to learn more about interactive tables.';\n",
              "          element.innerHTML = '';\n",
              "          dataTable['output_type'] = 'display_data';\n",
              "          await google.colab.output.renderOutput(dataTable, element);\n",
              "          const docLink = document.createElement('div');\n",
              "          docLink.innerHTML = docLinkHtml;\n",
              "          element.appendChild(docLink);\n",
              "        }\n",
              "      </script>\n",
              "    </div>\n",
              "  </div>\n",
              "  "
            ]
          },
          "metadata": {},
          "execution_count": 53
        }
      ]
    },
    {
      "cell_type": "code",
      "execution_count": null,
      "metadata": {
        "id": "M8nPXKD5dOBN",
        "colab": {
          "base_uri": "https://localhost:8080/"
        },
        "outputId": "65a59323-5132-42a9-c4ac-5942744d5f99"
      },
      "outputs": [
        {
          "output_type": "stream",
          "name": "stderr",
          "text": [
            "/usr/local/lib/python3.7/dist-packages/sklearn/utils/validation.py:993: DataConversionWarning: A column-vector y was passed when a 1d array was expected. Please change the shape of y to (n_samples, ), for example using ravel().\n",
            "  y = column_or_1d(y, warn=True)\n"
          ]
        }
      ],
      "source": [
        "dtc = DecisionTreeClassifier(max_depth=1, random_state=1)\n",
        "abc = AdaBoostClassifier(base_estimator=dtc, n_estimators=260, learning_rate=0.25, random_state=1)\n",
        "abc=abc.fit(X_train, y_train)\n",
        "y_train_pred = abc.predict(X_train)\n",
        "y_valid_pred = abc.predict(X_valid)\n",
        "# y_test_pred = abc.predict(X_test)\n"
      ]
    },
    {
      "cell_type": "code",
      "source": [
        "accuracy_train = accuracy_score(y_train, y_train_pred)\n",
        "accuracy_valid = accuracy_score(y_valid, y_valid_pred)\n",
        "\n",
        "print(\"Accuracy on training set\", accuracy_train)\n",
        "print(\"Accuracy on valid set\", accuracy_valid)"
      ],
      "metadata": {
        "id": "ryHKbjCEfRzy",
        "colab": {
          "base_uri": "https://localhost:8080/"
        },
        "outputId": "a85a370f-a317-496b-e892-76e1fb928d59"
      },
      "execution_count": null,
      "outputs": [
        {
          "output_type": "stream",
          "name": "stdout",
          "text": [
            "Accuracy on training set 0.9408114558472553\n",
            "Accuracy on valid set 0.9431913116123642\n"
          ]
        }
      ]
    },
    {
      "cell_type": "code",
      "source": [
        "train_matrix = confusion_matrix(y_train, y_train_pred)\n",
        "# valid_matrix = confusion_matrix(y_valid, y_valid_pred)\n",
        "\n",
        "plt.figure(figsize=(12,5))\n",
        "# plt.subplot(1,2,1)\n",
        "sns.heatmap(train_matrix, square=True, annot=True, fmt='d', cbar=False, cmap=\"YlGnBu\")\n",
        "plt.xlabel(\"y_train_pred\")\n",
        "plt.ylabel(\"y_train\")\n",
        "plt.title(\"Training Set Confusion Matrix\")\n",
        "\n",
        "# plt.subplot(1,2,2)\n",
        "# sns.heatmap(valid_matrix, square=True, annot=True, fmt='d', cbar=False, cmap=\"YlGnBu\")\n",
        "# plt.xlabel(\"y_valid_pred\")\n",
        "# plt.ylabel(\"y_valid\")\n",
        "# plt.title(\"Validation Set Confusion Matrix\")\n",
        "\n",
        "plt.show()"
      ],
      "metadata": {
        "id": "wTm3w5kkfRwq",
        "colab": {
          "base_uri": "https://localhost:8080/",
          "height": 351
        },
        "outputId": "124909c0-ac17-4c6b-d0be-deff20b7144c"
      },
      "execution_count": null,
      "outputs": [
        {
          "output_type": "display_data",
          "data": {
            "text/plain": [
              "<Figure size 864x360 with 1 Axes>"
            ],
            "image/png": "[encoded data removed]"
          },
          "metadata": {
            "needs_background": "light"
          }
        }
      ]
    },
    {
      "cell_type": "code",
      "source": [
        "y_train_scores = abc.predict_proba(X_train)[:, 1]\n",
        "fpr, tpr, threshold = roc_curve(y_train, y_train_scores)\n",
        "auc_train = auc(fpr, tpr)\n",
        "plt.figure(figsize=(10,8))\n",
        "plt.plot([0,1],[0,1],'k--')\n",
        "plt.plot(fpr, tpr, \"r\", linewidth=3)\n",
        "plt.grid()\n",
        "plt.xlabel(\"False Positive Rate\")\n",
        "plt.ylabel(\"True Positive Rate\")\n",
        "plt.title(\"AdaBoostClassifier ROC Curve on training set\" + index)\n",
        "plt.xlim(0,1)\n",
        "plt.ylim(0,1)\n",
        "plt.text(0.15, 0.9, \"AUC = \" + str (round (auc_train, 4)))\n",
        "plt.show()"
      ],
      "metadata": {
        "id": "4_Ua5rrDfRt9",
        "colab": {
          "base_uri": "https://localhost:8080/",
          "height": 513
        },
        "outputId": "088213b6-2946-473e-a966-f3b3c9f7af12"
      },
      "execution_count": null,
      "outputs": [
        {
          "output_type": "display_data",
          "data": {
            "text/plain": [
              "<Figure size 720x576 with 1 Axes>"
            ],
            "image/png": "[encoded data removed]"
          },
          "metadata": {
            "needs_background": "light"
          }
        }
      ]
    },
    {
      "cell_type": "code",
      "source": [
        "y_valid_scores = abc.predict_proba(X_valid)[:, 1]\n",
        "fpr, tpr, threshold = roc_curve(y_valid, y_valid_scores)\n",
        "auc_valid = auc(fpr, tpr)\n",
        "plt.figure(figsize=(10,8))\n",
        "plt.plot([0,1],[0,1],'k--')\n",
        "plt.plot(fpr, tpr, \"r\", linewidth=3)\n",
        "plt.grid()\n",
        "plt.xlabel(\"False Positive Rate\")\n",
        "plt.ylabel(\"True Positive Rate\")\n",
        "plt.title(\"AdaBoostClassifier ROC Curve on validation set\"+index)\n",
        "plt.xlim(0,1)\n",
        "plt.ylim(0,1)\n",
        "plt.text(0.15, 0.9, \"AUC = \" + str (round (auc_valid, 4)))\n",
        "plt.show()"
      ],
      "metadata": {
        "id": "6HDC_3FWmMG_",
        "colab": {
          "base_uri": "https://localhost:8080/",
          "height": 513
        },
        "outputId": "6ffbfb69-79dd-4f85-bfba-e103870e6ec3"
      },
      "execution_count": null,
      "outputs": [
        {
          "output_type": "display_data",
          "data": {
            "text/plain": [
              "<Figure size 720x576 with 1 Axes>"
            ],
            "image/png": "[encoded data removed]"
          },
          "metadata": {
            "needs_background": "light"
          }
        }
      ]
    },
    {
      "cell_type": "code",
      "source": [
        "df = pd.DataFrame (y_train_scores, columns=[\"mort_icu\"])\n",
        "df.to_csv('Y_Train_AdaBoost'+index+'.csv')\n",
        "df = pd.DataFrame (y_valid_scores, columns=[\"mort_icu\"])\n",
        "df.to_csv('Y_Valid_AdaBoost'+index+'.csv')"
      ],
      "metadata": {
        "id": "1NmTyDxSp80e"
      },
      "execution_count": null,
      "outputs": []
    },
    {
      "cell_type": "markdown",
      "source": [
        "# **Tune Hyperparameters**"
      ],
      "metadata": {
        "id": "f5je98_WkRuA"
      }
    },
    {
      "cell_type": "code",
      "source": [
        "def Max_Depth (X_train, X_valid, y_train, y_valid, maxdepth):\n",
        "  # Analysis on maxdepth effect on training & validation accuracy\n",
        "  auc_list = []\n",
        "  for depth in maxdepth:\n",
        "    dtc = DecisionTreeClassifier(max_depth=depth, random_state=1)\n",
        "    abc = AdaBoostClassifier(base_estimator=dtc, n_estimators=75, learning_rate=0.25, random_state=1)\n",
        "    abc=abc.fit(X_train, y_train)\n",
        "    y_train_pred = abc.predict(X_train)\n",
        "    y_valid_pred = abc.predict(X_valid)\n",
        "    # y_test_pred = abc.predict(X_test)\n",
        "    y_valid_scores = abc.predict_proba(X_valid)[:, 1]\n",
        "    fpr, tpr, threshold = roc_curve(y_valid, y_valid_scores)\n",
        "    auc_valid = auc(fpr, tpr)\n",
        "    auc_list.append(auc_valid)\n",
        "  return auc_list"
      ],
      "metadata": {
        "id": "7J45f0C3fRq5"
      },
      "execution_count": null,
      "outputs": []
    },
    {
      "cell_type": "code",
      "source": [
        "# Analysis on maxdepth effect on training & validation accuracy\n",
        "def Learning_Rate (X_train, X_valid, y_train, y_valid, learning_rate):\n",
        "  auc_list = []\n",
        "  for alpha in learning_rate:\n",
        "    dtc = DecisionTreeClassifier(max_depth=1, random_state=1)\n",
        "    abc = AdaBoostClassifier(base_estimator=dtc, n_estimators=75, learning_rate=alpha, random_state=1)\n",
        "    abc=abc.fit(X_train, y_train)\n",
        "    y_train_pred = abc.predict(X_train)\n",
        "    y_valid_pred = abc.predict(X_valid)\n",
        "    # y_test_pred = abc.predict(X_test)\n",
        "    y_valid_scores = abc.predict_proba(X_valid)[:, 1]\n",
        "    fpr, tpr, threshold = roc_curve(y_valid, y_valid_scores)\n",
        "    auc_valid = auc(fpr, tpr)\n",
        "    auc_list.append(auc_valid)\n",
        "  return auc_list"
      ],
      "metadata": {
        "id": "7f1qbH1nCW57"
      },
      "execution_count": null,
      "outputs": []
    },
    {
      "cell_type": "code",
      "source": [
        "def num_estimators (X_train, X_valid, y_train, y_valid, estimator):\n",
        "  # Analysis on maxdepth effect on training & validation accuracy\n",
        "  auc_list = []\n",
        "  for e in estimator:\n",
        "    dtc = DecisionTreeClassifier(max_depth=1, random_state=1)\n",
        "    abc = AdaBoostClassifier(base_estimator=dtc, n_estimators=e, learning_rate=0.25, random_state=1)\n",
        "    abc=abc.fit(X_train, y_train)\n",
        "    y_valid_scores = abc.predict_proba(X_valid)[:, 1]\n",
        "    fpr, tpr, threshold = roc_curve(y_valid, y_valid_scores)\n",
        "    auc_valid = auc(fpr, tpr)\n",
        "    auc_list.append(auc_valid)\n",
        "  return auc_list"
      ],
      "metadata": {
        "id": "XWw44uI0rjAU"
      },
      "execution_count": null,
      "outputs": []
    },
    {
      "cell_type": "code",
      "source": [
        "def Visualization (para_list, auc_list, para_name):\n",
        "  plt.figure(figsize=(10,6))\n",
        "  plt.plot(para_list, auc_list, \"r-o\")\n",
        "#  plt.plot(para_list, valid_acc, \"b-s\", label = \"Validation Set\")\n",
        "  plt.xticks (para_list, para_list)\n",
        "  plt.grid()\n",
        "  plt.legend()\n",
        "  plt.text(str (round (auc_valid, 4)))\n",
        "  plt.xlabel(para_name)\n",
        "  plt.ylabel(\"AUC\")\n",
        "  plt.title(\"AdaBoostClassifier Accuracy vs \" + str(para_name))\n",
        "  plt.show()"
      ],
      "metadata": {
        "id": "ah5LTgpdfRnb"
      },
      "execution_count": null,
      "outputs": []
    },
    {
      "cell_type": "markdown",
      "source": [
        "# **Hyperparameters**"
      ],
      "metadata": {
        "id": "NvofHye2YFBm"
      }
    },
    {
      "cell_type": "markdown",
      "source": [
        "## **Max_Depth**"
      ],
      "metadata": {
        "id": "qnFUYC9rw4AW"
      }
    },
    {
      "cell_type": "code",
      "source": [
        "maxdepth = np.arange(1, 6)\n",
        "auc_list = Max_Depth (X_train, X_valid, y_train, y_valid, maxdepth)"
      ],
      "metadata": {
        "colab": {
          "base_uri": "https://localhost:8080/"
        },
        "id": "eWPH3EDvkV1m",
        "outputId": "ecd015b2-c23d-4bb2-ede8-aed00f62f49d"
      },
      "execution_count": null,
      "outputs": [
        {
          "output_type": "stream",
          "name": "stderr",
          "text": [
            "/usr/local/lib/python3.7/dist-packages/sklearn/utils/validation.py:993: DataConversionWarning: A column-vector y was passed when a 1d array was expected. Please change the shape of y to (n_samples, ), for example using ravel().\n",
            "  y = column_or_1d(y, warn=True)\n",
            "/usr/local/lib/python3.7/dist-packages/sklearn/utils/validation.py:993: DataConversionWarning: A column-vector y was passed when a 1d array was expected. Please change the shape of y to (n_samples, ), for example using ravel().\n",
            "  y = column_or_1d(y, warn=True)\n",
            "/usr/local/lib/python3.7/dist-packages/sklearn/utils/validation.py:993: DataConversionWarning: A column-vector y was passed when a 1d array was expected. Please change the shape of y to (n_samples, ), for example using ravel().\n",
            "  y = column_or_1d(y, warn=True)\n",
            "/usr/local/lib/python3.7/dist-packages/sklearn/utils/validation.py:993: DataConversionWarning: A column-vector y was passed when a 1d array was expected. Please change the shape of y to (n_samples, ), for example using ravel().\n",
            "  y = column_or_1d(y, warn=True)\n",
            "/usr/local/lib/python3.7/dist-packages/sklearn/utils/validation.py:993: DataConversionWarning: A column-vector y was passed when a 1d array was expected. Please change the shape of y to (n_samples, ), for example using ravel().\n",
            "  y = column_or_1d(y, warn=True)\n"
          ]
        }
      ]
    },
    {
      "cell_type": "code",
      "source": [
        "auc_list"
      ],
      "metadata": {
        "colab": {
          "base_uri": "https://localhost:8080/"
        },
        "id": "zrWIG0_mSqa4",
        "outputId": "ec1c50d8-c5c6-4f61-cbf6-9fc35f54348e"
      },
      "execution_count": null,
      "outputs": [
        {
          "output_type": "execute_result",
          "data": {
            "text/plain": [
              "[0.8735709422977604,\n",
              " 0.8540424433071975,\n",
              " 0.7775746513920841,\n",
              " 0.7102768909338466,\n",
              " 0.602716089957275]"
            ]
          },
          "metadata": {},
          "execution_count": 36
        }
      ]
    },
    {
      "cell_type": "code",
      "source": [
        "Visualization (maxdepth, auc_list, \"Max Depth\") "
      ],
      "metadata": {
        "colab": {
          "base_uri": "https://localhost:8080/",
          "height": 422
        },
        "id": "oQvJFze6lBNf",
        "outputId": "be9dd8cf-6a1a-4c68-b36d-46fed0dc785d"
      },
      "execution_count": null,
      "outputs": [
        {
          "output_type": "stream",
          "name": "stderr",
          "text": [
            "WARNING:matplotlib.legend:No handles with labels found to put in legend.\n"
          ]
        },
        {
          "output_type": "display_data",
          "data": {
            "text/plain": [
              "<Figure size 720x432 with 1 Axes>"
            ],
            "image/png": "[encoded data removed]"
          },
          "metadata": {
            "needs_background": "light"
          }
        }
      ]
    },
    {
      "cell_type": "markdown",
      "source": [
        "## **Learning Rate**"
      ],
      "metadata": {
        "id": "PkbXpV-1w7C4"
      }
    },
    {
      "cell_type": "code",
      "source": [
        "learning_rate = np.arange(0.1, 0.35, 0.05)\n",
        "auc_list = Learning_Rate (X_train, X_valid, y_train, y_valid, learning_rate)"
      ],
      "metadata": {
        "colab": {
          "base_uri": "https://localhost:8080/"
        },
        "id": "_a7RMtsyTAvk",
        "outputId": "34dd15ab-61ab-431a-ddf8-8b02024773d4"
      },
      "execution_count": null,
      "outputs": [
        {
          "output_type": "stream",
          "name": "stderr",
          "text": [
            "/usr/local/lib/python3.7/dist-packages/sklearn/utils/validation.py:993: DataConversionWarning: A column-vector y was passed when a 1d array was expected. Please change the shape of y to (n_samples, ), for example using ravel().\n",
            "  y = column_or_1d(y, warn=True)\n",
            "/usr/local/lib/python3.7/dist-packages/sklearn/utils/validation.py:993: DataConversionWarning: A column-vector y was passed when a 1d array was expected. Please change the shape of y to (n_samples, ), for example using ravel().\n",
            "  y = column_or_1d(y, warn=True)\n",
            "/usr/local/lib/python3.7/dist-packages/sklearn/utils/validation.py:993: DataConversionWarning: A column-vector y was passed when a 1d array was expected. Please change the shape of y to (n_samples, ), for example using ravel().\n",
            "  y = column_or_1d(y, warn=True)\n",
            "/usr/local/lib/python3.7/dist-packages/sklearn/utils/validation.py:993: DataConversionWarning: A column-vector y was passed when a 1d array was expected. Please change the shape of y to (n_samples, ), for example using ravel().\n",
            "  y = column_or_1d(y, warn=True)\n",
            "/usr/local/lib/python3.7/dist-packages/sklearn/utils/validation.py:993: DataConversionWarning: A column-vector y was passed when a 1d array was expected. Please change the shape of y to (n_samples, ), for example using ravel().\n",
            "  y = column_or_1d(y, warn=True)\n"
          ]
        }
      ]
    },
    {
      "cell_type": "code",
      "source": [
        "auc_list"
      ],
      "metadata": {
        "colab": {
          "base_uri": "https://localhost:8080/"
        },
        "id": "qPCtTssQTApj",
        "outputId": "fbb813ab-ea2d-4746-a708-b001f8833c90"
      },
      "execution_count": null,
      "outputs": [
        {
          "output_type": "execute_result",
          "data": {
            "text/plain": [
              "[0.8552030024883799,\n",
              " 0.8635895464575801,\n",
              " 0.8678400394384712,\n",
              " 0.8735709422977604,\n",
              " 0.8727258321986948]"
            ]
          },
          "metadata": {},
          "execution_count": 30
        }
      ]
    },
    {
      "cell_type": "code",
      "source": [
        "Visualization (learning_rate.round(4), auc_list, \"Learning Rate\") "
      ],
      "metadata": {
        "colab": {
          "base_uri": "https://localhost:8080/",
          "height": 422
        },
        "id": "CDSenWDITAj5",
        "outputId": "fa06c577-2faa-4075-e05a-1cc8b4c4cdc9"
      },
      "execution_count": null,
      "outputs": [
        {
          "output_type": "stream",
          "name": "stderr",
          "text": [
            "WARNING:matplotlib.legend:No handles with labels found to put in legend.\n"
          ]
        },
        {
          "output_type": "display_data",
          "data": {
            "text/plain": [
              "<Figure size 720x432 with 1 Axes>"
            ],
            "image/png": "[encoded data removed]"
          },
          "metadata": {
            "needs_background": "light"
          }
        }
      ]
    },
    {
      "cell_type": "markdown",
      "source": [
        "## **Estimators**"
      ],
      "metadata": {
        "id": "nTsCdbs0w9QI"
      }
    },
    {
      "cell_type": "code",
      "source": [
        "estimator = np.arange(50, 90, 10)\n",
        "auc_list = num_estimators (X_train, X_valid, y_train, y_valid, estimator)\n",
        "print (auc_list)"
      ],
      "metadata": {
        "colab": {
          "base_uri": "https://localhost:8080/"
        },
        "id": "9fm9XBG4ru0r",
        "outputId": "5017a77e-7f2e-4476-b94c-b7fbfcca3de3"
      },
      "execution_count": null,
      "outputs": [
        {
          "output_type": "stream",
          "name": "stderr",
          "text": [
            "/usr/local/lib/python3.7/dist-packages/sklearn/utils/validation.py:993: DataConversionWarning: A column-vector y was passed when a 1d array was expected. Please change the shape of y to (n_samples, ), for example using ravel().\n",
            "  y = column_or_1d(y, warn=True)\n",
            "/usr/local/lib/python3.7/dist-packages/sklearn/utils/validation.py:993: DataConversionWarning: A column-vector y was passed when a 1d array was expected. Please change the shape of y to (n_samples, ), for example using ravel().\n",
            "  y = column_or_1d(y, warn=True)\n",
            "/usr/local/lib/python3.7/dist-packages/sklearn/utils/validation.py:993: DataConversionWarning: A column-vector y was passed when a 1d array was expected. Please change the shape of y to (n_samples, ), for example using ravel().\n",
            "  y = column_or_1d(y, warn=True)\n",
            "/usr/local/lib/python3.7/dist-packages/sklearn/utils/validation.py:993: DataConversionWarning: A column-vector y was passed when a 1d array was expected. Please change the shape of y to (n_samples, ), for example using ravel().\n",
            "  y = column_or_1d(y, warn=True)\n"
          ]
        },
        {
          "output_type": "stream",
          "name": "stdout",
          "text": [
            "[0.8672091412742382, 0.8686484694117095, 0.8705617047748722, 0.8748972956476829]\n"
          ]
        }
      ]
    },
    {
      "cell_type": "code",
      "source": [
        "Visualization (estimator, auc_list, \"Estimator\") "
      ],
      "metadata": {
        "colab": {
          "base_uri": "https://localhost:8080/",
          "height": 422
        },
        "id": "iCTF5gX0ruxe",
        "outputId": "3d92046a-53b9-44b7-88c5-0e6823148451"
      },
      "execution_count": null,
      "outputs": [
        {
          "output_type": "stream",
          "name": "stderr",
          "text": [
            "WARNING:matplotlib.legend:No handles with labels found to put in legend.\n"
          ]
        },
        {
          "output_type": "display_data",
          "data": {
            "text/plain": [
              "<Figure size 720x432 with 1 Axes>"
            ],
            "image/png": "[encoded data removed]"
          },
          "metadata": {
            "needs_background": "light"
          }
        }
      ]
    },
    {
      "cell_type": "code",
      "source": [
        "estimator = np.arange(70, 140, 10)\n",
        "auc_list = num_estimators (X_train, X_valid, y_train, y_valid, estimator)\n",
        "print (auc_list)\n",
        "Visualization (estimator, auc_list, \"Estimator\") "
      ],
      "metadata": {
        "colab": {
          "base_uri": "https://localhost:8080/",
          "height": 714
        },
        "id": "6Rw3FApxruuR",
        "outputId": "32d926e8-0fb3-4844-a728-fac5bf704f89"
      },
      "execution_count": null,
      "outputs": [
        {
          "output_type": "stream",
          "name": "stderr",
          "text": [
            "/usr/local/lib/python3.7/dist-packages/sklearn/utils/validation.py:993: DataConversionWarning: A column-vector y was passed when a 1d array was expected. Please change the shape of y to (n_samples, ), for example using ravel().\n",
            "  y = column_or_1d(y, warn=True)\n",
            "/usr/local/lib/python3.7/dist-packages/sklearn/utils/validation.py:993: DataConversionWarning: A column-vector y was passed when a 1d array was expected. Please change the shape of y to (n_samples, ), for example using ravel().\n",
            "  y = column_or_1d(y, warn=True)\n",
            "/usr/local/lib/python3.7/dist-packages/sklearn/utils/validation.py:993: DataConversionWarning: A column-vector y was passed when a 1d array was expected. Please change the shape of y to (n_samples, ), for example using ravel().\n",
            "  y = column_or_1d(y, warn=True)\n",
            "/usr/local/lib/python3.7/dist-packages/sklearn/utils/validation.py:993: DataConversionWarning: A column-vector y was passed when a 1d array was expected. Please change the shape of y to (n_samples, ), for example using ravel().\n",
            "  y = column_or_1d(y, warn=True)\n",
            "/usr/local/lib/python3.7/dist-packages/sklearn/utils/validation.py:993: DataConversionWarning: A column-vector y was passed when a 1d array was expected. Please change the shape of y to (n_samples, ), for example using ravel().\n",
            "  y = column_or_1d(y, warn=True)\n",
            "/usr/local/lib/python3.7/dist-packages/sklearn/utils/validation.py:993: DataConversionWarning: A column-vector y was passed when a 1d array was expected. Please change the shape of y to (n_samples, ), for example using ravel().\n",
            "  y = column_or_1d(y, warn=True)\n",
            "/usr/local/lib/python3.7/dist-packages/sklearn/utils/validation.py:993: DataConversionWarning: A column-vector y was passed when a 1d array was expected. Please change the shape of y to (n_samples, ), for example using ravel().\n",
            "  y = column_or_1d(y, warn=True)\n",
            "WARNING:matplotlib.legend:No handles with labels found to put in legend.\n"
          ]
        },
        {
          "output_type": "stream",
          "name": "stdout",
          "text": [
            "[0.8705617047748722, 0.8748972956476829, 0.8758979294802572, 0.875850978919198, 0.8755047185313864, 0.8776732475703086, 0.8767899901403822]\n"
          ]
        },
        {
          "output_type": "display_data",
          "data": {
            "text/plain": [
              "<Figure size 720x432 with 1 Axes>"
            ],
            "image/png": "[encoded data removed]"
          },
          "metadata": {
            "needs_background": "light"
          }
        }
      ]
    },
    {
      "cell_type": "code",
      "source": [
        "estimator = np.arange(140, 200, 10)\n",
        "auc_list = num_estimators (X_train, X_valid, y_train, y_valid, estimator)\n",
        "print (auc_list)\n",
        "Visualization (estimator, auc_list, \"Estimator\") "
      ],
      "metadata": {
        "colab": {
          "base_uri": "https://localhost:8080/",
          "height": 678
        },
        "id": "Y5lS6r6iruqy",
        "outputId": "812fad10-50d9-4ed6-cd9f-71dcc2dd124c"
      },
      "execution_count": null,
      "outputs": [
        {
          "output_type": "stream",
          "name": "stderr",
          "text": [
            "/usr/local/lib/python3.7/dist-packages/sklearn/utils/validation.py:993: DataConversionWarning: A column-vector y was passed when a 1d array was expected. Please change the shape of y to (n_samples, ), for example using ravel().\n",
            "  y = column_or_1d(y, warn=True)\n",
            "/usr/local/lib/python3.7/dist-packages/sklearn/utils/validation.py:993: DataConversionWarning: A column-vector y was passed when a 1d array was expected. Please change the shape of y to (n_samples, ), for example using ravel().\n",
            "  y = column_or_1d(y, warn=True)\n",
            "/usr/local/lib/python3.7/dist-packages/sklearn/utils/validation.py:993: DataConversionWarning: A column-vector y was passed when a 1d array was expected. Please change the shape of y to (n_samples, ), for example using ravel().\n",
            "  y = column_or_1d(y, warn=True)\n",
            "/usr/local/lib/python3.7/dist-packages/sklearn/utils/validation.py:993: DataConversionWarning: A column-vector y was passed when a 1d array was expected. Please change the shape of y to (n_samples, ), for example using ravel().\n",
            "  y = column_or_1d(y, warn=True)\n",
            "/usr/local/lib/python3.7/dist-packages/sklearn/utils/validation.py:993: DataConversionWarning: A column-vector y was passed when a 1d array was expected. Please change the shape of y to (n_samples, ), for example using ravel().\n",
            "  y = column_or_1d(y, warn=True)\n",
            "/usr/local/lib/python3.7/dist-packages/sklearn/utils/validation.py:993: DataConversionWarning: A column-vector y was passed when a 1d array was expected. Please change the shape of y to (n_samples, ), for example using ravel().\n",
            "  y = column_or_1d(y, warn=True)\n",
            "WARNING:matplotlib.legend:No handles with labels found to put in legend.\n"
          ]
        },
        {
          "output_type": "stream",
          "name": "stdout",
          "text": [
            "[0.8788323395464577, 0.8785623738203672, 0.8797332034367812, 0.8804580027231327, 0.8802995445795578, 0.879935677731349]\n"
          ]
        },
        {
          "output_type": "display_data",
          "data": {
            "text/plain": [
              "<Figure size 720x432 with 1 Axes>"
            ],
            "image/png": "[encoded data removed]"
          },
          "metadata": {
            "needs_background": "light"
          }
        }
      ]
    },
    {
      "cell_type": "code",
      "source": [
        "estimator = np.arange(160, 360, 10)\n",
        "auc_list = num_estimators (X_train, X_valid, y_train, y_valid, estimator)\n",
        "print (auc_list)\n",
        "Visualization (estimator, auc_list, \"Estimator\") "
      ],
      "metadata": {
        "colab": {
          "base_uri": "https://localhost:8080/",
          "height": 1000
        },
        "id": "vUuNqaHO3fi0",
        "outputId": "97f368a0-4720-4d93-dd84-5eb99d9df72b"
      },
      "execution_count": null,
      "outputs": [
        {
          "output_type": "stream",
          "name": "stderr",
          "text": [
            "/usr/local/lib/python3.7/dist-packages/sklearn/utils/validation.py:993: DataConversionWarning: A column-vector y was passed when a 1d array was expected. Please change the shape of y to (n_samples, ), for example using ravel().\n",
            "  y = column_or_1d(y, warn=True)\n",
            "/usr/local/lib/python3.7/dist-packages/sklearn/utils/validation.py:993: DataConversionWarning: A column-vector y was passed when a 1d array was expected. Please change the shape of y to (n_samples, ), for example using ravel().\n",
            "  y = column_or_1d(y, warn=True)\n",
            "/usr/local/lib/python3.7/dist-packages/sklearn/utils/validation.py:993: DataConversionWarning: A column-vector y was passed when a 1d array was expected. Please change the shape of y to (n_samples, ), for example using ravel().\n",
            "  y = column_or_1d(y, warn=True)\n",
            "/usr/local/lib/python3.7/dist-packages/sklearn/utils/validation.py:993: DataConversionWarning: A column-vector y was passed when a 1d array was expected. Please change the shape of y to (n_samples, ), for example using ravel().\n",
            "  y = column_or_1d(y, warn=True)\n",
            "/usr/local/lib/python3.7/dist-packages/sklearn/utils/validation.py:993: DataConversionWarning: A column-vector y was passed when a 1d array was expected. Please change the shape of y to (n_samples, ), for example using ravel().\n",
            "  y = column_or_1d(y, warn=True)\n",
            "/usr/local/lib/python3.7/dist-packages/sklearn/utils/validation.py:993: DataConversionWarning: A column-vector y was passed when a 1d array was expected. Please change the shape of y to (n_samples, ), for example using ravel().\n",
            "  y = column_or_1d(y, warn=True)\n",
            "/usr/local/lib/python3.7/dist-packages/sklearn/utils/validation.py:993: DataConversionWarning: A column-vector y was passed when a 1d array was expected. Please change the shape of y to (n_samples, ), for example using ravel().\n",
            "  y = column_or_1d(y, warn=True)\n",
            "/usr/local/lib/python3.7/dist-packages/sklearn/utils/validation.py:993: DataConversionWarning: A column-vector y was passed when a 1d array was expected. Please change the shape of y to (n_samples, ), for example using ravel().\n",
            "  y = column_or_1d(y, warn=True)\n",
            "/usr/local/lib/python3.7/dist-packages/sklearn/utils/validation.py:993: DataConversionWarning: A column-vector y was passed when a 1d array was expected. Please change the shape of y to (n_samples, ), for example using ravel().\n",
            "  y = column_or_1d(y, warn=True)\n",
            "/usr/local/lib/python3.7/dist-packages/sklearn/utils/validation.py:993: DataConversionWarning: A column-vector y was passed when a 1d array was expected. Please change the shape of y to (n_samples, ), for example using ravel().\n",
            "  y = column_or_1d(y, warn=True)\n",
            "/usr/local/lib/python3.7/dist-packages/sklearn/utils/validation.py:993: DataConversionWarning: A column-vector y was passed when a 1d array was expected. Please change the shape of y to (n_samples, ), for example using ravel().\n",
            "  y = column_or_1d(y, warn=True)\n",
            "/usr/local/lib/python3.7/dist-packages/sklearn/utils/validation.py:993: DataConversionWarning: A column-vector y was passed when a 1d array was expected. Please change the shape of y to (n_samples, ), for example using ravel().\n",
            "  y = column_or_1d(y, warn=True)\n",
            "/usr/local/lib/python3.7/dist-packages/sklearn/utils/validation.py:993: DataConversionWarning: A column-vector y was passed when a 1d array was expected. Please change the shape of y to (n_samples, ), for example using ravel().\n",
            "  y = column_or_1d(y, warn=True)\n",
            "/usr/local/lib/python3.7/dist-packages/sklearn/utils/validation.py:993: DataConversionWarning: A column-vector y was passed when a 1d array was expected. Please change the shape of y to (n_samples, ), for example using ravel().\n",
            "  y = column_or_1d(y, warn=True)\n",
            "/usr/local/lib/python3.7/dist-packages/sklearn/utils/validation.py:993: DataConversionWarning: A column-vector y was passed when a 1d array was expected. Please change the shape of y to (n_samples, ), for example using ravel().\n",
            "  y = column_or_1d(y, warn=True)\n",
            "/usr/local/lib/python3.7/dist-packages/sklearn/utils/validation.py:993: DataConversionWarning: A column-vector y was passed when a 1d array was expected. Please change the shape of y to (n_samples, ), for example using ravel().\n",
            "  y = column_or_1d(y, warn=True)\n",
            "/usr/local/lib/python3.7/dist-packages/sklearn/utils/validation.py:993: DataConversionWarning: A column-vector y was passed when a 1d array was expected. Please change the shape of y to (n_samples, ), for example using ravel().\n",
            "  y = column_or_1d(y, warn=True)\n",
            "/usr/local/lib/python3.7/dist-packages/sklearn/utils/validation.py:993: DataConversionWarning: A column-vector y was passed when a 1d array was expected. Please change the shape of y to (n_samples, ), for example using ravel().\n",
            "  y = column_or_1d(y, warn=True)\n",
            "/usr/local/lib/python3.7/dist-packages/sklearn/utils/validation.py:993: DataConversionWarning: A column-vector y was passed when a 1d array was expected. Please change the shape of y to (n_samples, ), for example using ravel().\n",
            "  y = column_or_1d(y, warn=True)\n",
            "/usr/local/lib/python3.7/dist-packages/sklearn/utils/validation.py:993: DataConversionWarning: A column-vector y was passed when a 1d array was expected. Please change the shape of y to (n_samples, ), for example using ravel().\n",
            "  y = column_or_1d(y, warn=True)\n",
            "WARNING:matplotlib.legend:No handles with labels found to put in legend.\n"
          ]
        },
        {
          "output_type": "stream",
          "name": "stdout",
          "text": [
            "[0.8797332034367812, 0.8804580027231327, 0.8802995445795578, 0.879935677731349, 0.8800383820836659, 0.8805254941546552, 0.8802173810977041, 0.8801909714071083, 0.881285506361801, 0.8811769331893515, 0.8818401098643127, 0.8808834921827315, 0.8793575989483075, 0.8786357340720221, 0.8779549509366638, 0.8768281374712427, 0.8774179538945491, 0.8766608760974693, 0.8768868256725667, 0.8777201981313676]\n"
          ]
        },
        {
          "output_type": "display_data",
          "data": {
            "text/plain": [
              "<Figure size 720x432 with 1 Axes>"
            ],
            "image/png": "[encoded data removed]"
          },
          "metadata": {
            "needs_background": "light"
          }
        }
      ]
    },
    {
      "cell_type": "code",
      "source": [],
      "metadata": {
        "id": "jZb47pTd3fdC"
      },
      "execution_count": null,
      "outputs": []
    },
    {
      "cell_type": "code",
      "source": [],
      "metadata": {
        "id": "4IZksaK-3fX-"
      },
      "execution_count": null,
      "outputs": []
    },
    {
      "cell_type": "markdown",
      "source": [
        "# **Train on the whole dataset**"
      ],
      "metadata": {
        "id": "YVfDyBhUYLP5"
      }
    },
    {
      "cell_type": "code",
      "source": [
        "max_depth=1\n",
        "n_estimators=260\n",
        "learning_rate=0.25"
      ],
      "metadata": {
        "id": "VLXa_SV0d4Q9"
      },
      "execution_count": null,
      "outputs": []
    },
    {
      "cell_type": "code",
      "source": [
        "y_train = pd.read_csv(\"Y_train.csv\")\n",
        "y_valid = pd.read_csv(\"Y_valid.csv\")\n",
        "y_train.info()\n",
        "\n",
        "X_train = pd.read_csv(\"aggregated_features_table_train_1.csv\") # index_col = [0]\n",
        "X_valid = pd.read_csv(\"aggregated_features_table_valid_1.csv\")\n",
        "X_test = pd.read_csv(\"aggregated_features_table_test_1.csv\")\n",
        "X_train.info()"
      ],
      "metadata": {
        "colab": {
          "base_uri": "https://localhost:8080/"
        },
        "id": "izDtkZhEdkmS",
        "outputId": "877a14ff-98f9-459c-8224-d74daa18f4d6"
      },
      "execution_count": null,
      "outputs": [
        {
          "output_type": "stream",
          "name": "stdout",
          "text": [
            "<class 'pandas.core.frame.DataFrame'>\n",
            "RangeIndex: 16760 entries, 0 to 16759\n",
            "Data columns (total 1 columns):\n",
            " #   Column    Non-Null Count  Dtype\n",
            "---  ------    --------------  -----\n",
            " 0   mort_icu  16760 non-null  int64\n",
            "dtypes: int64(1)\n",
            "memory usage: 131.1 KB\n",
            "<class 'pandas.core.frame.DataFrame'>\n",
            "RangeIndex: 16760 entries, 0 to 16759\n",
            "Columns: 312 entries, glucose_mean to creatinine body fluid_time\n",
            "dtypes: float64(208), int64(104)\n",
            "memory usage: 39.9 MB\n"
          ]
        }
      ]
    },
    {
      "cell_type": "code",
      "source": [
        "X_total=pd.concat([X_train, X_valid])\n",
        "y_total=pd.concat([y_train, y_valid])\n",
        "X_total.shape"
      ],
      "metadata": {
        "colab": {
          "base_uri": "https://localhost:8080/"
        },
        "id": "QJu2qXuGYOzy",
        "outputId": "f70e644f-c270-4dba-96e3-bee5632b82ac"
      },
      "execution_count": null,
      "outputs": [
        {
          "output_type": "execute_result",
          "data": {
            "text/plain": [
              "(19154, 312)"
            ]
          },
          "metadata": {},
          "execution_count": 81
        }
      ]
    },
    {
      "cell_type": "code",
      "source": [
        "dtc = DecisionTreeClassifier(max_depth=max_depth, random_state=1)\n",
        "abc = AdaBoostClassifier(base_estimator=dtc, n_estimators=n_estimators, learning_rate=learning_rate, random_state=1)\n",
        "abc=abc.fit(X_total, y_total)\n",
        "y_test_pred = abc.predict(X_test)\n",
        "y_test_scores = abc.predict_proba(X_test)[:, 1]"
      ],
      "metadata": {
        "colab": {
          "base_uri": "https://localhost:8080/"
        },
        "id": "J_n94iMoYO7N",
        "outputId": "3e7550f6-56d1-4216-cdce-48bbc5979df8"
      },
      "execution_count": null,
      "outputs": [
        {
          "output_type": "stream",
          "name": "stderr",
          "text": [
            "/usr/local/lib/python3.7/dist-packages/sklearn/utils/validation.py:993: DataConversionWarning: A column-vector y was passed when a 1d array was expected. Please change the shape of y to (n_samples, ), for example using ravel().\n",
            "  y = column_or_1d(y, warn=True)\n"
          ]
        }
      ]
    },
    {
      "cell_type": "code",
      "source": [
        "df = pd.DataFrame (y_test_scores, columns=[\"mort_icu\"])\n",
        "df.to_csv('Y_Test_AdaBoost.csv')"
      ],
      "metadata": {
        "id": "5SnbdNljYO4J"
      },
      "execution_count": null,
      "outputs": []
    },
    {
      "cell_type": "code",
      "source": [
        "# Testing \n",
        "y_valid_scores = abc.predict_proba(X_valid)[:, 1]\n",
        "fpr, tpr, threshold = roc_curve(y_valid, y_valid_scores)\n",
        "auc_valid = auc(fpr, tpr)\n",
        "df = pd.DataFrame (y_valid_scores, columns=[\"mort_icu\"])\n",
        "df.to_csv('Y_Valid_AdaBoost.csv')\n",
        "auc_valid"
      ],
      "metadata": {
        "colab": {
          "base_uri": "https://localhost:8080/"
        },
        "id": "gbGc2B_dfSEi",
        "outputId": "11708101-ca8d-42f5-f8b9-5cf1aece3e24"
      },
      "execution_count": null,
      "outputs": [
        {
          "output_type": "execute_result",
          "data": {
            "text/plain": [
              "0.8918845955209164"
            ]
          },
          "metadata": {},
          "execution_count": 70
        }
      ]
    },
    {
      "cell_type": "markdown",
      "source": [
        "# **Analysis on hyperparameters**"
      ],
      "metadata": {
        "id": "lhZi7ANXCQhS"
      }
    },
    {
      "cell_type": "markdown",
      "source": [
        "# **K-Fold Validation**"
      ],
      "metadata": {
        "id": "fVdXeZGxOM8O"
      }
    },
    {
      "cell_type": "markdown",
      "source": [
        "## 1. Analysis on max_depth -> Max_depth = 1"
      ],
      "metadata": {
        "id": "huybZUKaEn6c"
      }
    },
    {
      "cell_type": "code",
      "source": [
        "kf = KFold(n_splits=5)\n",
        "maxdepth = np.arange(1, 11)\n",
        "K = 1\n",
        "train_acc_total = pd.DataFrame(index = maxdepth, columns = [1, 2, 3, 4, 5])\n",
        "valid_acc_total = pd.DataFrame(index = maxdepth, columns = [1, 2, 3, 4, 5])\n",
        "for train_index, test_index in kf.split(X_train):\n",
        "  print(\"TRAIN:\", train_index, \"TEST:\", test_index)\n",
        "  X_train_1, X_test_1 = X_train.loc[train_index, :], X_train.loc[test_index, :]\n",
        "  print (X_train_1.shape, X_test_1.shape)\n",
        "  y_train_1, y_test_1 = y_train.loc[train_index, :], y_train.loc[test_index, :]\n",
        "  train_acc = []; valid_acc = []\n",
        "  train_acc, valid_acc = Max_Depth (X_train_1, X_test_1, y_train_1, y_test_1, maxdepth)\n",
        "  train_acc_total[K] = train_acc; valid_acc_total[K] = valid_acc\n",
        "  K += 1"
      ],
      "metadata": {
        "id": "Q9KBbvfDOPLT"
      },
      "execution_count": null,
      "outputs": []
    },
    {
      "cell_type": "code",
      "source": [
        "train_acc_total"
      ],
      "metadata": {
        "id": "FedmgVoC6O3s"
      },
      "execution_count": null,
      "outputs": []
    },
    {
      "cell_type": "code",
      "source": [
        "Visualization (maxdepth, train_acc_total.mean(axis=1), valid_acc_total.mean(axis=1), \"Max Depth\") "
      ],
      "metadata": {
        "id": "DFMuhZr8ENxK"
      },
      "execution_count": null,
      "outputs": []
    },
    {
      "cell_type": "markdown",
      "source": [
        "## 2. Analysis on learning rate"
      ],
      "metadata": {
        "id": "pIZnymyAEuxf"
      }
    },
    {
      "cell_type": "code",
      "source": [
        "kf = KFold(n_splits=5)\n",
        "maxdepth = np.arange(1, 11)\n",
        "K = 1\n",
        "learning_rate = np.arange(0.05, 1, 0.05)\n",
        "train_acc_total = pd.DataFrame(index = learning_rate, columns = [1, 2, 3, 4, 5])\n",
        "valid_acc_total = pd.DataFrame(index = learning_rate, columns = [1, 2, 3, 4, 5])\n",
        "for train_index, test_index in kf.split(X_train):\n",
        "  print(\"TRAIN:\", train_index, \"TEST:\", test_index)\n",
        "  X_train_1, X_test_1 = X_train.loc[train_index, :], X_train.loc[test_index, :]\n",
        "  print (X_train_1.shape, X_test_1.shape)\n",
        "  y_train_1, y_test_1 = y_train.loc[train_index, :], y_train.loc[test_index, :]\n",
        "  train_acc = []; valid_acc = []\n",
        "  train_acc, valid_acc = Learning_Rate (X_train_1, X_test_1, y_train_1, y_test_1, learning_rate)\n",
        "  train_acc_total[K] = train_acc; valid_acc_total[K] = valid_acc\n",
        "  K += 1"
      ],
      "metadata": {
        "id": "BIPXWTrgEw8U"
      },
      "execution_count": null,
      "outputs": []
    },
    {
      "cell_type": "code",
      "source": [
        "train_acc_total"
      ],
      "metadata": {
        "id": "GpLUejXy56l0"
      },
      "execution_count": null,
      "outputs": []
    },
    {
      "cell_type": "code",
      "source": [
        "Visualization (learning_rate.round(2), train_acc_total.mean(axis=1), valid_acc_total.mean(axis=1), \"Learning Rate\") "
      ],
      "metadata": {
        "id": "mQ2qZKPNWypp"
      },
      "execution_count": null,
      "outputs": []
    },
    {
      "cell_type": "code",
      "source": [
        "kf = KFold(n_splits=5)\n",
        "maxdepth = np.arange(1, 11)\n",
        "K = 1\n",
        "learning_rate = np.arange(0.01, 0.05, 0.01)\n",
        "train_acc_total = pd.DataFrame(index = learning_rate, columns = [1, 2, 3, 4, 5])\n",
        "valid_acc_total = pd.DataFrame(index = learning_rate, columns = [1, 2, 3, 4, 5])\n",
        "for train_index, test_index in kf.split(X_train):\n",
        "  print(\"TRAIN:\", train_index, \"TEST:\", test_index)\n",
        "  X_train_1, X_test_1 = X_train.loc[train_index, :], X_train.loc[test_index, :]\n",
        "  print (X_train_1.shape, X_test_1.shape)\n",
        "  y_train_1, y_test_1 = y_train.loc[train_index, :], y_train.loc[test_index, :]\n",
        "  train_acc = []; valid_acc = []\n",
        "  train_acc, valid_acc = Learning_Rate (X_train_1, X_test_1, y_train_1, y_test_1, learning_rate)\n",
        "  train_acc_total[K] = train_acc; valid_acc_total[K] = valid_acc\n",
        "  K += 1"
      ],
      "metadata": {
        "id": "TCnXZpF1XGgW"
      },
      "execution_count": null,
      "outputs": []
    },
    {
      "cell_type": "code",
      "source": [
        "Visualization (learning_rate.round(2), train_acc_total.mean(axis=1), valid_acc_total.mean(axis=1), \"Learning Rate\") "
      ],
      "metadata": {
        "id": "TaYaRpG8XGc2"
      },
      "execution_count": null,
      "outputs": []
    },
    {
      "cell_type": "code",
      "source": [
        "kf = KFold(n_splits=5)\n",
        "maxdepth = np.arange(1, 11)\n",
        "K = 1\n",
        "learning_rate = np.arange(0.01, 0.005, 0.02)\n",
        "train_acc_total = pd.DataFrame(index = learning_rate, columns = [1, 2, 3, 4, 5])\n",
        "valid_acc_total = pd.DataFrame(index = learning_rate, columns = [1, 2, 3, 4, 5])\n",
        "for train_index, test_index in kf.split(X_train):\n",
        "  print(\"TRAIN:\", train_index, \"TEST:\", test_index)\n",
        "  X_train_1, X_test_1 = X_train.loc[train_index, :], X_train.loc[test_index, :]\n",
        "  print (X_train_1.shape, X_test_1.shape)\n",
        "  y_train_1, y_test_1 = y_train.loc[train_index, :], y_train.loc[test_index, :]\n",
        "  train_acc = []; valid_acc = []\n",
        "  train_acc, valid_acc = Learning_Rate (X_train_1, X_test_1, y_train_1, y_test_1, learning_rate)\n",
        "  train_acc_total[K] = train_acc; valid_acc_total[K] = valid_acc\n",
        "  K += 1"
      ],
      "metadata": {
        "id": "N_LPlDysXGZ8"
      },
      "execution_count": null,
      "outputs": []
    },
    {
      "cell_type": "code",
      "source": [
        "Visualization (learning_rate.round(2), train_acc_total.mean(axis=1), valid_acc_total.mean(axis=1), \"Learning Rate\") "
      ],
      "metadata": {
        "id": "OTb-h9SGXGTK"
      },
      "execution_count": null,
      "outputs": []
    },
    {
      "cell_type": "code",
      "source": [],
      "metadata": {
        "id": "AKNMFN9FI0pc"
      },
      "execution_count": null,
      "outputs": []
    }
  ]
}